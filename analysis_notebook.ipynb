{
 "cells": [
  {
   "cell_type": "markdown",
   "metadata": {},
   "source": [
    "# Análisis Competitivo de Productos - Coppel México\n",
    "\n",
    "**Fecha**: 2025-10-13  \n",
    "**Objetivo**: Análisis exploratorio de datos obtenidos mediante web scraping de competidores de Coppel en la categoría de electrónica (refrigeradores).\n",
    "\n",
    "## Contenido\n",
    "\n",
    "1. [Configuración y Carga de Datos](#1.-Configuración-y-Carga-de-Datos)\n",
    "2. [Limpieza y Validación de Datos](#2.-Limpieza-y-Validación-de-Datos)\n",
    "3. [Análisis Exploratorio de Datos (EDA)](#3.-Análisis-Exploratorio-de-Datos)\n",
    "4. [Análisis de Competitividad](#4.-Análisis-de-Competitividad)\n",
    "5. [Análisis de Atributos Técnicos](#5.-Análisis-de-Atributos-Técnicos)\n",
    "6. [Visualizaciones Avanzadas](#6.-Visualizaciones-Avanzadas)\n",
    "7. [Insights y Recomendaciones](#7.-Insights-y-Recomendaciones)"
   ]
  },
  {
   "cell_type": "markdown",
   "metadata": {},
   "source": [
    "## 1. Configuración y Carga de Datos"
   ]
  },
  {
   "cell_type": "code",
   "execution_count": 12,
   "metadata": {},
   "outputs": [
    {
     "name": "stdout",
     "output_type": "stream",
     "text": [
      "✓ Librerías importadas correctamente\n",
      "Pandas versión: 2.3.3\n",
      "NumPy versión: 2.1.3\n"
     ]
    }
   ],
   "source": [
    "# Importación de librerías\n",
    "import pandas as pd\n",
    "import numpy as np\n",
    "import matplotlib.pyplot as plt\n",
    "import seaborn as sns\n",
    "import plotly.express as px\n",
    "import plotly.graph_objects as go\n",
    "from plotly.subplots import make_subplots\n",
    "import warnings\n",
    "from datetime import datetime\n",
    "\n",
    "# Configuración de visualización\n",
    "warnings.filterwarnings('ignore')\n",
    "pd.set_option('display.max_columns', None)\n",
    "pd.set_option('display.max_rows', 100)\n",
    "pd.set_option('display.float_format', '{:.2f}'.format)\n",
    "\n",
    "# Estilo de gráficos\n",
    "plt.style.use('seaborn-v0_8-darkgrid')\n",
    "sns.set_palette(\"husl\")\n",
    "\n",
    "# Configuración de tamaño de figuras\n",
    "%matplotlib inline\n",
    "plt.rcParams['figure.figsize'] = (12, 6)\n",
    "plt.rcParams['font.size'] = 10\n",
    "\n",
    "print(\"✓ Librerías importadas correctamente\")\n",
    "print(f\"Pandas versión: {pd.__version__}\")\n",
    "print(f\"NumPy versión: {np.__version__}\")"
   ]
  },
  {
   "cell_type": "code",
   "execution_count": 13,
   "metadata": {},
   "outputs": [
    {
     "name": "stdout",
     "output_type": "stream",
     "text": [
      "Cargando datasets...\n",
      "\n",
      "✓ Dataset 'exact_match' cargado: 200 filas x 10 columnas\n",
      "✓ Dataset 'detailed' cargado: 107 filas x 52 columnas\n"
     ]
    }
   ],
   "source": [
    "# Carga de datasets\n",
    "print(\"Cargando datasets...\")\n",
    "\n",
    "# Dataset 1: Exact Match Data\n",
    "df_exact_match = pd.read_csv(\n",
    "    'exact_match_data_2025-10-10_Coppel Mx_ELECTRONICS.csv',\n",
    "    encoding='utf-8'\n",
    ")\n",
    "\n",
    "# Dataset 2: Detailed Analysis\n",
    "df_detailed = pd.read_csv(\n",
    "    'analyse_item_list_Coppel Mx (8).csv',\n",
    "    encoding='utf-8'\n",
    ")\n",
    "\n",
    "print(f\"\\n✓ Dataset 'exact_match' cargado: {df_exact_match.shape[0]} filas x {df_exact_match.shape[1]} columnas\")\n",
    "print(f\"✓ Dataset 'detailed' cargado: {df_detailed.shape[0]} filas x {df_detailed.shape[1]} columnas\")"
   ]
  },
  {
   "cell_type": "code",
   "execution_count": 14,
   "metadata": {},
   "outputs": [
    {
     "name": "stdout",
     "output_type": "stream",
     "text": [
      "================================================================================\n",
      "DATASET 1: EXACT MATCH DATA\n",
      "================================================================================\n"
     ]
    },
    {
     "data": {
      "text/html": [
       "<div>\n",
       "<style scoped>\n",
       "    .dataframe tbody tr th:only-of-type {\n",
       "        vertical-align: middle;\n",
       "    }\n",
       "\n",
       "    .dataframe tbody tr th {\n",
       "        vertical-align: top;\n",
       "    }\n",
       "\n",
       "    .dataframe thead th {\n",
       "        text-align: right;\n",
       "    }\n",
       "</style>\n",
       "<table border=\"1\" class=\"dataframe\">\n",
       "  <thead>\n",
       "    <tr style=\"text-align: right;\">\n",
       "      <th></th>\n",
       "      <th>Sku_id</th>\n",
       "      <th>Name</th>\n",
       "      <th>Category</th>\n",
       "      <th>Brand</th>\n",
       "      <th>Url</th>\n",
       "      <th>Price</th>\n",
       "      <th>Discount</th>\n",
       "      <th>Out</th>\n",
       "      <th>Status</th>\n",
       "      <th>Difference</th>\n",
       "    </tr>\n",
       "  </thead>\n",
       "  <tbody>\n",
       "    <tr>\n",
       "      <th>0</th>\n",
       "      <td>MKP-74381260</td>\n",
       "      <td>Refrigerador Tcl 6 Pies Cúbicos Con Dispensado...</td>\n",
       "      <td>IN &gt; Electronics &gt; Kitchen Appliances &gt; Refrig...</td>\n",
       "      <td>tcl</td>\n",
       "      <td>https://www.coppel.com/refrigerador-tcl-6-pies...</td>\n",
       "      <td>4599.00</td>\n",
       "      <td>1150.00</td>\n",
       "      <td>True</td>\n",
       "      <td>Out Of Stock</td>\n",
       "      <td>0</td>\n",
       "    </tr>\n",
       "    <tr>\n",
       "      <th>1</th>\n",
       "      <td>MKP-74381190</td>\n",
       "      <td>Refrigerador Aurus Aru07wb 7p3 Dark Silver C/d...</td>\n",
       "      <td>IN &gt; Electronics &gt; Kitchen Appliances &gt; Refrig...</td>\n",
       "      <td>aurus</td>\n",
       "      <td>https://www.coppel.com/refrigerador-aurus-aru0...</td>\n",
       "      <td>5109.00</td>\n",
       "      <td>2190.00</td>\n",
       "      <td>True</td>\n",
       "      <td>Out Of Stock</td>\n",
       "      <td>0</td>\n",
       "    </tr>\n",
       "    <tr>\n",
       "      <th>2</th>\n",
       "      <td>632724</td>\n",
       "      <td>Refrigerador Hisense RR63D6WWX Una Puerta 7 Pi...</td>\n",
       "      <td>IN &gt; Electronics &gt; Kitchen Appliances &gt; Refrig...</td>\n",
       "      <td>hisense</td>\n",
       "      <td>https://www.coppel.com/refrigerador-hisense-rr...</td>\n",
       "      <td>5499.00</td>\n",
       "      <td>2500.00</td>\n",
       "      <td>True</td>\n",
       "      <td>Out Of Stock</td>\n",
       "      <td>0</td>\n",
       "    </tr>\n",
       "    <tr>\n",
       "      <th>3</th>\n",
       "      <td>625711</td>\n",
       "      <td>Refrigerador Hisense Una Puerta RR63D6WBX 7 Pi...</td>\n",
       "      <td>IN &gt; Electronics &gt; Kitchen Appliances &gt; Refrig...</td>\n",
       "      <td>hisense</td>\n",
       "      <td>https://www.coppel.com/refrigerador-hisense-rr...</td>\n",
       "      <td>5599.00</td>\n",
       "      <td>3100.00</td>\n",
       "      <td>True</td>\n",
       "      <td>Out Of Stock</td>\n",
       "      <td>0</td>\n",
       "    </tr>\n",
       "    <tr>\n",
       "      <th>4</th>\n",
       "      <td>662933</td>\n",
       "      <td>Refrigerador Aspix Top Mount 7.3 Pies Negro RC...</td>\n",
       "      <td>IN &gt; Electronics &gt; Kitchen Appliances &gt; Refrig...</td>\n",
       "      <td>aspix</td>\n",
       "      <td>https://www.coppel.com/refrigerador-aspix-top-...</td>\n",
       "      <td>5799.00</td>\n",
       "      <td>2900.00</td>\n",
       "      <td>True</td>\n",
       "      <td>Out Of Stock</td>\n",
       "      <td>0</td>\n",
       "    </tr>\n",
       "  </tbody>\n",
       "</table>\n",
       "</div>"
      ],
      "text/plain": [
       "         Sku_id                                               Name  \\\n",
       "0  MKP-74381260  Refrigerador Tcl 6 Pies Cúbicos Con Dispensado...   \n",
       "1  MKP-74381190  Refrigerador Aurus Aru07wb 7p3 Dark Silver C/d...   \n",
       "2        632724  Refrigerador Hisense RR63D6WWX Una Puerta 7 Pi...   \n",
       "3        625711  Refrigerador Hisense Una Puerta RR63D6WBX 7 Pi...   \n",
       "4        662933  Refrigerador Aspix Top Mount 7.3 Pies Negro RC...   \n",
       "\n",
       "                                            Category    Brand  \\\n",
       "0  IN > Electronics > Kitchen Appliances > Refrig...      tcl   \n",
       "1  IN > Electronics > Kitchen Appliances > Refrig...    aurus   \n",
       "2  IN > Electronics > Kitchen Appliances > Refrig...  hisense   \n",
       "3  IN > Electronics > Kitchen Appliances > Refrig...  hisense   \n",
       "4  IN > Electronics > Kitchen Appliances > Refrig...    aspix   \n",
       "\n",
       "                                                 Url   Price  Discount   Out  \\\n",
       "0  https://www.coppel.com/refrigerador-tcl-6-pies... 4599.00   1150.00  True   \n",
       "1  https://www.coppel.com/refrigerador-aurus-aru0... 5109.00   2190.00  True   \n",
       "2  https://www.coppel.com/refrigerador-hisense-rr... 5499.00   2500.00  True   \n",
       "3  https://www.coppel.com/refrigerador-hisense-rr... 5599.00   3100.00  True   \n",
       "4  https://www.coppel.com/refrigerador-aspix-top-... 5799.00   2900.00  True   \n",
       "\n",
       "         Status  Difference  \n",
       "0  Out Of Stock           0  \n",
       "1  Out Of Stock           0  \n",
       "2  Out Of Stock           0  \n",
       "3  Out Of Stock           0  \n",
       "4  Out Of Stock           0  "
      ]
     },
     "metadata": {},
     "output_type": "display_data"
    },
    {
     "name": "stdout",
     "output_type": "stream",
     "text": [
      "\n",
      "================================================================================\n",
      "DATASET 2: DETAILED ANALYSIS\n",
      "================================================================================\n"
     ]
    },
    {
     "data": {
      "text/html": [
       "<div>\n",
       "<style scoped>\n",
       "    .dataframe tbody tr th:only-of-type {\n",
       "        vertical-align: middle;\n",
       "    }\n",
       "\n",
       "    .dataframe tbody tr th {\n",
       "        vertical-align: top;\n",
       "    }\n",
       "\n",
       "    .dataframe thead th {\n",
       "        text-align: right;\n",
       "    }\n",
       "</style>\n",
       "<table border=\"1\" class=\"dataframe\">\n",
       "  <thead>\n",
       "    <tr style=\"text-align: right;\">\n",
       "      <th></th>\n",
       "      <th>Mongo_id</th>\n",
       "      <th>Sku</th>\n",
       "      <th>Name</th>\n",
       "      <th>Price</th>\n",
       "      <th>Host</th>\n",
       "      <th>Brand</th>\n",
       "      <th>Currency</th>\n",
       "      <th>Category</th>\n",
       "      <th>Url</th>\n",
       "      <th>Discount</th>\n",
       "      <th>Discount_Percent</th>\n",
       "      <th>Availability</th>\n",
       "      <th>Category.1</th>\n",
       "      <th>Color</th>\n",
       "      <th>Washing_machine_type</th>\n",
       "      <th>Washing_machine_capacity</th>\n",
       "      <th>Washing_machine_model</th>\n",
       "      <th>Dryer_model</th>\n",
       "      <th>Refrigerator_model</th>\n",
       "      <th>Phone_model</th>\n",
       "      <th>Cooktop_model</th>\n",
       "      <th>Storage</th>\n",
       "      <th>Operating_system</th>\n",
       "      <th>Washing_program</th>\n",
       "      <th>Control_panel</th>\n",
       "      <th>Cooktop_size</th>\n",
       "      <th>Stove_type</th>\n",
       "      <th>Ignition</th>\n",
       "      <th>No_of_burners</th>\n",
       "      <th>Cooktop_type</th>\n",
       "      <th>Glass_stove_cover</th>\n",
       "      <th>Saving_energy_or_water</th>\n",
       "      <th>Control_panel.1</th>\n",
       "      <th>Special_features</th>\n",
       "      <th>No_of_doors</th>\n",
       "      <th>Refrigeration_and_cooling_technology</th>\n",
       "      <th>Shipping_time</th>\n",
       "      <th>Shipping_fees</th>\n",
       "      <th>Temperature_control</th>\n",
       "      <th>Display</th>\n",
       "      <th>No_of_drawers</th>\n",
       "      <th>Type_of_thaw</th>\n",
       "      <th>Freezer_location</th>\n",
       "      <th>Capacity_in_feet</th>\n",
       "      <th>Refrigerator_type</th>\n",
       "      <th>Semiautomatic</th>\n",
       "      <th>Product_emi_plan</th>\n",
       "      <th>Engine_displacement</th>\n",
       "      <th>Motorcycle_type</th>\n",
       "      <th>Helmet_type</th>\n",
       "      <th>Certification</th>\n",
       "      <th>Seller</th>\n",
       "    </tr>\n",
       "  </thead>\n",
       "  <tbody>\n",
       "    <tr>\n",
       "      <th>0</th>\n",
       "      <td>682b2858e635c648ff03f414</td>\n",
       "      <td>660,582</td>\n",
       "      <td>Refrigerador Mabe Top Mount 10 Pies Negro RMA2...</td>\n",
       "      <td>12,499.0</td>\n",
       "      <td>Coppel Mx</td>\n",
       "      <td>Mabe</td>\n",
       "      <td>peso</td>\n",
       "      <td>Inicio &gt; Línea Blanca &gt; Refrigeradores y conge...</td>\n",
       "      <td>https://www.coppel.com/refrigerador-mabe-top-m...</td>\n",
       "      <td>3,700.0</td>\n",
       "      <td>22.84</td>\n",
       "      <td>False</td>\n",
       "      <td>IN &gt; Electronics &gt; Kitchen Appliances &gt; Refrig...</td>\n",
       "      <td>black</td>\n",
       "      <td>NaN</td>\n",
       "      <td>NaN</td>\n",
       "      <td>NaN</td>\n",
       "      <td>NaN</td>\n",
       "      <td>rma250pvmrp0</td>\n",
       "      <td>NaN</td>\n",
       "      <td>NaN</td>\n",
       "      <td>NaN</td>\n",
       "      <td>NaN</td>\n",
       "      <td>NaN</td>\n",
       "      <td>manual</td>\n",
       "      <td>NaN</td>\n",
       "      <td>NaN</td>\n",
       "      <td>NaN</td>\n",
       "      <td>NaN</td>\n",
       "      <td>NaN</td>\n",
       "      <td>NaN</td>\n",
       "      <td>yes</td>\n",
       "      <td>manual</td>\n",
       "      <td>NaN</td>\n",
       "      <td>2.00</td>\n",
       "      <td>NaN</td>\n",
       "      <td>*Dependerá del domicilio de entrega Recíbelo e...</td>\n",
       "      <td>Envío gratis*</td>\n",
       "      <td>NaN</td>\n",
       "      <td>NaN</td>\n",
       "      <td>1.00</td>\n",
       "      <td>NaN</td>\n",
       "      <td>top</td>\n",
       "      <td>10 feet</td>\n",
       "      <td>top mount</td>\n",
       "      <td>NaN</td>\n",
       "      <td>Desde $492 quincenales 11791 pesos en 24 quinc...</td>\n",
       "      <td>NaN</td>\n",
       "      <td>NaN</td>\n",
       "      <td>NaN</td>\n",
       "      <td>NaN</td>\n",
       "      <td>Coppel</td>\n",
       "    </tr>\n",
       "    <tr>\n",
       "      <th>1</th>\n",
       "      <td>682eafa32441b2e0540d5bda</td>\n",
       "      <td>660,922</td>\n",
       "      <td>Refrigerador Samsung French Door 32 Pies Black...</td>\n",
       "      <td>38,999.0</td>\n",
       "      <td>Coppel Mx</td>\n",
       "      <td>Samsung</td>\n",
       "      <td>peso</td>\n",
       "      <td>Inicio &gt; Línea Blanca &gt; Refrigeradores y conge...</td>\n",
       "      <td>https://www.coppel.com/refrigerador-samsung-fr...</td>\n",
       "      <td>14,500.0</td>\n",
       "      <td>27.10</td>\n",
       "      <td>False</td>\n",
       "      <td>IN &gt; Electronics &gt; Kitchen Appliances &gt; Refrig...</td>\n",
       "      <td>black</td>\n",
       "      <td>NaN</td>\n",
       "      <td>NaN</td>\n",
       "      <td>NaN</td>\n",
       "      <td>NaN</td>\n",
       "      <td>rf32cg5n10b1em</td>\n",
       "      <td>NaN</td>\n",
       "      <td>NaN</td>\n",
       "      <td>NaN</td>\n",
       "      <td>NaN</td>\n",
       "      <td>NaN</td>\n",
       "      <td>digital</td>\n",
       "      <td>NaN</td>\n",
       "      <td>NaN</td>\n",
       "      <td>NaN</td>\n",
       "      <td>NaN</td>\n",
       "      <td>NaN</td>\n",
       "      <td>NaN</td>\n",
       "      <td>yes</td>\n",
       "      <td>digital</td>\n",
       "      <td>NaN</td>\n",
       "      <td>2.00</td>\n",
       "      <td>smart inverter</td>\n",
       "      <td>*Dependerá del domicilio de entrega Recíbelo e...</td>\n",
       "      <td>Envío gratis*</td>\n",
       "      <td>NaN</td>\n",
       "      <td>NaN</td>\n",
       "      <td>4.00</td>\n",
       "      <td>automatic</td>\n",
       "      <td>bottom</td>\n",
       "      <td>32 feet</td>\n",
       "      <td>french door</td>\n",
       "      <td>NaN</td>\n",
       "      <td>Desde $1,369 quincenales 32829 pesos en 24 qui...</td>\n",
       "      <td>NaN</td>\n",
       "      <td>NaN</td>\n",
       "      <td>NaN</td>\n",
       "      <td>NaN</td>\n",
       "      <td>Coppel</td>\n",
       "    </tr>\n",
       "    <tr>\n",
       "      <th>2</th>\n",
       "      <td>6835b88d6df69ea36b02853e</td>\n",
       "      <td>74,381,197</td>\n",
       "      <td>Refrigerador Mabe Home Energy Saver 360 Lts Gr...</td>\n",
       "      <td>15,990.0</td>\n",
       "      <td>Coppel Mx</td>\n",
       "      <td>Mabe</td>\n",
       "      <td>peso</td>\n",
       "      <td>Inicio &gt; Línea Blanca &gt; Refrigeradores y conge...</td>\n",
       "      <td>https://www.coppel.com/refrigerador-mabe-home-...</td>\n",
       "      <td>3,531.0</td>\n",
       "      <td>18.09</td>\n",
       "      <td>False</td>\n",
       "      <td>IN &gt; Electronics &gt; Kitchen Appliances &gt; Refrig...</td>\n",
       "      <td>grey</td>\n",
       "      <td>NaN</td>\n",
       "      <td>NaN</td>\n",
       "      <td>NaN</td>\n",
       "      <td>NaN</td>\n",
       "      <td>rme360pvmrm0</td>\n",
       "      <td>NaN</td>\n",
       "      <td>NaN</td>\n",
       "      <td>NaN</td>\n",
       "      <td>NaN</td>\n",
       "      <td>NaN</td>\n",
       "      <td>NaN</td>\n",
       "      <td>NaN</td>\n",
       "      <td>NaN</td>\n",
       "      <td>NaN</td>\n",
       "      <td>NaN</td>\n",
       "      <td>NaN</td>\n",
       "      <td>NaN</td>\n",
       "      <td>yes</td>\n",
       "      <td>NaN</td>\n",
       "      <td>NaN</td>\n",
       "      <td>NaN</td>\n",
       "      <td>multi air flow</td>\n",
       "      <td>*Dependerá del domicilio de entrega Recíbelo e...</td>\n",
       "      <td>Envío gratis*</td>\n",
       "      <td>NaN</td>\n",
       "      <td>NaN</td>\n",
       "      <td>NaN</td>\n",
       "      <td>NaN</td>\n",
       "      <td>NaN</td>\n",
       "      <td>12.71 cubic feet</td>\n",
       "      <td>NaN</td>\n",
       "      <td>NaN</td>\n",
       "      <td>Desde $753 quincenales 18066 pesos en 24 quinc...</td>\n",
       "      <td>NaN</td>\n",
       "      <td>NaN</td>\n",
       "      <td>NaN</td>\n",
       "      <td>NaN</td>\n",
       "      <td>Bomssa</td>\n",
       "    </tr>\n",
       "    <tr>\n",
       "      <th>3</th>\n",
       "      <td>682eafe72441b2e0540d5c0b</td>\n",
       "      <td>665,118</td>\n",
       "      <td>Refrigerador Midea Side by Side 20 Pies Platea...</td>\n",
       "      <td>26,499.0</td>\n",
       "      <td>Coppel Mx</td>\n",
       "      <td>Midea</td>\n",
       "      <td>peso</td>\n",
       "      <td>Inicio &gt; Línea Blanca &gt; Refrigeradores y conge...</td>\n",
       "      <td>https://www.coppel.com/pdp/refrigerador-midea-...</td>\n",
       "      <td>8,500.0</td>\n",
       "      <td>24.29</td>\n",
       "      <td>False</td>\n",
       "      <td>IN &gt; Electronics &gt; Kitchen Appliances &gt; Refrig...</td>\n",
       "      <td>silver</td>\n",
       "      <td>NaN</td>\n",
       "      <td>NaN</td>\n",
       "      <td>NaN</td>\n",
       "      <td>NaN</td>\n",
       "      <td>mdrs710fgm46</td>\n",
       "      <td>NaN</td>\n",
       "      <td>NaN</td>\n",
       "      <td>NaN</td>\n",
       "      <td>NaN</td>\n",
       "      <td>NaN</td>\n",
       "      <td>digital</td>\n",
       "      <td>NaN</td>\n",
       "      <td>NaN</td>\n",
       "      <td>NaN</td>\n",
       "      <td>NaN</td>\n",
       "      <td>NaN</td>\n",
       "      <td>NaN</td>\n",
       "      <td>yes</td>\n",
       "      <td>digital</td>\n",
       "      <td>NaN</td>\n",
       "      <td>2.00</td>\n",
       "      <td>inverter</td>\n",
       "      <td>*Dependerá del domicilio de entrega Recíbelo e...</td>\n",
       "      <td>Envío gratis*</td>\n",
       "      <td>NaN</td>\n",
       "      <td>NaN</td>\n",
       "      <td>4.00</td>\n",
       "      <td>automatic</td>\n",
       "      <td>side</td>\n",
       "      <td>20 feet</td>\n",
       "      <td>side-by-side</td>\n",
       "      <td>NaN</td>\n",
       "      <td>Desde $1,006 quincenales 24119 pesos en 24 qui...</td>\n",
       "      <td>NaN</td>\n",
       "      <td>NaN</td>\n",
       "      <td>NaN</td>\n",
       "      <td>NaN</td>\n",
       "      <td>Coppel</td>\n",
       "    </tr>\n",
       "    <tr>\n",
       "      <th>4</th>\n",
       "      <td>682eb0c12441b2e0540d5cb7</td>\n",
       "      <td>649,571</td>\n",
       "      <td>Refrigerador LG Top Mount 20 Pies Plateado LT5...</td>\n",
       "      <td>19,799.0</td>\n",
       "      <td>Coppel Mx</td>\n",
       "      <td>Lg</td>\n",
       "      <td>peso</td>\n",
       "      <td>Inicio &gt; Línea Blanca &gt; Refrigeradores y conge...</td>\n",
       "      <td>https://www.coppel.com/refrigerador-lg-top-mou...</td>\n",
       "      <td>4,900.0</td>\n",
       "      <td>19.84</td>\n",
       "      <td>False</td>\n",
       "      <td>IN &gt; Electronics &gt; Kitchen Appliances &gt; Refrig...</td>\n",
       "      <td>silver</td>\n",
       "      <td>NaN</td>\n",
       "      <td>NaN</td>\n",
       "      <td>NaN</td>\n",
       "      <td>NaN</td>\n",
       "      <td>lt57bpsx.astfmxm</td>\n",
       "      <td>NaN</td>\n",
       "      <td>NaN</td>\n",
       "      <td>NaN</td>\n",
       "      <td>NaN</td>\n",
       "      <td>NaN</td>\n",
       "      <td>digital</td>\n",
       "      <td>NaN</td>\n",
       "      <td>NaN</td>\n",
       "      <td>NaN</td>\n",
       "      <td>NaN</td>\n",
       "      <td>NaN</td>\n",
       "      <td>NaN</td>\n",
       "      <td>yes</td>\n",
       "      <td>digital</td>\n",
       "      <td>NaN</td>\n",
       "      <td>2.00</td>\n",
       "      <td>inverter</td>\n",
       "      <td>*Dependerá del domicilio de entrega Recíbelo e...</td>\n",
       "      <td>Envío gratis*</td>\n",
       "      <td>NaN</td>\n",
       "      <td>NaN</td>\n",
       "      <td>2.00</td>\n",
       "      <td>automatic</td>\n",
       "      <td>top</td>\n",
       "      <td>20 feet</td>\n",
       "      <td>top mount</td>\n",
       "      <td>NaN</td>\n",
       "      <td>Desde $833 quincenales 19965 pesos en 24 quinc...</td>\n",
       "      <td>NaN</td>\n",
       "      <td>NaN</td>\n",
       "      <td>NaN</td>\n",
       "      <td>NaN</td>\n",
       "      <td>Coppel</td>\n",
       "    </tr>\n",
       "  </tbody>\n",
       "</table>\n",
       "</div>"
      ],
      "text/plain": [
       "                   Mongo_id         Sku  \\\n",
       "0  682b2858e635c648ff03f414     660,582   \n",
       "1  682eafa32441b2e0540d5bda     660,922   \n",
       "2  6835b88d6df69ea36b02853e  74,381,197   \n",
       "3  682eafe72441b2e0540d5c0b     665,118   \n",
       "4  682eb0c12441b2e0540d5cb7     649,571   \n",
       "\n",
       "                                                Name     Price       Host  \\\n",
       "0  Refrigerador Mabe Top Mount 10 Pies Negro RMA2...  12,499.0  Coppel Mx   \n",
       "1  Refrigerador Samsung French Door 32 Pies Black...  38,999.0  Coppel Mx   \n",
       "2  Refrigerador Mabe Home Energy Saver 360 Lts Gr...  15,990.0  Coppel Mx   \n",
       "3  Refrigerador Midea Side by Side 20 Pies Platea...  26,499.0  Coppel Mx   \n",
       "4  Refrigerador LG Top Mount 20 Pies Plateado LT5...  19,799.0  Coppel Mx   \n",
       "\n",
       "     Brand Currency                                           Category  \\\n",
       "0     Mabe     peso  Inicio > Línea Blanca > Refrigeradores y conge...   \n",
       "1  Samsung     peso  Inicio > Línea Blanca > Refrigeradores y conge...   \n",
       "2     Mabe     peso  Inicio > Línea Blanca > Refrigeradores y conge...   \n",
       "3    Midea     peso  Inicio > Línea Blanca > Refrigeradores y conge...   \n",
       "4       Lg     peso  Inicio > Línea Blanca > Refrigeradores y conge...   \n",
       "\n",
       "                                                 Url  Discount  \\\n",
       "0  https://www.coppel.com/refrigerador-mabe-top-m...   3,700.0   \n",
       "1  https://www.coppel.com/refrigerador-samsung-fr...  14,500.0   \n",
       "2  https://www.coppel.com/refrigerador-mabe-home-...   3,531.0   \n",
       "3  https://www.coppel.com/pdp/refrigerador-midea-...   8,500.0   \n",
       "4  https://www.coppel.com/refrigerador-lg-top-mou...   4,900.0   \n",
       "\n",
       "   Discount_Percent  Availability  \\\n",
       "0             22.84         False   \n",
       "1             27.10         False   \n",
       "2             18.09         False   \n",
       "3             24.29         False   \n",
       "4             19.84         False   \n",
       "\n",
       "                                          Category.1   Color  \\\n",
       "0  IN > Electronics > Kitchen Appliances > Refrig...   black   \n",
       "1  IN > Electronics > Kitchen Appliances > Refrig...   black   \n",
       "2  IN > Electronics > Kitchen Appliances > Refrig...    grey   \n",
       "3  IN > Electronics > Kitchen Appliances > Refrig...  silver   \n",
       "4  IN > Electronics > Kitchen Appliances > Refrig...  silver   \n",
       "\n",
       "   Washing_machine_type  Washing_machine_capacity  Washing_machine_model  \\\n",
       "0                   NaN                       NaN                    NaN   \n",
       "1                   NaN                       NaN                    NaN   \n",
       "2                   NaN                       NaN                    NaN   \n",
       "3                   NaN                       NaN                    NaN   \n",
       "4                   NaN                       NaN                    NaN   \n",
       "\n",
       "   Dryer_model Refrigerator_model  Phone_model  Cooktop_model  Storage  \\\n",
       "0          NaN       rma250pvmrp0          NaN            NaN      NaN   \n",
       "1          NaN     rf32cg5n10b1em          NaN            NaN      NaN   \n",
       "2          NaN       rme360pvmrm0          NaN            NaN      NaN   \n",
       "3          NaN       mdrs710fgm46          NaN            NaN      NaN   \n",
       "4          NaN   lt57bpsx.astfmxm          NaN            NaN      NaN   \n",
       "\n",
       "   Operating_system  Washing_program Control_panel  Cooktop_size  Stove_type  \\\n",
       "0               NaN              NaN        manual           NaN         NaN   \n",
       "1               NaN              NaN       digital           NaN         NaN   \n",
       "2               NaN              NaN           NaN           NaN         NaN   \n",
       "3               NaN              NaN       digital           NaN         NaN   \n",
       "4               NaN              NaN       digital           NaN         NaN   \n",
       "\n",
       "   Ignition  No_of_burners  Cooktop_type  Glass_stove_cover  \\\n",
       "0       NaN            NaN           NaN                NaN   \n",
       "1       NaN            NaN           NaN                NaN   \n",
       "2       NaN            NaN           NaN                NaN   \n",
       "3       NaN            NaN           NaN                NaN   \n",
       "4       NaN            NaN           NaN                NaN   \n",
       "\n",
       "  Saving_energy_or_water Control_panel.1  Special_features  No_of_doors  \\\n",
       "0                    yes          manual               NaN         2.00   \n",
       "1                    yes         digital               NaN         2.00   \n",
       "2                    yes             NaN               NaN          NaN   \n",
       "3                    yes         digital               NaN         2.00   \n",
       "4                    yes         digital               NaN         2.00   \n",
       "\n",
       "  Refrigeration_and_cooling_technology  \\\n",
       "0                                  NaN   \n",
       "1                       smart inverter   \n",
       "2                       multi air flow   \n",
       "3                             inverter   \n",
       "4                             inverter   \n",
       "\n",
       "                                       Shipping_time  Shipping_fees  \\\n",
       "0  *Dependerá del domicilio de entrega Recíbelo e...  Envío gratis*   \n",
       "1  *Dependerá del domicilio de entrega Recíbelo e...  Envío gratis*   \n",
       "2  *Dependerá del domicilio de entrega Recíbelo e...  Envío gratis*   \n",
       "3  *Dependerá del domicilio de entrega Recíbelo e...  Envío gratis*   \n",
       "4  *Dependerá del domicilio de entrega Recíbelo e...  Envío gratis*   \n",
       "\n",
       "  Temperature_control Display  No_of_drawers Type_of_thaw Freezer_location  \\\n",
       "0                 NaN     NaN           1.00          NaN              top   \n",
       "1                 NaN     NaN           4.00    automatic           bottom   \n",
       "2                 NaN     NaN            NaN          NaN              NaN   \n",
       "3                 NaN     NaN           4.00    automatic             side   \n",
       "4                 NaN     NaN           2.00    automatic              top   \n",
       "\n",
       "   Capacity_in_feet Refrigerator_type Semiautomatic  \\\n",
       "0           10 feet         top mount           NaN   \n",
       "1           32 feet       french door           NaN   \n",
       "2  12.71 cubic feet               NaN           NaN   \n",
       "3           20 feet      side-by-side           NaN   \n",
       "4           20 feet         top mount           NaN   \n",
       "\n",
       "                                    Product_emi_plan  Engine_displacement  \\\n",
       "0  Desde $492 quincenales 11791 pesos en 24 quinc...                  NaN   \n",
       "1  Desde $1,369 quincenales 32829 pesos en 24 qui...                  NaN   \n",
       "2  Desde $753 quincenales 18066 pesos en 24 quinc...                  NaN   \n",
       "3  Desde $1,006 quincenales 24119 pesos en 24 qui...                  NaN   \n",
       "4  Desde $833 quincenales 19965 pesos en 24 quinc...                  NaN   \n",
       "\n",
       "   Motorcycle_type  Helmet_type  Certification  Seller  \n",
       "0              NaN          NaN            NaN  Coppel  \n",
       "1              NaN          NaN            NaN  Coppel  \n",
       "2              NaN          NaN            NaN  Bomssa  \n",
       "3              NaN          NaN            NaN  Coppel  \n",
       "4              NaN          NaN            NaN  Coppel  "
      ]
     },
     "metadata": {},
     "output_type": "display_data"
    }
   ],
   "source": [
    "# Vista previa de los datos\n",
    "print(\"=\" * 80)\n",
    "print(\"DATASET 1: EXACT MATCH DATA\")\n",
    "print(\"=\" * 80)\n",
    "display(df_exact_match.head())\n",
    "\n",
    "print(\"\\n\" + \"=\" * 80)\n",
    "print(\"DATASET 2: DETAILED ANALYSIS\")\n",
    "print(\"=\" * 80)\n",
    "display(df_detailed.head())"
   ]
  },
  {
   "cell_type": "code",
   "execution_count": 15,
   "metadata": {},
   "outputs": [
    {
     "name": "stdout",
     "output_type": "stream",
     "text": [
      "\n",
      "📊 INFORMACIÓN DEL DATASET: EXACT MATCH\n",
      "================================================================================\n",
      "<class 'pandas.core.frame.DataFrame'>\n",
      "RangeIndex: 200 entries, 0 to 199\n",
      "Data columns (total 10 columns):\n",
      " #   Column      Non-Null Count  Dtype  \n",
      "---  ------      --------------  -----  \n",
      " 0   Sku_id      136 non-null    object \n",
      " 1   Name        200 non-null    object \n",
      " 2   Category    200 non-null    object \n",
      " 3   Brand       199 non-null    object \n",
      " 4   Url         200 non-null    object \n",
      " 5   Price       200 non-null    float64\n",
      " 6   Discount    200 non-null    float64\n",
      " 7   Out         200 non-null    bool   \n",
      " 8   Status      200 non-null    object \n",
      " 9   Difference  200 non-null    int64  \n",
      "dtypes: bool(1), float64(2), int64(1), object(6)\n",
      "memory usage: 14.4+ KB\n",
      "\n",
      "📊 INFORMACIÓN DEL DATASET: DETAILED ANALYSIS\n",
      "================================================================================\n",
      "<class 'pandas.core.frame.DataFrame'>\n",
      "RangeIndex: 107 entries, 0 to 106\n",
      "Data columns (total 52 columns):\n",
      " #   Column                                Non-Null Count  Dtype  \n",
      "---  ------                                --------------  -----  \n",
      " 0   Mongo_id                              107 non-null    object \n",
      " 1   Sku                                   107 non-null    object \n",
      " 2   Name                                  107 non-null    object \n",
      " 3   Price                                 107 non-null    object \n",
      " 4   Host                                  107 non-null    object \n",
      " 5   Brand                                 106 non-null    object \n",
      " 6   Currency                              107 non-null    object \n",
      " 7   Category                              107 non-null    object \n",
      " 8   Url                                   107 non-null    object \n",
      " 9   Discount                              107 non-null    object \n",
      " 10  Discount_Percent                      107 non-null    float64\n",
      " 11  Availability                          107 non-null    bool   \n",
      " 12  Category.1                            107 non-null    object \n",
      " 13  Color                                 107 non-null    object \n",
      " 14  Washing_machine_type                  0 non-null      float64\n",
      " 15  Washing_machine_capacity              0 non-null      float64\n",
      " 16  Washing_machine_model                 0 non-null      float64\n",
      " 17  Dryer_model                           0 non-null      float64\n",
      " 18  Refrigerator_model                    94 non-null     object \n",
      " 19  Phone_model                           0 non-null      float64\n",
      " 20  Cooktop_model                         0 non-null      float64\n",
      " 21  Storage                               0 non-null      float64\n",
      " 22  Operating_system                      0 non-null      float64\n",
      " 23  Washing_program                       0 non-null      float64\n",
      " 24  Control_panel                         51 non-null     object \n",
      " 25  Cooktop_size                          0 non-null      float64\n",
      " 26  Stove_type                            0 non-null      float64\n",
      " 27  Ignition                              0 non-null      float64\n",
      " 28  No_of_burners                         0 non-null      float64\n",
      " 29  Cooktop_type                          0 non-null      float64\n",
      " 30  Glass_stove_cover                     0 non-null      float64\n",
      " 31  Saving_energy_or_water                60 non-null     object \n",
      " 32  Control_panel.1                       51 non-null     object \n",
      " 33  Special_features                      0 non-null      float64\n",
      " 34  No_of_doors                           80 non-null     float64\n",
      " 35  Refrigeration_and_cooling_technology  72 non-null     object \n",
      " 36  Shipping_time                         107 non-null    object \n",
      " 37  Shipping_fees                         107 non-null    object \n",
      " 38  Temperature_control                   4 non-null      object \n",
      " 39  Display                               7 non-null      object \n",
      " 40  No_of_drawers                         51 non-null     float64\n",
      " 41  Type_of_thaw                          46 non-null     object \n",
      " 42  Freezer_location                      83 non-null     object \n",
      " 43  Capacity_in_feet                      106 non-null    object \n",
      " 44  Refrigerator_type                     85 non-null     object \n",
      " 45  Semiautomatic                         2 non-null      object \n",
      " 46  Product_emi_plan                      107 non-null    object \n",
      " 47  Engine_displacement                   0 non-null      float64\n",
      " 48  Motorcycle_type                       0 non-null      float64\n",
      " 49  Helmet_type                           0 non-null      float64\n",
      " 50  Certification                         0 non-null      float64\n",
      " 51  Seller                                107 non-null    object \n",
      "dtypes: bool(1), float64(23), object(28)\n",
      "memory usage: 42.9+ KB\n"
     ]
    }
   ],
   "source": [
    "# Información general de los datasets\n",
    "print(\"\\n📊 INFORMACIÓN DEL DATASET: EXACT MATCH\")\n",
    "print(\"=\" * 80)\n",
    "df_exact_match.info()\n",
    "\n",
    "print(\"\\n📊 INFORMACIÓN DEL DATASET: DETAILED ANALYSIS\")\n",
    "print(\"=\" * 80)\n",
    "df_detailed.info()"
   ]
  },
  {
   "cell_type": "markdown",
   "metadata": {},
   "source": [
    "## 2. Limpieza y Validación de Datos"
   ]
  },
  {
   "cell_type": "code",
   "execution_count": 16,
   "metadata": {},
   "outputs": [
    {
     "name": "stdout",
     "output_type": "stream",
     "text": [
      "Limpiando datasets...\n",
      "\n",
      "✓ Datos limpiados correctamente\n",
      "  - Exact Match: (200, 12)\n",
      "  - Detailed: (107, 54)\n"
     ]
    }
   ],
   "source": [
    "def clean_exact_match_data(df):\n",
    "    \"\"\"\n",
    "    Limpia y prepara el dataset de exact match.\n",
    "    \n",
    "    Args:\n",
    "        df (pd.DataFrame): DataFrame a limpiar\n",
    "        \n",
    "    Returns:\n",
    "        pd.DataFrame: DataFrame limpio\n",
    "    \"\"\"\n",
    "    df_clean = df.copy()\n",
    "    \n",
    "    # Convertir columnas numéricas\n",
    "    numeric_cols = ['Price', 'Discount', 'Difference']\n",
    "    for col in numeric_cols:\n",
    "        df_clean[col] = pd.to_numeric(df_clean[col], errors='coerce')\n",
    "    \n",
    "    # Convertir columnas booleanas\n",
    "    df_clean['Out'] = df_clean['Out'].map({'true': True, 'false': False})\n",
    "    \n",
    "    # Limpiar nombres de marca (lowercase)\n",
    "    df_clean['Brand'] = df_clean['Brand'].str.lower().str.strip()\n",
    "    \n",
    "    # Calcular precio final\n",
    "    df_clean['Final_Price'] = df_clean['Price'] - df_clean['Discount']\n",
    "    \n",
    "    # Calcular porcentaje de descuento\n",
    "    df_clean['Discount_Percent'] = (\n",
    "        (df_clean['Discount'] / df_clean['Price']) * 100\n",
    "    ).round(2)\n",
    "    \n",
    "    return df_clean\n",
    "\n",
    "\n",
    "def clean_detailed_data(df):\n",
    "    \"\"\"\n",
    "    Limpia y prepara el dataset detallado.\n",
    "    \n",
    "    Args:\n",
    "        df (pd.DataFrame): DataFrame a limpiar\n",
    "        \n",
    "    Returns:\n",
    "        pd.DataFrame: DataFrame limpio\n",
    "    \"\"\"\n",
    "    df_clean = df.copy()\n",
    "    \n",
    "    # Limpiar columnas de precio (remover comas y convertir)\n",
    "    price_cols = ['Price', 'Discount', 'Shipping_fees']\n",
    "    for col in price_cols:\n",
    "        if col in df_clean.columns:\n",
    "            df_clean[col] = (\n",
    "                df_clean[col]\n",
    "                .astype(str)\n",
    "                .str.replace(',', '')\n",
    "                .str.replace('$', '')\n",
    "                .str.strip()\n",
    "            )\n",
    "            df_clean[col] = pd.to_numeric(df_clean[col], errors='coerce')\n",
    "    \n",
    "    # Convertir Discount_Percent\n",
    "    if 'Discount_Percent' in df_clean.columns:\n",
    "        df_clean['Discount_Percent'] = pd.to_numeric(\n",
    "            df_clean['Discount_Percent'], errors='coerce'\n",
    "        )\n",
    "    \n",
    "    # Limpiar nombres de marca\n",
    "    df_clean['Brand'] = df_clean['Brand'].str.lower().str.strip()\n",
    "    \n",
    "    # Calcular precio final\n",
    "    df_clean['Final_Price'] = df_clean['Price'] - df_clean['Discount'].fillna(0)\n",
    "    \n",
    "    # Extraer capacidad numérica de Capacity_in_feet\n",
    "    if 'Capacity_in_feet' in df_clean.columns:\n",
    "        df_clean['Capacity_Numeric'] = (\n",
    "            df_clean['Capacity_in_feet']\n",
    "            .astype(str)\n",
    "            .str.extract(r'(\\d+(?:\\.\\d+)?)', expand=False)\n",
    "            .astype(float)\n",
    "        )\n",
    "    \n",
    "    # Convertir Availability a booleano\n",
    "    if 'Availability' in df_clean.columns:\n",
    "        df_clean['Availability'] = (\n",
    "            df_clean['Availability']\n",
    "            .map({'true': True, 'false': False})\n",
    "            .fillna(False)\n",
    "        )\n",
    "    \n",
    "    return df_clean\n",
    "\n",
    "\n",
    "# Aplicar limpieza\n",
    "print(\"Limpiando datasets...\")\n",
    "df_exact_clean = clean_exact_match_data(df_exact_match)\n",
    "df_detailed_clean = clean_detailed_data(df_detailed)\n",
    "\n",
    "print(\"\\n✓ Datos limpiados correctamente\")\n",
    "print(f\"  - Exact Match: {df_exact_clean.shape}\")\n",
    "print(f\"  - Detailed: {df_detailed_clean.shape}\")"
   ]
  },
  {
   "cell_type": "code",
   "execution_count": 17,
   "metadata": {},
   "outputs": [
    {
     "name": "stdout",
     "output_type": "stream",
     "text": [
      "\n",
      "================================================================================\n",
      "ANÁLISIS DE VALORES NULOS: EXACT MATCH\n",
      "================================================================================\n"
     ]
    },
    {
     "data": {
      "text/html": [
       "<div>\n",
       "<style scoped>\n",
       "    .dataframe tbody tr th:only-of-type {\n",
       "        vertical-align: middle;\n",
       "    }\n",
       "\n",
       "    .dataframe tbody tr th {\n",
       "        vertical-align: top;\n",
       "    }\n",
       "\n",
       "    .dataframe thead th {\n",
       "        text-align: right;\n",
       "    }\n",
       "</style>\n",
       "<table border=\"1\" class=\"dataframe\">\n",
       "  <thead>\n",
       "    <tr style=\"text-align: right;\">\n",
       "      <th></th>\n",
       "      <th>Columna</th>\n",
       "      <th>Valores Nulos</th>\n",
       "      <th>Porcentaje (%)</th>\n",
       "    </tr>\n",
       "  </thead>\n",
       "  <tbody>\n",
       "    <tr>\n",
       "      <th>7</th>\n",
       "      <td>Out</td>\n",
       "      <td>200</td>\n",
       "      <td>100.00</td>\n",
       "    </tr>\n",
       "    <tr>\n",
       "      <th>0</th>\n",
       "      <td>Sku_id</td>\n",
       "      <td>64</td>\n",
       "      <td>32.00</td>\n",
       "    </tr>\n",
       "    <tr>\n",
       "      <th>3</th>\n",
       "      <td>Brand</td>\n",
       "      <td>1</td>\n",
       "      <td>0.50</td>\n",
       "    </tr>\n",
       "  </tbody>\n",
       "</table>\n",
       "</div>"
      ],
      "text/plain": [
       "  Columna  Valores Nulos  Porcentaje (%)\n",
       "7     Out            200          100.00\n",
       "0  Sku_id             64           32.00\n",
       "3   Brand              1            0.50"
      ]
     },
     "metadata": {},
     "output_type": "display_data"
    },
    {
     "data": {
      "image/png": "[encoded data removed]",
      "text/plain": [
       "<Figure size 1200x600 with 1 Axes>"
      ]
     },
     "metadata": {},
     "output_type": "display_data"
    },
    {
     "name": "stdout",
     "output_type": "stream",
     "text": [
      "\n",
      "================================================================================\n",
      "ANÁLISIS DE VALORES NULOS: DETAILED ANALYSIS\n",
      "================================================================================\n"
     ]
    },
    {
     "data": {
      "text/html": [
       "<div>\n",
       "<style scoped>\n",
       "    .dataframe tbody tr th:only-of-type {\n",
       "        vertical-align: middle;\n",
       "    }\n",
       "\n",
       "    .dataframe tbody tr th {\n",
       "        vertical-align: top;\n",
       "    }\n",
       "\n",
       "    .dataframe thead th {\n",
       "        text-align: right;\n",
       "    }\n",
       "</style>\n",
       "<table border=\"1\" class=\"dataframe\">\n",
       "  <thead>\n",
       "    <tr style=\"text-align: right;\">\n",
       "      <th></th>\n",
       "      <th>Columna</th>\n",
       "      <th>Valores Nulos</th>\n",
       "      <th>Porcentaje (%)</th>\n",
       "    </tr>\n",
       "  </thead>\n",
       "  <tbody>\n",
       "    <tr>\n",
       "      <th>14</th>\n",
       "      <td>Washing_machine_type</td>\n",
       "      <td>107</td>\n",
       "      <td>100.00</td>\n",
       "    </tr>\n",
       "    <tr>\n",
       "      <th>16</th>\n",
       "      <td>Washing_machine_model</td>\n",
       "      <td>107</td>\n",
       "      <td>100.00</td>\n",
       "    </tr>\n",
       "    <tr>\n",
       "      <th>15</th>\n",
       "      <td>Washing_machine_capacity</td>\n",
       "      <td>107</td>\n",
       "      <td>100.00</td>\n",
       "    </tr>\n",
       "    <tr>\n",
       "      <th>17</th>\n",
       "      <td>Dryer_model</td>\n",
       "      <td>107</td>\n",
       "      <td>100.00</td>\n",
       "    </tr>\n",
       "    <tr>\n",
       "      <th>19</th>\n",
       "      <td>Phone_model</td>\n",
       "      <td>107</td>\n",
       "      <td>100.00</td>\n",
       "    </tr>\n",
       "    <tr>\n",
       "      <th>48</th>\n",
       "      <td>Motorcycle_type</td>\n",
       "      <td>107</td>\n",
       "      <td>100.00</td>\n",
       "    </tr>\n",
       "    <tr>\n",
       "      <th>20</th>\n",
       "      <td>Cooktop_model</td>\n",
       "      <td>107</td>\n",
       "      <td>100.00</td>\n",
       "    </tr>\n",
       "    <tr>\n",
       "      <th>21</th>\n",
       "      <td>Storage</td>\n",
       "      <td>107</td>\n",
       "      <td>100.00</td>\n",
       "    </tr>\n",
       "    <tr>\n",
       "      <th>22</th>\n",
       "      <td>Operating_system</td>\n",
       "      <td>107</td>\n",
       "      <td>100.00</td>\n",
       "    </tr>\n",
       "    <tr>\n",
       "      <th>25</th>\n",
       "      <td>Cooktop_size</td>\n",
       "      <td>107</td>\n",
       "      <td>100.00</td>\n",
       "    </tr>\n",
       "    <tr>\n",
       "      <th>23</th>\n",
       "      <td>Washing_program</td>\n",
       "      <td>107</td>\n",
       "      <td>100.00</td>\n",
       "    </tr>\n",
       "    <tr>\n",
       "      <th>27</th>\n",
       "      <td>Ignition</td>\n",
       "      <td>107</td>\n",
       "      <td>100.00</td>\n",
       "    </tr>\n",
       "    <tr>\n",
       "      <th>26</th>\n",
       "      <td>Stove_type</td>\n",
       "      <td>107</td>\n",
       "      <td>100.00</td>\n",
       "    </tr>\n",
       "    <tr>\n",
       "      <th>30</th>\n",
       "      <td>Glass_stove_cover</td>\n",
       "      <td>107</td>\n",
       "      <td>100.00</td>\n",
       "    </tr>\n",
       "    <tr>\n",
       "      <th>33</th>\n",
       "      <td>Special_features</td>\n",
       "      <td>107</td>\n",
       "      <td>100.00</td>\n",
       "    </tr>\n",
       "    <tr>\n",
       "      <th>28</th>\n",
       "      <td>No_of_burners</td>\n",
       "      <td>107</td>\n",
       "      <td>100.00</td>\n",
       "    </tr>\n",
       "    <tr>\n",
       "      <th>29</th>\n",
       "      <td>Cooktop_type</td>\n",
       "      <td>107</td>\n",
       "      <td>100.00</td>\n",
       "    </tr>\n",
       "    <tr>\n",
       "      <th>47</th>\n",
       "      <td>Engine_displacement</td>\n",
       "      <td>107</td>\n",
       "      <td>100.00</td>\n",
       "    </tr>\n",
       "    <tr>\n",
       "      <th>50</th>\n",
       "      <td>Certification</td>\n",
       "      <td>107</td>\n",
       "      <td>100.00</td>\n",
       "    </tr>\n",
       "    <tr>\n",
       "      <th>49</th>\n",
       "      <td>Helmet_type</td>\n",
       "      <td>107</td>\n",
       "      <td>100.00</td>\n",
       "    </tr>\n",
       "    <tr>\n",
       "      <th>37</th>\n",
       "      <td>Shipping_fees</td>\n",
       "      <td>107</td>\n",
       "      <td>100.00</td>\n",
       "    </tr>\n",
       "    <tr>\n",
       "      <th>45</th>\n",
       "      <td>Semiautomatic</td>\n",
       "      <td>105</td>\n",
       "      <td>98.13</td>\n",
       "    </tr>\n",
       "    <tr>\n",
       "      <th>38</th>\n",
       "      <td>Temperature_control</td>\n",
       "      <td>103</td>\n",
       "      <td>96.26</td>\n",
       "    </tr>\n",
       "    <tr>\n",
       "      <th>39</th>\n",
       "      <td>Display</td>\n",
       "      <td>100</td>\n",
       "      <td>93.46</td>\n",
       "    </tr>\n",
       "    <tr>\n",
       "      <th>41</th>\n",
       "      <td>Type_of_thaw</td>\n",
       "      <td>61</td>\n",
       "      <td>57.01</td>\n",
       "    </tr>\n",
       "    <tr>\n",
       "      <th>24</th>\n",
       "      <td>Control_panel</td>\n",
       "      <td>56</td>\n",
       "      <td>52.34</td>\n",
       "    </tr>\n",
       "    <tr>\n",
       "      <th>40</th>\n",
       "      <td>No_of_drawers</td>\n",
       "      <td>56</td>\n",
       "      <td>52.34</td>\n",
       "    </tr>\n",
       "    <tr>\n",
       "      <th>32</th>\n",
       "      <td>Control_panel.1</td>\n",
       "      <td>56</td>\n",
       "      <td>52.34</td>\n",
       "    </tr>\n",
       "    <tr>\n",
       "      <th>31</th>\n",
       "      <td>Saving_energy_or_water</td>\n",
       "      <td>47</td>\n",
       "      <td>43.93</td>\n",
       "    </tr>\n",
       "    <tr>\n",
       "      <th>35</th>\n",
       "      <td>Refrigeration_and_cooling_technology</td>\n",
       "      <td>35</td>\n",
       "      <td>32.71</td>\n",
       "    </tr>\n",
       "    <tr>\n",
       "      <th>34</th>\n",
       "      <td>No_of_doors</td>\n",
       "      <td>27</td>\n",
       "      <td>25.23</td>\n",
       "    </tr>\n",
       "    <tr>\n",
       "      <th>42</th>\n",
       "      <td>Freezer_location</td>\n",
       "      <td>24</td>\n",
       "      <td>22.43</td>\n",
       "    </tr>\n",
       "    <tr>\n",
       "      <th>44</th>\n",
       "      <td>Refrigerator_type</td>\n",
       "      <td>22</td>\n",
       "      <td>20.56</td>\n",
       "    </tr>\n",
       "    <tr>\n",
       "      <th>18</th>\n",
       "      <td>Refrigerator_model</td>\n",
       "      <td>13</td>\n",
       "      <td>12.15</td>\n",
       "    </tr>\n",
       "    <tr>\n",
       "      <th>5</th>\n",
       "      <td>Brand</td>\n",
       "      <td>1</td>\n",
       "      <td>0.93</td>\n",
       "    </tr>\n",
       "    <tr>\n",
       "      <th>43</th>\n",
       "      <td>Capacity_in_feet</td>\n",
       "      <td>1</td>\n",
       "      <td>0.93</td>\n",
       "    </tr>\n",
       "    <tr>\n",
       "      <th>53</th>\n",
       "      <td>Capacity_Numeric</td>\n",
       "      <td>1</td>\n",
       "      <td>0.93</td>\n",
       "    </tr>\n",
       "  </tbody>\n",
       "</table>\n",
       "</div>"
      ],
      "text/plain": [
       "                                 Columna  Valores Nulos  Porcentaje (%)\n",
       "14                  Washing_machine_type            107          100.00\n",
       "16                 Washing_machine_model            107          100.00\n",
       "15              Washing_machine_capacity            107          100.00\n",
       "17                           Dryer_model            107          100.00\n",
       "19                           Phone_model            107          100.00\n",
       "48                       Motorcycle_type            107          100.00\n",
       "20                         Cooktop_model            107          100.00\n",
       "21                               Storage            107          100.00\n",
       "22                      Operating_system            107          100.00\n",
       "25                          Cooktop_size            107          100.00\n",
       "23                       Washing_program            107          100.00\n",
       "27                              Ignition            107          100.00\n",
       "26                            Stove_type            107          100.00\n",
       "30                     Glass_stove_cover            107          100.00\n",
       "33                      Special_features            107          100.00\n",
       "28                         No_of_burners            107          100.00\n",
       "29                          Cooktop_type            107          100.00\n",
       "47                   Engine_displacement            107          100.00\n",
       "50                         Certification            107          100.00\n",
       "49                           Helmet_type            107          100.00\n",
       "37                         Shipping_fees            107          100.00\n",
       "45                         Semiautomatic            105           98.13\n",
       "38                   Temperature_control            103           96.26\n",
       "39                               Display            100           93.46\n",
       "41                          Type_of_thaw             61           57.01\n",
       "24                         Control_panel             56           52.34\n",
       "40                         No_of_drawers             56           52.34\n",
       "32                       Control_panel.1             56           52.34\n",
       "31                Saving_energy_or_water             47           43.93\n",
       "35  Refrigeration_and_cooling_technology             35           32.71\n",
       "34                           No_of_doors             27           25.23\n",
       "42                      Freezer_location             24           22.43\n",
       "44                     Refrigerator_type             22           20.56\n",
       "18                    Refrigerator_model             13           12.15\n",
       "5                                  Brand              1            0.93\n",
       "43                      Capacity_in_feet              1            0.93\n",
       "53                      Capacity_Numeric              1            0.93"
      ]
     },
     "metadata": {},
     "output_type": "display_data"
    },
    {
     "data": {
      "image/png": "[encoded data removed]",
      "text/plain": [
       "<Figure size 1200x600 with 1 Axes>"
      ]
     },
     "metadata": {},
     "output_type": "display_data"
    }
   ],
   "source": [
    "# Análisis de valores nulos\n",
    "def analyze_missing_values(df, name):\n",
    "    \"\"\"\n",
    "    Analiza y visualiza valores nulos en un DataFrame.\n",
    "    \"\"\"\n",
    "    print(f\"\\n{'='*80}\")\n",
    "    print(f\"ANÁLISIS DE VALORES NULOS: {name}\")\n",
    "    print(f\"{'='*80}\")\n",
    "    \n",
    "    missing = df.isnull().sum()\n",
    "    missing_pct = round((missing / len(df) * 100), 2)\n",
    "    \n",
    "    missing_df = pd.DataFrame({\n",
    "        'Columna': missing.index,\n",
    "        'Valores Nulos': missing.values,\n",
    "        'Porcentaje (%)': missing_pct.values\n",
    "    })\n",
    "    \n",
    "    missing_df = missing_df[missing_df['Valores Nulos'] > 0].sort_values(\n",
    "        'Valores Nulos', ascending=False\n",
    "    )\n",
    "    \n",
    "    if len(missing_df) > 0:\n",
    "        display(missing_df)\n",
    "        \n",
    "        # Visualización\n",
    "        fig, ax = plt.subplots(figsize=(12, 6))\n",
    "        missing_df.plot(x='Columna', y='Porcentaje (%)', kind='bar', ax=ax, color='coral')\n",
    "        plt.title(f'Porcentaje de Valores Nulos - {name}', fontsize=14, fontweight='bold')\n",
    "        plt.xlabel('Columnas')\n",
    "        plt.ylabel('Porcentaje de Nulos (%)')\n",
    "        plt.xticks(rotation=45, ha='right')\n",
    "        plt.tight_layout()\n",
    "        plt.show()\n",
    "    else:\n",
    "        print(\"✓ No hay valores nulos en el dataset\")\n",
    "\n",
    "\n",
    "analyze_missing_values(df_exact_clean, 'EXACT MATCH')\n",
    "analyze_missing_values(df_detailed_clean, 'DETAILED ANALYSIS')"
   ]
  },
  {
   "cell_type": "markdown",
   "metadata": {},
   "source": [
    "## 3. Análisis Exploratorio de Datos (EDA)"
   ]
  },
  {
   "cell_type": "code",
   "execution_count": 18,
   "metadata": {},
   "outputs": [
    {
     "name": "stdout",
     "output_type": "stream",
     "text": [
      "\n",
      "📈 ESTADÍSTICAS DESCRIPTIVAS - EXACT MATCH\n",
      "================================================================================\n"
     ]
    },
    {
     "data": {
      "text/html": [
       "<div>\n",
       "<style scoped>\n",
       "    .dataframe tbody tr th:only-of-type {\n",
       "        vertical-align: middle;\n",
       "    }\n",
       "\n",
       "    .dataframe tbody tr th {\n",
       "        vertical-align: top;\n",
       "    }\n",
       "\n",
       "    .dataframe thead th {\n",
       "        text-align: right;\n",
       "    }\n",
       "</style>\n",
       "<table border=\"1\" class=\"dataframe\">\n",
       "  <thead>\n",
       "    <tr style=\"text-align: right;\">\n",
       "      <th></th>\n",
       "      <th>Price</th>\n",
       "      <th>Discount</th>\n",
       "      <th>Final_Price</th>\n",
       "      <th>Discount_Percent</th>\n",
       "    </tr>\n",
       "  </thead>\n",
       "  <tbody>\n",
       "    <tr>\n",
       "      <th>count</th>\n",
       "      <td>200.00</td>\n",
       "      <td>200.00</td>\n",
       "      <td>200.00</td>\n",
       "      <td>200.00</td>\n",
       "    </tr>\n",
       "    <tr>\n",
       "      <th>mean</th>\n",
       "      <td>19264.69</td>\n",
       "      <td>5879.25</td>\n",
       "      <td>13385.43</td>\n",
       "      <td>31.13</td>\n",
       "    </tr>\n",
       "    <tr>\n",
       "      <th>std</th>\n",
       "      <td>12380.75</td>\n",
       "      <td>7964.37</td>\n",
       "      <td>12442.65</td>\n",
       "      <td>32.76</td>\n",
       "    </tr>\n",
       "    <tr>\n",
       "      <th>min</th>\n",
       "      <td>4599.00</td>\n",
       "      <td>0.00</td>\n",
       "      <td>-46801.00</td>\n",
       "      <td>0.00</td>\n",
       "    </tr>\n",
       "    <tr>\n",
       "      <th>25%</th>\n",
       "      <td>11999.00</td>\n",
       "      <td>2092.50</td>\n",
       "      <td>7724.00</td>\n",
       "      <td>16.06</td>\n",
       "    </tr>\n",
       "    <tr>\n",
       "      <th>50%</th>\n",
       "      <td>16842.50</td>\n",
       "      <td>3650.00</td>\n",
       "      <td>11699.00</td>\n",
       "      <td>26.23</td>\n",
       "    </tr>\n",
       "    <tr>\n",
       "      <th>75%</th>\n",
       "      <td>22524.00</td>\n",
       "      <td>7317.75</td>\n",
       "      <td>16576.50</td>\n",
       "      <td>36.36</td>\n",
       "    </tr>\n",
       "    <tr>\n",
       "      <th>max</th>\n",
       "      <td>91999.00</td>\n",
       "      <td>69800.00</td>\n",
       "      <td>91999.00</td>\n",
       "      <td>303.49</td>\n",
       "    </tr>\n",
       "  </tbody>\n",
       "</table>\n",
       "</div>"
      ],
      "text/plain": [
       "         Price  Discount  Final_Price  Discount_Percent\n",
       "count   200.00    200.00       200.00            200.00\n",
       "mean  19264.69   5879.25     13385.43             31.13\n",
       "std   12380.75   7964.37     12442.65             32.76\n",
       "min    4599.00      0.00    -46801.00              0.00\n",
       "25%   11999.00   2092.50      7724.00             16.06\n",
       "50%   16842.50   3650.00     11699.00             26.23\n",
       "75%   22524.00   7317.75     16576.50             36.36\n",
       "max   91999.00  69800.00     91999.00            303.49"
      ]
     },
     "metadata": {},
     "output_type": "display_data"
    },
    {
     "name": "stdout",
     "output_type": "stream",
     "text": [
      "\n",
      "📈 ESTADÍSTICAS DESCRIPTIVAS - DETAILED\n",
      "================================================================================\n"
     ]
    },
    {
     "data": {
      "text/html": [
       "<div>\n",
       "<style scoped>\n",
       "    .dataframe tbody tr th:only-of-type {\n",
       "        vertical-align: middle;\n",
       "    }\n",
       "\n",
       "    .dataframe tbody tr th {\n",
       "        vertical-align: top;\n",
       "    }\n",
       "\n",
       "    .dataframe thead th {\n",
       "        text-align: right;\n",
       "    }\n",
       "</style>\n",
       "<table border=\"1\" class=\"dataframe\">\n",
       "  <thead>\n",
       "    <tr style=\"text-align: right;\">\n",
       "      <th></th>\n",
       "      <th>Price</th>\n",
       "      <th>Discount</th>\n",
       "      <th>Final_Price</th>\n",
       "      <th>Discount_Percent</th>\n",
       "    </tr>\n",
       "  </thead>\n",
       "  <tbody>\n",
       "    <tr>\n",
       "      <th>count</th>\n",
       "      <td>107.00</td>\n",
       "      <td>107.00</td>\n",
       "      <td>107.00</td>\n",
       "      <td>107.00</td>\n",
       "    </tr>\n",
       "    <tr>\n",
       "      <th>mean</th>\n",
       "      <td>18645.78</td>\n",
       "      <td>4269.79</td>\n",
       "      <td>14375.98</td>\n",
       "      <td>17.41</td>\n",
       "    </tr>\n",
       "    <tr>\n",
       "      <th>std</th>\n",
       "      <td>9695.82</td>\n",
       "      <td>3354.82</td>\n",
       "      <td>7308.64</td>\n",
       "      <td>7.59</td>\n",
       "    </tr>\n",
       "    <tr>\n",
       "      <th>min</th>\n",
       "      <td>6999.00</td>\n",
       "      <td>0.00</td>\n",
       "      <td>4499.00</td>\n",
       "      <td>0.00</td>\n",
       "    </tr>\n",
       "    <tr>\n",
       "      <th>25%</th>\n",
       "      <td>12549.00</td>\n",
       "      <td>2200.00</td>\n",
       "      <td>10154.00</td>\n",
       "      <td>14.96</td>\n",
       "    </tr>\n",
       "    <tr>\n",
       "      <th>50%</th>\n",
       "      <td>16499.00</td>\n",
       "      <td>3500.00</td>\n",
       "      <td>12199.00</td>\n",
       "      <td>18.61</td>\n",
       "    </tr>\n",
       "    <tr>\n",
       "      <th>75%</th>\n",
       "      <td>22894.00</td>\n",
       "      <td>5850.00</td>\n",
       "      <td>17249.00</td>\n",
       "      <td>22.34</td>\n",
       "    </tr>\n",
       "    <tr>\n",
       "      <th>max</th>\n",
       "      <td>75199.00</td>\n",
       "      <td>17200.00</td>\n",
       "      <td>57999.00</td>\n",
       "      <td>30.33</td>\n",
       "    </tr>\n",
       "  </tbody>\n",
       "</table>\n",
       "</div>"
      ],
      "text/plain": [
       "         Price  Discount  Final_Price  Discount_Percent\n",
       "count   107.00    107.00       107.00            107.00\n",
       "mean  18645.78   4269.79     14375.98             17.41\n",
       "std    9695.82   3354.82      7308.64              7.59\n",
       "min    6999.00      0.00      4499.00              0.00\n",
       "25%   12549.00   2200.00     10154.00             14.96\n",
       "50%   16499.00   3500.00     12199.00             18.61\n",
       "75%   22894.00   5850.00     17249.00             22.34\n",
       "max   75199.00  17200.00     57999.00             30.33"
      ]
     },
     "metadata": {},
     "output_type": "display_data"
    }
   ],
   "source": [
    "# Estadísticas descriptivas\n",
    "print(\"\\n📈 ESTADÍSTICAS DESCRIPTIVAS - EXACT MATCH\")\n",
    "print(\"=\" * 80)\n",
    "display(df_exact_clean[['Price', 'Discount', 'Final_Price', 'Discount_Percent']].describe())\n",
    "\n",
    "print(\"\\n📈 ESTADÍSTICAS DESCRIPTIVAS - DETAILED\")\n",
    "print(\"=\" * 80)\n",
    "display(df_detailed_clean[['Price', 'Discount', 'Final_Price', 'Discount_Percent']].describe())"
   ]
  },
  {
   "cell_type": "code",
   "execution_count": 19,
   "metadata": {},
   "outputs": [
    {
     "name": "stdout",
     "output_type": "stream",
     "text": [
      "\n",
      "================================================================================\n",
      "ANÁLISIS DE PRECIOS POR MARCA - EXACT MATCH\n",
      "================================================================================\n"
     ]
    },
    {
     "data": {
      "text/html": [
       "<div>\n",
       "<style scoped>\n",
       "    .dataframe tbody tr th:only-of-type {\n",
       "        vertical-align: middle;\n",
       "    }\n",
       "\n",
       "    .dataframe tbody tr th {\n",
       "        vertical-align: top;\n",
       "    }\n",
       "\n",
       "    .dataframe thead th {\n",
       "        text-align: right;\n",
       "    }\n",
       "</style>\n",
       "<table border=\"1\" class=\"dataframe\">\n",
       "  <thead>\n",
       "    <tr style=\"text-align: right;\">\n",
       "      <th></th>\n",
       "      <th>Price_mean</th>\n",
       "      <th>Price_median</th>\n",
       "      <th>Price_min</th>\n",
       "      <th>Price_max</th>\n",
       "      <th>Price_count</th>\n",
       "      <th>Discount_mean</th>\n",
       "      <th>Final_Price_mean</th>\n",
       "    </tr>\n",
       "    <tr>\n",
       "      <th>Brand</th>\n",
       "      <th></th>\n",
       "      <th></th>\n",
       "      <th></th>\n",
       "      <th></th>\n",
       "      <th></th>\n",
       "      <th></th>\n",
       "      <th></th>\n",
       "    </tr>\n",
       "  </thead>\n",
       "  <tbody>\n",
       "    <tr>\n",
       "      <th>metalfrio</th>\n",
       "      <td>51361.50</td>\n",
       "      <td>51361.50</td>\n",
       "      <td>25468.00</td>\n",
       "      <td>77255.00</td>\n",
       "      <td>2</td>\n",
       "      <td>0.00</td>\n",
       "      <td>51361.50</td>\n",
       "    </tr>\n",
       "    <tr>\n",
       "      <th>samsung</th>\n",
       "      <td>28339.51</td>\n",
       "      <td>22999.00</td>\n",
       "      <td>10999.00</td>\n",
       "      <td>91999.00</td>\n",
       "      <td>41</td>\n",
       "      <td>9014.63</td>\n",
       "      <td>19324.88</td>\n",
       "    </tr>\n",
       "    <tr>\n",
       "      <th>cristel</th>\n",
       "      <td>26243.00</td>\n",
       "      <td>26243.00</td>\n",
       "      <td>26243.00</td>\n",
       "      <td>26243.00</td>\n",
       "      <td>1</td>\n",
       "      <td>0.00</td>\n",
       "      <td>26243.00</td>\n",
       "    </tr>\n",
       "    <tr>\n",
       "      <th>ge monogram</th>\n",
       "      <td>25999.00</td>\n",
       "      <td>25999.00</td>\n",
       "      <td>25999.00</td>\n",
       "      <td>25999.00</td>\n",
       "      <td>1</td>\n",
       "      <td>54500.00</td>\n",
       "      <td>-28501.00</td>\n",
       "    </tr>\n",
       "    <tr>\n",
       "      <th>whirlpool</th>\n",
       "      <td>20820.25</td>\n",
       "      <td>14999.00</td>\n",
       "      <td>9399.00</td>\n",
       "      <td>59999.00</td>\n",
       "      <td>24</td>\n",
       "      <td>7175.83</td>\n",
       "      <td>13644.42</td>\n",
       "    </tr>\n",
       "    <tr>\n",
       "      <th>lg</th>\n",
       "      <td>19856.84</td>\n",
       "      <td>19190.00</td>\n",
       "      <td>9999.00</td>\n",
       "      <td>34999.00</td>\n",
       "      <td>31</td>\n",
       "      <td>5712.23</td>\n",
       "      <td>14144.61</td>\n",
       "    </tr>\n",
       "    <tr>\n",
       "      <th>maytag</th>\n",
       "      <td>17799.00</td>\n",
       "      <td>17799.00</td>\n",
       "      <td>17799.00</td>\n",
       "      <td>17799.00</td>\n",
       "      <td>1</td>\n",
       "      <td>12200.00</td>\n",
       "      <td>5599.00</td>\n",
       "    </tr>\n",
       "    <tr>\n",
       "      <th>ge profile</th>\n",
       "      <td>17499.00</td>\n",
       "      <td>17499.00</td>\n",
       "      <td>17499.00</td>\n",
       "      <td>17499.00</td>\n",
       "      <td>1</td>\n",
       "      <td>13500.00</td>\n",
       "      <td>3999.00</td>\n",
       "    </tr>\n",
       "    <tr>\n",
       "      <th>mabe</th>\n",
       "      <td>17206.68</td>\n",
       "      <td>16399.00</td>\n",
       "      <td>8999.00</td>\n",
       "      <td>25299.00</td>\n",
       "      <td>25</td>\n",
       "      <td>5290.04</td>\n",
       "      <td>11916.64</td>\n",
       "    </tr>\n",
       "    <tr>\n",
       "      <th>hisense</th>\n",
       "      <td>16298.38</td>\n",
       "      <td>18099.00</td>\n",
       "      <td>5499.00</td>\n",
       "      <td>25999.00</td>\n",
       "      <td>16</td>\n",
       "      <td>5309.38</td>\n",
       "      <td>10989.00</td>\n",
       "    </tr>\n",
       "    <tr>\n",
       "      <th>midea</th>\n",
       "      <td>15395.50</td>\n",
       "      <td>13649.00</td>\n",
       "      <td>7699.00</td>\n",
       "      <td>29499.00</td>\n",
       "      <td>20</td>\n",
       "      <td>3117.00</td>\n",
       "      <td>12278.50</td>\n",
       "    </tr>\n",
       "    <tr>\n",
       "      <th>mirage</th>\n",
       "      <td>12489.00</td>\n",
       "      <td>12489.00</td>\n",
       "      <td>12489.00</td>\n",
       "      <td>12489.00</td>\n",
       "      <td>1</td>\n",
       "      <td>2500.00</td>\n",
       "      <td>9989.00</td>\n",
       "    </tr>\n",
       "    <tr>\n",
       "      <th>imbera home</th>\n",
       "      <td>12184.00</td>\n",
       "      <td>12184.00</td>\n",
       "      <td>12184.00</td>\n",
       "      <td>12184.00</td>\n",
       "      <td>1</td>\n",
       "      <td>0.00</td>\n",
       "      <td>12184.00</td>\n",
       "    </tr>\n",
       "    <tr>\n",
       "      <th>daewoo</th>\n",
       "      <td>12000.20</td>\n",
       "      <td>10685.00</td>\n",
       "      <td>10349.00</td>\n",
       "      <td>16569.00</td>\n",
       "      <td>5</td>\n",
       "      <td>1166.00</td>\n",
       "      <td>10834.20</td>\n",
       "    </tr>\n",
       "    <tr>\n",
       "      <th>acros</th>\n",
       "      <td>11969.00</td>\n",
       "      <td>11499.00</td>\n",
       "      <td>10399.00</td>\n",
       "      <td>14009.00</td>\n",
       "      <td>3</td>\n",
       "      <td>1033.33</td>\n",
       "      <td>10935.67</td>\n",
       "    </tr>\n",
       "  </tbody>\n",
       "</table>\n",
       "</div>"
      ],
      "text/plain": [
       "             Price_mean  Price_median  Price_min  Price_max  Price_count  \\\n",
       "Brand                                                                      \n",
       "metalfrio      51361.50      51361.50   25468.00   77255.00            2   \n",
       "samsung        28339.51      22999.00   10999.00   91999.00           41   \n",
       "cristel        26243.00      26243.00   26243.00   26243.00            1   \n",
       "ge monogram    25999.00      25999.00   25999.00   25999.00            1   \n",
       "whirlpool      20820.25      14999.00    9399.00   59999.00           24   \n",
       "lg             19856.84      19190.00    9999.00   34999.00           31   \n",
       "maytag         17799.00      17799.00   17799.00   17799.00            1   \n",
       "ge profile     17499.00      17499.00   17499.00   17499.00            1   \n",
       "mabe           17206.68      16399.00    8999.00   25299.00           25   \n",
       "hisense        16298.38      18099.00    5499.00   25999.00           16   \n",
       "midea          15395.50      13649.00    7699.00   29499.00           20   \n",
       "mirage         12489.00      12489.00   12489.00   12489.00            1   \n",
       "imbera home    12184.00      12184.00   12184.00   12184.00            1   \n",
       "daewoo         12000.20      10685.00   10349.00   16569.00            5   \n",
       "acros          11969.00      11499.00   10399.00   14009.00            3   \n",
       "\n",
       "             Discount_mean  Final_Price_mean  \n",
       "Brand                                         \n",
       "metalfrio             0.00          51361.50  \n",
       "samsung            9014.63          19324.88  \n",
       "cristel               0.00          26243.00  \n",
       "ge monogram       54500.00         -28501.00  \n",
       "whirlpool          7175.83          13644.42  \n",
       "lg                 5712.23          14144.61  \n",
       "maytag            12200.00           5599.00  \n",
       "ge profile        13500.00           3999.00  \n",
       "mabe               5290.04          11916.64  \n",
       "hisense            5309.38          10989.00  \n",
       "midea              3117.00          12278.50  \n",
       "mirage             2500.00           9989.00  \n",
       "imbera home           0.00          12184.00  \n",
       "daewoo             1166.00          10834.20  \n",
       "acros              1033.33          10935.67  "
      ]
     },
     "metadata": {},
     "output_type": "display_data"
    },
    {
     "name": "stdout",
     "output_type": "stream",
     "text": [
      "\n",
      "================================================================================\n",
      "ANÁLISIS DE PRECIOS POR MARCA - DETAILED\n",
      "================================================================================\n"
     ]
    },
    {
     "data": {
      "text/html": [
       "<div>\n",
       "<style scoped>\n",
       "    .dataframe tbody tr th:only-of-type {\n",
       "        vertical-align: middle;\n",
       "    }\n",
       "\n",
       "    .dataframe tbody tr th {\n",
       "        vertical-align: top;\n",
       "    }\n",
       "\n",
       "    .dataframe thead th {\n",
       "        text-align: right;\n",
       "    }\n",
       "</style>\n",
       "<table border=\"1\" class=\"dataframe\">\n",
       "  <thead>\n",
       "    <tr style=\"text-align: right;\">\n",
       "      <th></th>\n",
       "      <th>Price_mean</th>\n",
       "      <th>Price_median</th>\n",
       "      <th>Price_min</th>\n",
       "      <th>Price_max</th>\n",
       "      <th>Price_count</th>\n",
       "      <th>Discount_mean</th>\n",
       "      <th>Final_Price_mean</th>\n",
       "    </tr>\n",
       "    <tr>\n",
       "      <th>Brand</th>\n",
       "      <th></th>\n",
       "      <th></th>\n",
       "      <th></th>\n",
       "      <th></th>\n",
       "      <th></th>\n",
       "      <th></th>\n",
       "      <th></th>\n",
       "    </tr>\n",
       "  </thead>\n",
       "  <tbody>\n",
       "    <tr>\n",
       "      <th>cristel</th>\n",
       "      <td>26243.00</td>\n",
       "      <td>26243.00</td>\n",
       "      <td>26243.00</td>\n",
       "      <td>26243.00</td>\n",
       "      <td>1</td>\n",
       "      <td>0.00</td>\n",
       "      <td>26243.00</td>\n",
       "    </tr>\n",
       "    <tr>\n",
       "      <th>samsung</th>\n",
       "      <td>25815.36</td>\n",
       "      <td>19999.00</td>\n",
       "      <td>12599.00</td>\n",
       "      <td>75199.00</td>\n",
       "      <td>22</td>\n",
       "      <td>6431.82</td>\n",
       "      <td>19383.55</td>\n",
       "    </tr>\n",
       "    <tr>\n",
       "      <th>metalfrio</th>\n",
       "      <td>25468.00</td>\n",
       "      <td>25468.00</td>\n",
       "      <td>25468.00</td>\n",
       "      <td>25468.00</td>\n",
       "      <td>1</td>\n",
       "      <td>0.00</td>\n",
       "      <td>25468.00</td>\n",
       "    </tr>\n",
       "    <tr>\n",
       "      <th>lg</th>\n",
       "      <td>22270.73</td>\n",
       "      <td>19799.00</td>\n",
       "      <td>13549.00</td>\n",
       "      <td>34999.00</td>\n",
       "      <td>11</td>\n",
       "      <td>5169.00</td>\n",
       "      <td>17101.73</td>\n",
       "    </tr>\n",
       "    <tr>\n",
       "      <th>whirlpool</th>\n",
       "      <td>19339.00</td>\n",
       "      <td>14349.00</td>\n",
       "      <td>12099.00</td>\n",
       "      <td>40799.00</td>\n",
       "      <td>10</td>\n",
       "      <td>4076.00</td>\n",
       "      <td>15263.00</td>\n",
       "    </tr>\n",
       "    <tr>\n",
       "      <th>hisense</th>\n",
       "      <td>17931.50</td>\n",
       "      <td>18659.00</td>\n",
       "      <td>8299.00</td>\n",
       "      <td>25999.00</td>\n",
       "      <td>12</td>\n",
       "      <td>5254.17</td>\n",
       "      <td>12677.33</td>\n",
       "    </tr>\n",
       "    <tr>\n",
       "      <th>mabe</th>\n",
       "      <td>17912.19</td>\n",
       "      <td>16799.00</td>\n",
       "      <td>8999.00</td>\n",
       "      <td>25299.00</td>\n",
       "      <td>16</td>\n",
       "      <td>4988.06</td>\n",
       "      <td>12924.12</td>\n",
       "    </tr>\n",
       "    <tr>\n",
       "      <th>midea</th>\n",
       "      <td>15893.17</td>\n",
       "      <td>14899.00</td>\n",
       "      <td>7699.00</td>\n",
       "      <td>29499.00</td>\n",
       "      <td>12</td>\n",
       "      <td>2898.33</td>\n",
       "      <td>12994.83</td>\n",
       "    </tr>\n",
       "    <tr>\n",
       "      <th>tcl</th>\n",
       "      <td>12915.00</td>\n",
       "      <td>11079.00</td>\n",
       "      <td>9999.00</td>\n",
       "      <td>19999.00</td>\n",
       "      <td>5</td>\n",
       "      <td>2844.00</td>\n",
       "      <td>10071.00</td>\n",
       "    </tr>\n",
       "    <tr>\n",
       "      <th>acros</th>\n",
       "      <td>12754.00</td>\n",
       "      <td>12754.00</td>\n",
       "      <td>11499.00</td>\n",
       "      <td>14009.00</td>\n",
       "      <td>2</td>\n",
       "      <td>750.00</td>\n",
       "      <td>12004.00</td>\n",
       "    </tr>\n",
       "    <tr>\n",
       "      <th>mirage</th>\n",
       "      <td>12489.00</td>\n",
       "      <td>12489.00</td>\n",
       "      <td>12489.00</td>\n",
       "      <td>12489.00</td>\n",
       "      <td>1</td>\n",
       "      <td>2500.00</td>\n",
       "      <td>9989.00</td>\n",
       "    </tr>\n",
       "    <tr>\n",
       "      <th>imbera home</th>\n",
       "      <td>12184.00</td>\n",
       "      <td>12184.00</td>\n",
       "      <td>12184.00</td>\n",
       "      <td>12184.00</td>\n",
       "      <td>1</td>\n",
       "      <td>0.00</td>\n",
       "      <td>12184.00</td>\n",
       "    </tr>\n",
       "    <tr>\n",
       "      <th>prime</th>\n",
       "      <td>11499.00</td>\n",
       "      <td>11499.00</td>\n",
       "      <td>9999.00</td>\n",
       "      <td>12999.00</td>\n",
       "      <td>2</td>\n",
       "      <td>1725.00</td>\n",
       "      <td>9774.00</td>\n",
       "    </tr>\n",
       "    <tr>\n",
       "      <th>daewoo</th>\n",
       "      <td>11085.50</td>\n",
       "      <td>10677.00</td>\n",
       "      <td>10349.00</td>\n",
       "      <td>12639.00</td>\n",
       "      <td>4</td>\n",
       "      <td>1685.00</td>\n",
       "      <td>9400.50</td>\n",
       "    </tr>\n",
       "    <tr>\n",
       "      <th>aspix</th>\n",
       "      <td>7639.00</td>\n",
       "      <td>7399.00</td>\n",
       "      <td>6999.00</td>\n",
       "      <td>8299.00</td>\n",
       "      <td>5</td>\n",
       "      <td>2220.00</td>\n",
       "      <td>5419.00</td>\n",
       "    </tr>\n",
       "  </tbody>\n",
       "</table>\n",
       "</div>"
      ],
      "text/plain": [
       "             Price_mean  Price_median  Price_min  Price_max  Price_count  \\\n",
       "Brand                                                                      \n",
       "cristel        26243.00      26243.00   26243.00   26243.00            1   \n",
       "samsung        25815.36      19999.00   12599.00   75199.00           22   \n",
       "metalfrio      25468.00      25468.00   25468.00   25468.00            1   \n",
       "lg             22270.73      19799.00   13549.00   34999.00           11   \n",
       "whirlpool      19339.00      14349.00   12099.00   40799.00           10   \n",
       "hisense        17931.50      18659.00    8299.00   25999.00           12   \n",
       "mabe           17912.19      16799.00    8999.00   25299.00           16   \n",
       "midea          15893.17      14899.00    7699.00   29499.00           12   \n",
       "tcl            12915.00      11079.00    9999.00   19999.00            5   \n",
       "acros          12754.00      12754.00   11499.00   14009.00            2   \n",
       "mirage         12489.00      12489.00   12489.00   12489.00            1   \n",
       "imbera home    12184.00      12184.00   12184.00   12184.00            1   \n",
       "prime          11499.00      11499.00    9999.00   12999.00            2   \n",
       "daewoo         11085.50      10677.00   10349.00   12639.00            4   \n",
       "aspix           7639.00       7399.00    6999.00    8299.00            5   \n",
       "\n",
       "             Discount_mean  Final_Price_mean  \n",
       "Brand                                         \n",
       "cristel               0.00          26243.00  \n",
       "samsung            6431.82          19383.55  \n",
       "metalfrio             0.00          25468.00  \n",
       "lg                 5169.00          17101.73  \n",
       "whirlpool          4076.00          15263.00  \n",
       "hisense            5254.17          12677.33  \n",
       "mabe               4988.06          12924.12  \n",
       "midea              2898.33          12994.83  \n",
       "tcl                2844.00          10071.00  \n",
       "acros               750.00          12004.00  \n",
       "mirage             2500.00           9989.00  \n",
       "imbera home           0.00          12184.00  \n",
       "prime              1725.00           9774.00  \n",
       "daewoo             1685.00           9400.50  \n",
       "aspix              2220.00           5419.00  "
      ]
     },
     "metadata": {},
     "output_type": "display_data"
    }
   ],
   "source": [
    "# Análisis de precios por marca\n",
    "def analyze_prices_by_brand(df, title):\n",
    "    \"\"\"\n",
    "    Analiza y visualiza precios por marca.\n",
    "    \"\"\"\n",
    "    print(f\"\\n{'='*80}\")\n",
    "    print(f\"ANÁLISIS DE PRECIOS POR MARCA - {title}\")\n",
    "    print(f\"{'='*80}\")\n",
    "    \n",
    "    brand_stats = df.groupby('Brand').agg({\n",
    "        'Price': ['mean', 'median', 'min', 'max', 'count'],\n",
    "        'Discount': 'mean',\n",
    "        'Final_Price': 'mean'\n",
    "    }).round(2)\n",
    "    \n",
    "    brand_stats.columns = ['_'.join(col).strip() for col in brand_stats.columns]\n",
    "    brand_stats = brand_stats.sort_values('Price_mean', ascending=False)\n",
    "    \n",
    "    display(brand_stats.head(15))\n",
    "    \n",
    "    return brand_stats\n",
    "\n",
    "\n",
    "brand_stats_exact = analyze_prices_by_brand(df_exact_clean, 'EXACT MATCH')\n",
    "brand_stats_detailed = analyze_prices_by_brand(df_detailed_clean, 'DETAILED')"
   ]
  },
  {
   "cell_type": "code",
   "execution_count": 20,
   "metadata": {},
   "outputs": [
    {
     "data": {
      "image/png": "[encoded data removed]",
      "text/plain": [
       "<Figure size 1600x1200 with 4 Axes>"
      ]
     },
     "metadata": {},
     "output_type": "display_data"
    }
   ],
   "source": [
    "# Distribución de precios\n",
    "fig, axes = plt.subplots(2, 2, figsize=(16, 12))\n",
    "\n",
    "# Histograma de precios - Exact Match\n",
    "axes[0, 0].hist(df_exact_clean['Price'].dropna(), bins=30, color='skyblue', edgecolor='black')\n",
    "axes[0, 0].set_title('Distribución de Precios - Exact Match', fontsize=12, fontweight='bold')\n",
    "axes[0, 0].set_xlabel('Precio (MXN)')\n",
    "axes[0, 0].set_ylabel('Frecuencia')\n",
    "axes[0, 0].axvline(df_exact_clean['Price'].median(), color='red', linestyle='--', label='Mediana')\n",
    "axes[0, 0].legend()\n",
    "\n",
    "# Histograma de precios - Detailed\n",
    "axes[0, 1].hist(df_detailed_clean['Price'].dropna(), bins=30, color='lightgreen', edgecolor='black')\n",
    "axes[0, 1].set_title('Distribución de Precios - Detailed', fontsize=12, fontweight='bold')\n",
    "axes[0, 1].set_xlabel('Precio (MXN)')\n",
    "axes[0, 1].set_ylabel('Frecuencia')\n",
    "axes[0, 1].axvline(df_detailed_clean['Price'].median(), color='red', linestyle='--', label='Mediana')\n",
    "axes[0, 1].legend()\n",
    "\n",
    "# Box plot de precios por marca - Top 10 marcas (Exact Match)\n",
    "top_brands_exact = df_exact_clean['Brand'].value_counts().head(10).index\n",
    "df_top_exact = df_exact_clean[df_exact_clean['Brand'].isin(top_brands_exact)]\n",
    "df_top_exact.boxplot(column='Price', by='Brand', ax=axes[1, 0], rot=45)\n",
    "axes[1, 0].set_title('Distribución de Precios por Marca (Top 10) - Exact Match', fontsize=12, fontweight='bold')\n",
    "axes[1, 0].set_xlabel('Marca')\n",
    "axes[1, 0].set_ylabel('Precio (MXN)')\n",
    "plt.sca(axes[1, 0])\n",
    "plt.xticks(rotation=45, ha='right')\n",
    "\n",
    "# Box plot de precios por marca - Top 10 marcas (Detailed)\n",
    "top_brands_detailed = df_detailed_clean['Brand'].value_counts().head(10).index\n",
    "df_top_detailed = df_detailed_clean[df_detailed_clean['Brand'].isin(top_brands_detailed)]\n",
    "df_top_detailed.boxplot(column='Price', by='Brand', ax=axes[1, 1], rot=45)\n",
    "axes[1, 1].set_title('Distribución de Precios por Marca (Top 10) - Detailed', fontsize=12, fontweight='bold')\n",
    "axes[1, 1].set_xlabel('Marca')\n",
    "axes[1, 1].set_ylabel('Precio (MXN)')\n",
    "plt.sca(axes[1, 1])\n",
    "plt.xticks(rotation=45, ha='right')\n",
    "\n",
    "plt.suptitle('')\n",
    "plt.tight_layout()\n",
    "plt.show()"
   ]
  },
  {
   "cell_type": "markdown",
   "metadata": {},
   "source": [
    "## 4. Análisis de Competitividad"
   ]
  },
  {
   "cell_type": "code",
   "execution_count": 21,
   "metadata": {},
   "outputs": [
    {
     "name": "stdout",
     "output_type": "stream",
     "text": [
      "\n",
      "🔍 ANÁLISIS DE DISPONIBILIDAD Y COMPETENCIA\n",
      "================================================================================\n",
      "\n",
      "Distribución por Status:\n",
      "Status\n",
      "No Competitor    108\n",
      "Out Of Stock      92\n",
      "Name: count, dtype: int64\n",
      "\n",
      "Productos fuera de stock: 0 (0.0%)\n"
     ]
    },
    {
     "ename": "IndexError",
     "evalue": "index 0 is out of bounds for axis 0 with size 0",
     "output_type": "error",
     "traceback": [
      "\u001b[31m---------------------------------------------------------------------------\u001b[39m",
      "\u001b[31mIndexError\u001b[39m                                Traceback (most recent call last)",
      "\u001b[36mCell\u001b[39m\u001b[36m \u001b[39m\u001b[32mIn[21]\u001b[39m\u001b[32m, line 24\u001b[39m\n\u001b[32m     22\u001b[39m \u001b[38;5;66;03m# Bar chart - Out of Stock\u001b[39;00m\n\u001b[32m     23\u001b[39m out_data = df_exact_clean[\u001b[33m'\u001b[39m\u001b[33mOut\u001b[39m\u001b[33m'\u001b[39m].value_counts()\n\u001b[32m---> \u001b[39m\u001b[32m24\u001b[39m \u001b[43mout_data\u001b[49m\u001b[43m.\u001b[49m\u001b[43mplot\u001b[49m\u001b[43m(\u001b[49m\u001b[43mkind\u001b[49m\u001b[43m=\u001b[49m\u001b[33;43m'\u001b[39;49m\u001b[33;43mbar\u001b[39;49m\u001b[33;43m'\u001b[39;49m\u001b[43m,\u001b[49m\u001b[43m \u001b[49m\u001b[43max\u001b[49m\u001b[43m=\u001b[49m\u001b[43maxes\u001b[49m\u001b[43m[\u001b[49m\u001b[32;43m1\u001b[39;49m\u001b[43m]\u001b[49m\u001b[43m,\u001b[49m\u001b[43m \u001b[49m\u001b[43mcolor\u001b[49m\u001b[43m=\u001b[49m\u001b[43m[\u001b[49m\u001b[33;43m'\u001b[39;49m\u001b[33;43m#66b3ff\u001b[39;49m\u001b[33;43m'\u001b[39;49m\u001b[43m,\u001b[49m\u001b[43m \u001b[49m\u001b[33;43m'\u001b[39;49m\u001b[33;43m#ff9999\u001b[39;49m\u001b[33;43m'\u001b[39;49m\u001b[43m]\u001b[49m\u001b[43m)\u001b[49m\n\u001b[32m     25\u001b[39m axes[\u001b[32m1\u001b[39m].set_title(\u001b[33m'\u001b[39m\u001b[33mProductos en Stock vs Fuera de Stock\u001b[39m\u001b[33m'\u001b[39m, fontsize=\u001b[32m12\u001b[39m, fontweight=\u001b[33m'\u001b[39m\u001b[33mbold\u001b[39m\u001b[33m'\u001b[39m)\n\u001b[32m     26\u001b[39m axes[\u001b[32m1\u001b[39m].set_xlabel(\u001b[33m'\u001b[39m\u001b[33mEstado\u001b[39m\u001b[33m'\u001b[39m)\n",
      "\u001b[36mFile \u001b[39m\u001b[32m~/anaconda3/envs/webscraping-analysis/lib/python3.11/site-packages/pandas/plotting/_core.py:1030\u001b[39m, in \u001b[36mPlotAccessor.__call__\u001b[39m\u001b[34m(self, *args, **kwargs)\u001b[39m\n\u001b[32m   1027\u001b[39m             label_name = label_kw \u001b[38;5;129;01mor\u001b[39;00m data.columns\n\u001b[32m   1028\u001b[39m             data.columns = label_name\n\u001b[32m-> \u001b[39m\u001b[32m1030\u001b[39m \u001b[38;5;28;01mreturn\u001b[39;00m \u001b[43mplot_backend\u001b[49m\u001b[43m.\u001b[49m\u001b[43mplot\u001b[49m\u001b[43m(\u001b[49m\u001b[43mdata\u001b[49m\u001b[43m,\u001b[49m\u001b[43m \u001b[49m\u001b[43mkind\u001b[49m\u001b[43m=\u001b[49m\u001b[43mkind\u001b[49m\u001b[43m,\u001b[49m\u001b[43m \u001b[49m\u001b[43m*\u001b[49m\u001b[43m*\u001b[49m\u001b[43mkwargs\u001b[49m\u001b[43m)\u001b[49m\n",
      "\u001b[36mFile \u001b[39m\u001b[32m~/anaconda3/envs/webscraping-analysis/lib/python3.11/site-packages/pandas/plotting/_matplotlib/__init__.py:71\u001b[39m, in \u001b[36mplot\u001b[39m\u001b[34m(data, kind, **kwargs)\u001b[39m\n\u001b[32m     69\u001b[39m         kwargs[\u001b[33m\"\u001b[39m\u001b[33max\u001b[39m\u001b[33m\"\u001b[39m] = \u001b[38;5;28mgetattr\u001b[39m(ax, \u001b[33m\"\u001b[39m\u001b[33mleft_ax\u001b[39m\u001b[33m\"\u001b[39m, ax)\n\u001b[32m     70\u001b[39m plot_obj = PLOT_CLASSES[kind](data, **kwargs)\n\u001b[32m---> \u001b[39m\u001b[32m71\u001b[39m \u001b[43mplot_obj\u001b[49m\u001b[43m.\u001b[49m\u001b[43mgenerate\u001b[49m\u001b[43m(\u001b[49m\u001b[43m)\u001b[49m\n\u001b[32m     72\u001b[39m plot_obj.draw()\n\u001b[32m     73\u001b[39m \u001b[38;5;28;01mreturn\u001b[39;00m plot_obj.result\n",
      "\u001b[36mFile \u001b[39m\u001b[32m~/anaconda3/envs/webscraping-analysis/lib/python3.11/site-packages/pandas/plotting/_matplotlib/core.py:508\u001b[39m, in \u001b[36mMPLPlot.generate\u001b[39m\u001b[34m(self)\u001b[39m\n\u001b[32m    506\u001b[39m \u001b[38;5;28;01mfor\u001b[39;00m ax \u001b[38;5;129;01min\u001b[39;00m \u001b[38;5;28mself\u001b[39m.axes:\n\u001b[32m    507\u001b[39m     \u001b[38;5;28mself\u001b[39m._post_plot_logic_common(ax)\n\u001b[32m--> \u001b[39m\u001b[32m508\u001b[39m     \u001b[38;5;28;43mself\u001b[39;49m\u001b[43m.\u001b[49m\u001b[43m_post_plot_logic\u001b[49m\u001b[43m(\u001b[49m\u001b[43max\u001b[49m\u001b[43m,\u001b[49m\u001b[43m \u001b[49m\u001b[38;5;28;43mself\u001b[39;49m\u001b[43m.\u001b[49m\u001b[43mdata\u001b[49m\u001b[43m)\u001b[49m\n",
      "\u001b[36mFile \u001b[39m\u001b[32m~/anaconda3/envs/webscraping-analysis/lib/python3.11/site-packages/pandas/plotting/_matplotlib/core.py:1972\u001b[39m, in \u001b[36mBarPlot._post_plot_logic\u001b[39m\u001b[34m(self, ax, data)\u001b[39m\n\u001b[32m   1969\u001b[39m \u001b[38;5;28;01melse\u001b[39;00m:\n\u001b[32m   1970\u001b[39m     str_index = [pprint_thing(key) \u001b[38;5;28;01mfor\u001b[39;00m key \u001b[38;5;129;01min\u001b[39;00m \u001b[38;5;28mrange\u001b[39m(data.shape[\u001b[32m0\u001b[39m])]\n\u001b[32m-> \u001b[39m\u001b[32m1972\u001b[39m s_edge = \u001b[38;5;28;43mself\u001b[39;49m\u001b[43m.\u001b[49m\u001b[43max_pos\u001b[49m\u001b[43m[\u001b[49m\u001b[32;43m0\u001b[39;49m\u001b[43m]\u001b[49m - \u001b[32m0.25\u001b[39m + \u001b[38;5;28mself\u001b[39m.lim_offset\n\u001b[32m   1973\u001b[39m e_edge = \u001b[38;5;28mself\u001b[39m.ax_pos[-\u001b[32m1\u001b[39m] + \u001b[32m0.25\u001b[39m + \u001b[38;5;28mself\u001b[39m.bar_width + \u001b[38;5;28mself\u001b[39m.lim_offset\n\u001b[32m   1975\u001b[39m \u001b[38;5;28mself\u001b[39m._decorate_ticks(ax, \u001b[38;5;28mself\u001b[39m._get_index_name(), str_index, s_edge, e_edge)\n",
      "\u001b[31mIndexError\u001b[39m: index 0 is out of bounds for axis 0 with size 0"
     ]
    },
    {
     "data": {
      "image/png": "[encoded data removed]",
      "text/plain": [
       "<Figure size 1400x500 with 2 Axes>"
      ]
     },
     "metadata": {},
     "output_type": "display_data"
    }
   ],
   "source": [
    "# Análisis de disponibilidad y competencia\n",
    "print(\"\\n🔍 ANÁLISIS DE DISPONIBILIDAD Y COMPETENCIA\")\n",
    "print(\"=\" * 80)\n",
    "\n",
    "# Status distribution\n",
    "status_dist = df_exact_clean['Status'].value_counts()\n",
    "print(\"\\nDistribución por Status:\")\n",
    "print(status_dist)\n",
    "\n",
    "# Out of stock analysis\n",
    "out_of_stock_pct = round(df_exact_clean['Out'].sum() / len(df_exact_clean) * 100, 2)\n",
    "print(f\"\\nProductos fuera de stock: {df_exact_clean['Out'].sum()} ({out_of_stock_pct}%)\")\n",
    "\n",
    "# Visualización\n",
    "fig, axes = plt.subplots(1, 2, figsize=(14, 5))\n",
    "\n",
    "# Pie chart - Status\n",
    "status_dist.plot(kind='pie', ax=axes[0], autopct='%1.1f%%', startangle=90, colors=['#ff9999','#66b3ff','#99ff99'])\n",
    "axes[0].set_title('Distribución por Status de Competencia', fontsize=12, fontweight='bold')\n",
    "axes[0].set_ylabel('')\n",
    "\n",
    "# Bar chart - Out of Stock\n",
    "out_data = df_exact_clean['Out'].value_counts()\n",
    "out_data.plot(kind='bar', ax=axes[1], color=['#66b3ff', '#ff9999'])\n",
    "axes[1].set_title('Productos en Stock vs Fuera de Stock', fontsize=12, fontweight='bold')\n",
    "axes[1].set_xlabel('Estado')\n",
    "axes[1].set_ylabel('Cantidad')\n",
    "axes[1].set_xticklabels(['En Stock', 'Fuera de Stock'], rotation=0)\n",
    "\n",
    "plt.tight_layout()\n",
    "plt.show()"
   ]
  },
  {
   "cell_type": "code",
   "execution_count": 22,
   "metadata": {},
   "outputs": [
    {
     "name": "stdout",
     "output_type": "stream",
     "text": [
      "\n",
      "💰 ANÁLISIS DE DESCUENTOS\n",
      "================================================================================\n",
      "\n",
      "Exact Match:\n",
      "  - Productos con descuento: 172 de 200\n",
      "  - Descuento promedio: $6836.34 MXN\n",
      "  - Descuento promedio (%): 36.20%\n",
      "\n",
      "Detailed:\n",
      "  - Productos con descuento: 96 de 107\n",
      "  - Descuento promedio: $4759.04 MXN\n",
      "  - Descuento promedio (%): 19.40%\n",
      "\n",
      "🏆 TOP 10 PRODUCTOS CON MAYOR DESCUENTO (%)\n"
     ]
    },
    {
     "data": {
      "text/html": [
       "<div>\n",
       "<style scoped>\n",
       "    .dataframe tbody tr th:only-of-type {\n",
       "        vertical-align: middle;\n",
       "    }\n",
       "\n",
       "    .dataframe tbody tr th {\n",
       "        vertical-align: top;\n",
       "    }\n",
       "\n",
       "    .dataframe thead th {\n",
       "        text-align: right;\n",
       "    }\n",
       "</style>\n",
       "<table border=\"1\" class=\"dataframe\">\n",
       "  <thead>\n",
       "    <tr style=\"text-align: right;\">\n",
       "      <th></th>\n",
       "      <th>Name</th>\n",
       "      <th>Brand</th>\n",
       "      <th>Price</th>\n",
       "      <th>Discount</th>\n",
       "      <th>Discount_Percent</th>\n",
       "      <th>Final_Price</th>\n",
       "    </tr>\n",
       "  </thead>\n",
       "  <tbody>\n",
       "    <tr>\n",
       "      <th>152</th>\n",
       "      <td>Refrigerador Samsung Family Hub French Door 31...</td>\n",
       "      <td>samsung</td>\n",
       "      <td>22999.00</td>\n",
       "      <td>69800.00</td>\n",
       "      <td>303.49</td>\n",
       "      <td>-46801.00</td>\n",
       "    </tr>\n",
       "    <tr>\n",
       "      <th>165</th>\n",
       "      <td>Refrigerador GE Monogram 22 Pies Café ZIR360NX...</td>\n",
       "      <td>ge monogram</td>\n",
       "      <td>25999.00</td>\n",
       "      <td>54500.00</td>\n",
       "      <td>209.62</td>\n",
       "      <td>-28501.00</td>\n",
       "    </tr>\n",
       "    <tr>\n",
       "      <th>56</th>\n",
       "      <td>Refrigerador IO Mabe Top Mount 19 Pies Platead...</td>\n",
       "      <td>io mabe</td>\n",
       "      <td>12299.00</td>\n",
       "      <td>18900.00</td>\n",
       "      <td>153.67</td>\n",
       "      <td>-6601.00</td>\n",
       "    </tr>\n",
       "    <tr>\n",
       "      <th>55</th>\n",
       "      <td>Refrigerador Mabe Top Mount 19 Pies Gris RMS51...</td>\n",
       "      <td>mabe</td>\n",
       "      <td>12299.00</td>\n",
       "      <td>13800.00</td>\n",
       "      <td>112.20</td>\n",
       "      <td>-1501.00</td>\n",
       "    </tr>\n",
       "    <tr>\n",
       "      <th>150</th>\n",
       "      <td>Refrigerador Whirlpool Side by Side 21 Pies Pl...</td>\n",
       "      <td>whirlpool</td>\n",
       "      <td>22599.00</td>\n",
       "      <td>22400.00</td>\n",
       "      <td>99.12</td>\n",
       "      <td>199.00</td>\n",
       "    </tr>\n",
       "    <tr>\n",
       "      <th>64</th>\n",
       "      <td>Refrigerador LG Top Mount 15 Pies Negro LT44AGD</td>\n",
       "      <td>lg</td>\n",
       "      <td>12999.00</td>\n",
       "      <td>12800.00</td>\n",
       "      <td>98.47</td>\n",
       "      <td>199.00</td>\n",
       "    </tr>\n",
       "    <tr>\n",
       "      <th>131</th>\n",
       "      <td>Refrigerador Samsung Bespoke Bottom 12ft Perso...</td>\n",
       "      <td>samsung</td>\n",
       "      <td>19799.00</td>\n",
       "      <td>19200.00</td>\n",
       "      <td>96.97</td>\n",
       "      <td>599.00</td>\n",
       "    </tr>\n",
       "    <tr>\n",
       "      <th>128</th>\n",
       "      <td>Refrigerador Samsung Side by Side 28 Pies Plat...</td>\n",
       "      <td>samsung</td>\n",
       "      <td>19499.00</td>\n",
       "      <td>18500.00</td>\n",
       "      <td>94.88</td>\n",
       "      <td>999.00</td>\n",
       "    </tr>\n",
       "    <tr>\n",
       "      <th>29</th>\n",
       "      <td>Refrigerador Teka Top Mount 14 Pies Acero RTF ...</td>\n",
       "      <td>teka</td>\n",
       "      <td>9999.00</td>\n",
       "      <td>9200.00</td>\n",
       "      <td>92.01</td>\n",
       "      <td>799.00</td>\n",
       "    </tr>\n",
       "    <tr>\n",
       "      <th>181</th>\n",
       "      <td>Refrigerador Whirlpool French Door 25 Pies Neg...</td>\n",
       "      <td>whirlpool</td>\n",
       "      <td>32499.00</td>\n",
       "      <td>27500.00</td>\n",
       "      <td>84.62</td>\n",
       "      <td>4999.00</td>\n",
       "    </tr>\n",
       "  </tbody>\n",
       "</table>\n",
       "</div>"
      ],
      "text/plain": [
       "                                                  Name        Brand    Price  \\\n",
       "152  Refrigerador Samsung Family Hub French Door 31...      samsung 22999.00   \n",
       "165  Refrigerador GE Monogram 22 Pies Café ZIR360NX...  ge monogram 25999.00   \n",
       "56   Refrigerador IO Mabe Top Mount 19 Pies Platead...      io mabe 12299.00   \n",
       "55   Refrigerador Mabe Top Mount 19 Pies Gris RMS51...         mabe 12299.00   \n",
       "150  Refrigerador Whirlpool Side by Side 21 Pies Pl...    whirlpool 22599.00   \n",
       "64     Refrigerador LG Top Mount 15 Pies Negro LT44AGD           lg 12999.00   \n",
       "131  Refrigerador Samsung Bespoke Bottom 12ft Perso...      samsung 19799.00   \n",
       "128  Refrigerador Samsung Side by Side 28 Pies Plat...      samsung 19499.00   \n",
       "29   Refrigerador Teka Top Mount 14 Pies Acero RTF ...         teka  9999.00   \n",
       "181  Refrigerador Whirlpool French Door 25 Pies Neg...    whirlpool 32499.00   \n",
       "\n",
       "     Discount  Discount_Percent  Final_Price  \n",
       "152  69800.00            303.49    -46801.00  \n",
       "165  54500.00            209.62    -28501.00  \n",
       "56   18900.00            153.67     -6601.00  \n",
       "55   13800.00            112.20     -1501.00  \n",
       "150  22400.00             99.12       199.00  \n",
       "64   12800.00             98.47       199.00  \n",
       "131  19200.00             96.97       599.00  \n",
       "128  18500.00             94.88       999.00  \n",
       "29    9200.00             92.01       799.00  \n",
       "181  27500.00             84.62      4999.00  "
      ]
     },
     "metadata": {},
     "output_type": "display_data"
    }
   ],
   "source": [
    "# Análisis de descuentos\n",
    "print(\"\\n💰 ANÁLISIS DE DESCUENTOS\")\n",
    "print(\"=\" * 80)\n",
    "\n",
    "# Productos con descuento\n",
    "productos_con_descuento_exact = df_exact_clean[df_exact_clean['Discount'] > 0]\n",
    "productos_con_descuento_detailed = df_detailed_clean[df_detailed_clean['Discount'] > 0]\n",
    "\n",
    "print(f\"\\nExact Match:\")\n",
    "print(f\"  - Productos con descuento: {len(productos_con_descuento_exact)} de {len(df_exact_clean)}\")\n",
    "print(f\"  - Descuento promedio: ${productos_con_descuento_exact['Discount'].mean():.2f} MXN\")\n",
    "print(f\"  - Descuento promedio (%): {productos_con_descuento_exact['Discount_Percent'].mean():.2f}%\")\n",
    "\n",
    "print(f\"\\nDetailed:\")\n",
    "print(f\"  - Productos con descuento: {len(productos_con_descuento_detailed)} de {len(df_detailed_clean)}\")\n",
    "print(f\"  - Descuento promedio: ${productos_con_descuento_detailed['Discount'].mean():.2f} MXN\")\n",
    "print(f\"  - Descuento promedio (%): {productos_con_descuento_detailed['Discount_Percent'].mean():.2f}%\")\n",
    "\n",
    "# Top 10 productos con mayor descuento porcentual\n",
    "print(\"\\n🏆 TOP 10 PRODUCTOS CON MAYOR DESCUENTO (%)\")\n",
    "top_discount_exact = df_exact_clean.nlargest(10, 'Discount_Percent')[[\n",
    "    'Name', 'Brand', 'Price', 'Discount', 'Discount_Percent', 'Final_Price'\n",
    "]]\n",
    "display(top_discount_exact)"
   ]
  },
  {
   "cell_type": "code",
   "execution_count": null,
   "metadata": {},
   "outputs": [],
   "source": [
    "# Análisis de descuentos por marca\n",
    "discount_by_brand_exact = df_exact_clean[df_exact_clean['Discount'] > 0].groupby('Brand').agg({\n",
    "    'Discount': 'mean',\n",
    "    'Discount_Percent': 'mean',\n",
    "    'Price': 'count'\n",
    "}).round(2)\n",
    "\n",
    "discount_by_brand_exact.columns = ['Descuento_Promedio', 'Descuento_Pct', 'Num_Productos']\n",
    "discount_by_brand_exact = discount_by_brand_exact.sort_values('Descuento_Pct', ascending=False).head(15)\n",
    "\n",
    "print(\"\\n📊 DESCUENTOS PROMEDIO POR MARCA (TOP 15)\")\n",
    "display(discount_by_brand_exact)\n",
    "\n",
    "# Visualización\n",
    "fig, ax = plt.subplots(figsize=(12, 6))\n",
    "discount_by_brand_exact['Descuento_Pct'].plot(kind='barh', ax=ax, color='coral')\n",
    "plt.title('Descuento Promedio (%) por Marca - Top 15', fontsize=14, fontweight='bold')\n",
    "plt.xlabel('Descuento Promedio (%)')\n",
    "plt.ylabel('Marca')\n",
    "plt.tight_layout()\n",
    "plt.show()"
   ]
  },
  {
   "cell_type": "markdown",
   "metadata": {},
   "source": [
    "## 5. Análisis de Atributos Técnicos"
   ]
  },
  {
   "cell_type": "code",
   "execution_count": 23,
   "metadata": {},
   "outputs": [
    {
     "name": "stdout",
     "output_type": "stream",
     "text": [
      "\n",
      "🔧 ANÁLISIS DE ATRIBUTOS TÉCNICOS\n",
      "================================================================================\n",
      "\n",
      "Capacidad de Refrigeradores:\n",
      "  - Promedio: 14.95 pies cúbicos\n",
      "  - Mediana: 14.00 pies cúbicos\n",
      "  - Rango: 7.00 - 32.00 pies cúbicos\n"
     ]
    },
    {
     "data": {
      "image/png": "[encoded data removed]",
      "text/plain": [
       "<Figure size 1400x500 with 2 Axes>"
      ]
     },
     "metadata": {},
     "output_type": "display_data"
    }
   ],
   "source": [
    "# Análisis de capacidad de refrigeradores\n",
    "print(\"\\n🔧 ANÁLISIS DE ATRIBUTOS TÉCNICOS\")\n",
    "print(\"=\" * 80)\n",
    "\n",
    "if 'Capacity_Numeric' in df_detailed_clean.columns:\n",
    "    capacity_data = df_detailed_clean[df_detailed_clean['Capacity_Numeric'].notna()]\n",
    "    \n",
    "    print(f\"\\nCapacidad de Refrigeradores:\")\n",
    "    print(f\"  - Promedio: {capacity_data['Capacity_Numeric'].mean():.2f} pies cúbicos\")\n",
    "    print(f\"  - Mediana: {capacity_data['Capacity_Numeric'].median():.2f} pies cúbicos\")\n",
    "    print(f\"  - Rango: {capacity_data['Capacity_Numeric'].min():.2f} - {capacity_data['Capacity_Numeric'].max():.2f} pies cúbicos\")\n",
    "    \n",
    "    # Distribución de capacidades\n",
    "    fig, axes = plt.subplots(1, 2, figsize=(14, 5))\n",
    "    \n",
    "    # Histograma\n",
    "    axes[0].hist(capacity_data['Capacity_Numeric'], bins=20, color='lightblue', edgecolor='black')\n",
    "    axes[0].set_title('Distribución de Capacidad de Refrigeradores', fontsize=12, fontweight='bold')\n",
    "    axes[0].set_xlabel('Capacidad (pies cúbicos)')\n",
    "    axes[0].set_ylabel('Frecuencia')\n",
    "    axes[0].axvline(capacity_data['Capacity_Numeric'].mean(), color='red', linestyle='--', label='Promedio')\n",
    "    axes[0].legend()\n",
    "    \n",
    "    # Relación capacidad vs precio\n",
    "    axes[1].scatter(capacity_data['Capacity_Numeric'], capacity_data['Final_Price'], alpha=0.6, color='green')\n",
    "    axes[1].set_title('Relación Capacidad vs Precio Final', fontsize=12, fontweight='bold')\n",
    "    axes[1].set_xlabel('Capacidad (pies cúbicos)')\n",
    "    axes[1].set_ylabel('Precio Final (MXN)')\n",
    "    \n",
    "    # Línea de tendencia\n",
    "    z = np.polyfit(capacity_data['Capacity_Numeric'].dropna(), capacity_data['Final_Price'].dropna(), 1)\n",
    "    p = np.poly1d(z)\n",
    "    axes[1].plot(capacity_data['Capacity_Numeric'].sort_values(), \n",
    "                 p(capacity_data['Capacity_Numeric'].sort_values()), \n",
    "                 \"r--\", alpha=0.8, label='Tendencia')\n",
    "    axes[1].legend()\n",
    "    \n",
    "    plt.tight_layout()\n",
    "    plt.show()"
   ]
  },
  {
   "cell_type": "code",
   "execution_count": 24,
   "metadata": {},
   "outputs": [
    {
     "name": "stdout",
     "output_type": "stream",
     "text": [
      "\n",
      "🧊 ANÁLISIS DE TIPOS DE REFRIGERADOR\n",
      "================================================================================\n",
      "\n",
      "Distribución de Tipos:\n"
     ]
    },
    {
     "data": {
      "text/plain": [
       "Refrigerator_type\n",
       "top mount       58\n",
       "french door     13\n",
       "side-by-side     9\n",
       "bottom mount     4\n",
       "mini fridge      1\n",
       "Name: count, dtype: int64"
      ]
     },
     "metadata": {},
     "output_type": "display_data"
    },
    {
     "name": "stdout",
     "output_type": "stream",
     "text": [
      "\n",
      "Precio Promedio por Tipo:\n"
     ]
    },
    {
     "data": {
      "text/html": [
       "<div>\n",
       "<style scoped>\n",
       "    .dataframe tbody tr th:only-of-type {\n",
       "        vertical-align: middle;\n",
       "    }\n",
       "\n",
       "    .dataframe tbody tr th {\n",
       "        vertical-align: top;\n",
       "    }\n",
       "\n",
       "    .dataframe thead th {\n",
       "        text-align: right;\n",
       "    }\n",
       "</style>\n",
       "<table border=\"1\" class=\"dataframe\">\n",
       "  <thead>\n",
       "    <tr style=\"text-align: right;\">\n",
       "      <th></th>\n",
       "      <th>Precio_Promedio</th>\n",
       "      <th>Precio_Mediana</th>\n",
       "      <th>Cantidad</th>\n",
       "    </tr>\n",
       "    <tr>\n",
       "      <th>Refrigerator_type</th>\n",
       "      <th></th>\n",
       "      <th></th>\n",
       "      <th></th>\n",
       "    </tr>\n",
       "  </thead>\n",
       "  <tbody>\n",
       "    <tr>\n",
       "      <th>side-by-side</th>\n",
       "      <td>25067.89</td>\n",
       "      <td>17999.00</td>\n",
       "      <td>9</td>\n",
       "    </tr>\n",
       "    <tr>\n",
       "      <th>french door</th>\n",
       "      <td>22552.85</td>\n",
       "      <td>24099.00</td>\n",
       "      <td>13</td>\n",
       "    </tr>\n",
       "    <tr>\n",
       "      <th>bottom mount</th>\n",
       "      <td>17249.00</td>\n",
       "      <td>17749.00</td>\n",
       "      <td>4</td>\n",
       "    </tr>\n",
       "    <tr>\n",
       "      <th>mini fridge</th>\n",
       "      <td>12184.00</td>\n",
       "      <td>12184.00</td>\n",
       "      <td>1</td>\n",
       "    </tr>\n",
       "    <tr>\n",
       "      <th>top mount</th>\n",
       "      <td>11214.28</td>\n",
       "      <td>11139.00</td>\n",
       "      <td>58</td>\n",
       "    </tr>\n",
       "  </tbody>\n",
       "</table>\n",
       "</div>"
      ],
      "text/plain": [
       "                   Precio_Promedio  Precio_Mediana  Cantidad\n",
       "Refrigerator_type                                           \n",
       "side-by-side              25067.89        17999.00         9\n",
       "french door               22552.85        24099.00        13\n",
       "bottom mount              17249.00        17749.00         4\n",
       "mini fridge               12184.00        12184.00         1\n",
       "top mount                 11214.28        11139.00        58"
      ]
     },
     "metadata": {},
     "output_type": "display_data"
    },
    {
     "data": {
      "image/png": "[encoded data removed]",
      "text/plain": [
       "<Figure size 1400x500 with 2 Axes>"
      ]
     },
     "metadata": {},
     "output_type": "display_data"
    }
   ],
   "source": [
    "# Análisis de tipos de refrigeradores\n",
    "if 'Refrigerator_type' in df_detailed_clean.columns:\n",
    "    print(\"\\n🧊 ANÁLISIS DE TIPOS DE REFRIGERADOR\")\n",
    "    print(\"=\" * 80)\n",
    "    \n",
    "    refrig_type_dist = df_detailed_clean['Refrigerator_type'].value_counts()\n",
    "    print(\"\\nDistribución de Tipos:\")\n",
    "    display(refrig_type_dist)\n",
    "    \n",
    "    # Precio promedio por tipo\n",
    "    price_by_type = df_detailed_clean.groupby('Refrigerator_type')['Final_Price'].agg(['mean', 'median', 'count']).round(2)\n",
    "    price_by_type.columns = ['Precio_Promedio', 'Precio_Mediana', 'Cantidad']\n",
    "    price_by_type = price_by_type.sort_values('Precio_Promedio', ascending=False)\n",
    "    \n",
    "    print(\"\\nPrecio Promedio por Tipo:\")\n",
    "    display(price_by_type)\n",
    "    \n",
    "    # Visualización\n",
    "    fig, axes = plt.subplots(1, 2, figsize=(14, 5))\n",
    "    \n",
    "    # Distribución de tipos\n",
    "    refrig_type_dist.plot(kind='bar', ax=axes[0], color='teal')\n",
    "    axes[0].set_title('Distribución de Tipos de Refrigerador', fontsize=12, fontweight='bold')\n",
    "    axes[0].set_xlabel('Tipo')\n",
    "    axes[0].set_ylabel('Cantidad')\n",
    "    axes[0].tick_params(axis='x', rotation=45)\n",
    "    \n",
    "    # Precio promedio por tipo\n",
    "    price_by_type['Precio_Promedio'].plot(kind='barh', ax=axes[1], color='orange')\n",
    "    axes[1].set_title('Precio Promedio por Tipo de Refrigerador', fontsize=12, fontweight='bold')\n",
    "    axes[1].set_xlabel('Precio Promedio (MXN)')\n",
    "    axes[1].set_ylabel('Tipo')\n",
    "    \n",
    "    plt.tight_layout()\n",
    "    plt.show()"
   ]
  },
  {
   "cell_type": "code",
   "execution_count": 25,
   "metadata": {},
   "outputs": [
    {
     "name": "stdout",
     "output_type": "stream",
     "text": [
      "\n",
      "🎨 ANÁLISIS DE COLORES\n",
      "================================================================================\n",
      "\n",
      "Top 10 Colores Más Populares:\n"
     ]
    },
    {
     "data": {
      "text/plain": [
       "Color_Clean\n",
       "grey      52\n",
       "silver    30\n",
       "black     18\n",
       "white      6\n",
       "blue       1\n",
       "Name: count, dtype: int64"
      ]
     },
     "metadata": {},
     "output_type": "display_data"
    },
    {
     "data": {
      "image/png": "[encoded data removed]",
      "text/plain": [
       "<Figure size 1200x600 with 1 Axes>"
      ]
     },
     "metadata": {},
     "output_type": "display_data"
    }
   ],
   "source": [
    "# Análisis de colores más populares\n",
    "if 'Color' in df_detailed_clean.columns:\n",
    "    print(\"\\n🎨 ANÁLISIS DE COLORES\")\n",
    "    print(\"=\" * 80)\n",
    "    \n",
    "    # Limpiar y normalizar colores\n",
    "    df_detailed_clean['Color_Clean'] = (\n",
    "        df_detailed_clean['Color']\n",
    "        .astype(str)\n",
    "        .str.lower()\n",
    "        .str.strip()\n",
    "        .str.split(',')\n",
    "        .str[0]  # Tomar primer color si hay múltiples\n",
    "    )\n",
    "    \n",
    "    color_dist = df_detailed_clean['Color_Clean'].value_counts().head(10)\n",
    "    print(\"\\nTop 10 Colores Más Populares:\")\n",
    "    display(color_dist)\n",
    "    \n",
    "    # Visualización\n",
    "    fig, ax = plt.subplots(figsize=(12, 6))\n",
    "    color_dist.plot(kind='bar', ax=ax, color='purple', alpha=0.7)\n",
    "    plt.title('Top 10 Colores Más Populares', fontsize=14, fontweight='bold')\n",
    "    plt.xlabel('Color')\n",
    "    plt.ylabel('Cantidad de Productos')\n",
    "    plt.xticks(rotation=45, ha='right')\n",
    "    plt.tight_layout()\n",
    "    plt.show()"
   ]
  },
  {
   "cell_type": "markdown",
   "metadata": {},
   "source": [
    "## 6. Visualizaciones Avanzadas"
   ]
  },
  {
   "cell_type": "code",
   "execution_count": 26,
   "metadata": {},
   "outputs": [
    {
     "data": {
      "application/vnd.plotly.v1+json": {
       "config": {
        "plotlyServerURL": "https://plot.ly"
       },
       "data": [
        {
         "customdata": [
          [
           "Refrigerador Tcl 6 Pies Cúbicos Con Dispensador De Agua TSD60BW-NEGRO",
           3449,
           "Out Of Stock"
          ],
          [
           "Refrigerador 11 Pies Top Mount Gris Tdd11s Tcl",
           6199,
           "Out Of Stock"
          ],
          [
           "Refrigerador TCL Top Mount 11 Pies Gris TDD11S",
           7999,
           "No Competitor"
          ],
          [
           "Refrigerador TCL Top Mount 12 Pies Negro TDD12B",
           8799,
           "No Competitor"
          ],
          [
           "Refrigerador 12 Pies Top Mount Gris Tdd12b Tcl",
           8859,
           "No Competitor"
          ],
          [
           "Refrigerador TCL Top Mount 15 Pies Gris TDD15BW",
           10199,
           "No Competitor"
          ],
          [
           "Refrigerador Tcl 18 Pies Cúbicos French Door Gris Tfr18si",
           14639,
           "Out Of Stock"
          ],
          [
           "Refrigerador TCL French Door 18 Pies Silver TFR18SI",
           14499,
           "No Competitor"
          ]
         ],
         "hovertemplate": "Brand=tcl<br>Precio Original (MXN)=%{x}<br>Descuento (MXN)=%{y}<br>Discount_Percent=%{marker.size}<br>Name=%{customdata[0]}<br>Final_Price=%{customdata[1]}<br>Status=%{customdata[2]}<extra></extra>",
         "legendgroup": "tcl",
         "marker": {
          "color": "#636efa",
          "line": {
           "color": "DarkSlateGrey",
           "width": 0.5
          },
          "size": {
           "bdata": "w/UoXI8COUApXI/C9eg7QAAAAAAAADRAcT0K16MwMEAK16NwPQo0QArXo3A9ijVAFK5H4XqUJEAAAAAAAIA7QA==",
           "dtype": "f8"
          },
          "sizemode": "area",
          "sizeref": 0.758725,
          "symbol": "circle"
         },
         "mode": "markers",
         "name": "tcl",
         "orientation": "v",
         "showlegend": true,
         "type": "scatter",
         "x": {
          "bdata": "AAAAAAD3sUAAAAAAgMvAQAAAAACAh8NAAAAAAICBxEAAAAAAgKPFQAAAAACAY8lAAAAAAIDfz0AAAAAAwIfTQA==",
          "dtype": "f8"
         },
         "xaxis": "x",
         "y": {
          "bdata": "AAAAAAD4kUAAAAAAAMCiQAAAAAAAQJ9AAAAAAACQmkAAAAAAAFihQAAAAAAA4KVAAAAAAABAmkAAAAAAAHy1QA==",
          "dtype": "f8"
         },
         "yaxis": "y"
        },
        {
         "customdata": [
          [
           "Refrigerador Aurus Aru07wb 7p3 Dark Silver C/despachador",
           2919,
           "Out Of Stock"
          ]
         ],
         "hovertemplate": "Brand=aurus<br>Precio Original (MXN)=%{x}<br>Descuento (MXN)=%{y}<br>Discount_Percent=%{marker.size}<br>Name=%{customdata[0]}<br>Final_Price=%{customdata[1]}<br>Status=%{customdata[2]}<extra></extra>",
         "legendgroup": "aurus",
         "marker": {
          "color": "#EF553B",
          "line": {
           "color": "DarkSlateGrey",
           "width": 0.5
          },
          "size": {
           "bdata": "j8L1KFxvRUA=",
           "dtype": "f8"
          },
          "sizemode": "area",
          "sizeref": 0.758725,
          "symbol": "circle"
         },
         "mode": "markers",
         "name": "aurus",
         "orientation": "v",
         "showlegend": true,
         "type": "scatter",
         "x": {
          "bdata": "AAAAAAD1s0A=",
          "dtype": "f8"
         },
         "xaxis": "x",
         "y": {
          "bdata": "AAAAAAAcoUA=",
          "dtype": "f8"
         },
         "yaxis": "y"
        },
        {
         "customdata": [
          [
           "Refrigerador Hisense RR63D6WWX Una Puerta 7 Pies Blanco",
           2999,
           "Out Of Stock"
          ],
          [
           "Refrigerador Hisense Una Puerta RR63D6WBX 7 Pies Negro",
           2499,
           "Out Of Stock"
          ],
          [
           "Refrigerador Hisense Una Puerta 7 Pies Gris RR63D6WGX",
           5199,
           "No Competitor"
          ],
          [
           "Refrigerador Hisense Top Mount 8 Pies Negro RT80D6WGX",
           6699,
           "No Competitor"
          ],
          [
           "Refrigerador 9 Pies Cúbicos Hisense Top Mount Gris Rt90n6wkx2",
           8849,
           "No Competitor"
          ],
          [
           "Refrigerador Hisense Top Mount 14 Pies Negro RT14N6BDX",
           11199,
           "No Competitor"
          ],
          [
           "Refrigerador Hisense Side by Side 18 Pies Plateado RS19N6WCX",
           5199,
           "Out Of Stock"
          ],
          [
           "Refrigerador Hisense Top Mount 16 Pies Gris RT16N6DDX",
           10999,
           "No Competitor"
          ],
          [
           "Refrigerador Hisense Top Mount 16 Pies Negro RT16N6BDX",
           10499,
           "No Competitor"
          ],
          [
           "Refrigerador Hisense Bottom Mount 17 Pies Plateado RB18N6CDX1",
           12999,
           "Out Of Stock"
          ],
          [
           "Refrigerador Hisense Top Mount 19 Pies Gris Rt19n6acx",
           15289,
           "No Competitor"
          ],
          [
           "Refrigerador Hisense Bottom Mount 15 Pies Negro RB15N6FBX1",
           14499,
           "No Competitor"
          ],
          [
           "Refrigerador Hisense Una Puerta 9 Pies Azul CVC494N3AWX",
           18999,
           "No Competitor"
          ],
          [
           "Refrigerador Hisense Side by Side 20 Pies Negro RS20N6WBX",
           14599,
           "No Competitor"
          ],
          [
           "Refrigerador Hisense Side by Side 23 Pies Plateado RS22N6GCX",
           17999,
           "No Competitor"
          ],
          [
           "Refrigerador Hisense French Door 22 Pies Plateado RF22N6FCX",
           17299,
           "No Competitor"
          ]
         ],
         "hovertemplate": "Brand=hisense<br>Precio Original (MXN)=%{x}<br>Descuento (MXN)=%{y}<br>Discount_Percent=%{marker.size}<br>Name=%{customdata[0]}<br>Final_Price=%{customdata[1]}<br>Status=%{customdata[2]}<extra></extra>",
         "legendgroup": "hisense",
         "marker": {
          "color": "#00cc96",
          "line": {
           "color": "DarkSlateGrey",
           "width": 0.5
          },
          "size": {
           "bdata": "exSuR+G6RkCPwvUoXK9LQM3MzMzMrEJAj8L1KFyPOUCPwvUoXA80QMP1KFyPwjZAPQrXo3CdUEBSuB6F63FDQEjhehSuJ0VAFK5H4XqUP0BI4XoUrgc0QDMzMzMz8z5ASOF6FK5HK0CPwvUoXO9CQEjhehSuhzpAexSuR+G6QEA=",
           "dtype": "f8"
          },
          "sizemode": "area",
          "sizeref": 0.758725,
          "symbol": "circle"
         },
         "mode": "markers",
         "name": "hisense",
         "orientation": "v",
         "showlegend": true,
         "type": "scatter",
         "x": {
          "bdata": "AAAAAAB7tUAAAAAAAN+1QAAAAACANcBAAAAAAICTwUAAAAAAgJ7FQAAAAACAUcxAAAAAAIBFzkAAAAAAwJPRQAAAAADAxdFAAAAAAMCN0kAAAAAAwKvSQAAAAADAgdRAAAAAAMB71UAAAAAAwPLWQAAAAADA7NdAAAAAAMBj2UA=",
          "dtype": "f8"
         },
         "xaxis": "x",
         "y": {
          "bdata": "AAAAAACIo0AAAAAAADioQAAAAAAAOKhAAAAAAAD4oUAAAAAAAFihQAAAAAAAyKlAAAAAAAAexEAAAAAAAFi7QAAAAAAAFL5AAAAAAABwt0AAAAAAAOytQAAAAAAAZLlAAAAAAABwp0AAAAAAAGLBQAAAAAAAZLlAAAAAAAD+wEA=",
          "dtype": "f8"
         },
         "yaxis": "y"
        },
        {
         "customdata": [
          [
           "Refrigerador Aspix Top Mount 7.3 Pies Negro RCD73NA",
           2899,
           "Out Of Stock"
          ],
          [
           "Refrigerador Aspix Una Puerta 7 Pies Plateado RSDS7PA",
           4799,
           "No Competitor"
          ],
          [
           "Refrigerador Aspix Una Puerta 7 Pies Negro RSDN7PA",
           4799,
           "No Competitor"
          ],
          [
           "Refrigerador Aspix Una Puerta RSDS7PA 7 Pies Blanco",
           4499,
           "No Competitor"
          ],
          [
           "Refrigerador Aspix Top Mount 8 Pies Negro AX24RTM8WNE",
           5999,
           "No Competitor"
          ],
          [
           "Refrigerador Aspix Top Mount 8 Pies Plateado AX24RTM8WNE",
           6999,
           "No Competitor"
          ],
          [
           "Refrigerador Aspix Top Mount 7.3 Pies Gris RCD73PA",
           5899,
           "Out Of Stock"
          ]
         ],
         "hovertemplate": "Brand=aspix<br>Precio Original (MXN)=%{x}<br>Descuento (MXN)=%{y}<br>Discount_Percent=%{marker.size}<br>Name=%{customdata[0]}<br>Final_Price=%{customdata[1]}<br>Status=%{customdata[2]}<extra></extra>",
         "legendgroup": "aspix",
         "marker": {
          "color": "#ab63fa",
          "line": {
           "color": "DarkSlateGrey",
           "width": 0.5
          },
          "size": {
           "bdata": "4XoUrkcBSUCuR+F6FG4/QOxRuB6Fq0BAuB6F61GYQ0D2KFyPwrU7QFK4HoXrUS9A16NwPQqXPkA=",
           "dtype": "f8"
          },
          "sizemode": "area",
          "sizeref": 0.758725,
          "symbol": "circle"
         },
         "mode": "markers",
         "name": "aspix",
         "orientation": "v",
         "showlegend": true,
         "type": "scatter",
         "x": {
          "bdata": "AAAAAACntkAAAAAAAFe7QAAAAAAAH7xAAAAAAADnvEAAAAAAgDXAQAAAAACANcBAAAAAAICZwEA=",
          "dtype": "f8"
         },
         "xaxis": "x",
         "y": {
          "bdata": "AAAAAACopkAAAAAAADChQAAAAAAAwKJAAAAAAACopkAAAAAAAPihQAAAAAAAUJRAAAAAAABQpEA=",
          "dtype": "f8"
         },
         "yaxis": "y"
        },
        {
         "customdata": [
          [
           "Refrigerador Aurus Modelo Aru07ws 7p3 Acero C/despachador",
           7199,
           "Out Of Stock"
          ]
         ],
         "hovertemplate": "Brand=modelo<br>Precio Original (MXN)=%{x}<br>Descuento (MXN)=%{y}<br>Discount_Percent=%{marker.size}<br>Name=%{customdata[0]}<br>Final_Price=%{customdata[1]}<br>Status=%{customdata[2]}<extra></extra>",
         "legendgroup": "modelo",
         "marker": {
          "color": "#FFA15A",
          "line": {
           "color": "DarkSlateGrey",
           "width": 0.5
          },
          "size": {
           "bdata": "AAAAAAAAAAA=",
           "dtype": "f8"
          },
          "sizemode": "area",
          "sizeref": 0.758725,
          "symbol": "circle"
         },
         "mode": "markers",
         "name": "modelo",
         "orientation": "v",
         "showlegend": true,
         "type": "scatter",
         "x": {
          "bdata": "AAAAAAAfvEA=",
          "dtype": "f8"
         },
         "xaxis": "x",
         "y": {
          "bdata": "AAAAAAAAAAA=",
          "dtype": "f8"
         },
         "yaxis": "y"
        },
        {
         "customdata": [
          [
           "Refrigerador Midea Cool Direct Top Mount Low Frost 8 Pies Gris MDRT210CCNLS",
           6399,
           "No Competitor"
          ],
          [
           "Refrigerador Midea Una Puerta Top Mount 7 Pies Silver MDRD190CCNDXW",
           5699,
           "Out Of Stock"
          ],
          [
           "Refrigerador Midea 10 Pies Gris MDRT280WINDX",
           8439,
           "No Competitor"
          ],
          [
           "Refrigerador Midea Top Mount 15 Pies Plateado MDRT580MTM46W",
           6399,
           "Out Of Stock"
          ],
          [
           "Refrigerador Midea Automático Top Mount Smart Sensor Lake Silver 10 Pies Cúbicos con Dispensador de Agua",
           7799,
           "No Competitor"
          ],
          [
           "Refrigerador Midea Top Mount 10 Pies Gris MDRT280WINDXW",
           7499,
           "Out Of Stock"
          ],
          [
           "Refrigerador Top Mount Midea Mdrt489mtm46w 13 Pies color Gris",
           9939,
           "No Competitor"
          ],
          [
           "Refrigerador Midea Top Mount 10 Pies Negro MDRT385MTM28WD",
           8999,
           "No Competitor"
          ],
          [
           "Refrigerador Midea Bottom Mount 11 Pies Plateado MDRB424FGM46W",
           8499,
           "Out Of Stock"
          ],
          [
           "Refrigerador Midea Top Mount 15 Pies Cúbicos Gris MDRT580MTM46W",
           10749,
           "No Competitor"
          ],
          [
           "Refrigerador Midea Bottom Mount 11 Pies Gris MDRB424FGM46W",
           12129,
           "Out Of Stock"
          ],
          [
           "Refrigerador Midea French Door Plus Inverter Bru Steel 19 Pies Cúbicos",
           16499,
           "No Competitor"
          ],
          [
           "Refrigerador Midea Top Mount 15 Pies Negro MDRT580MTM28WD",
           11999,
           "No Competitor"
          ],
          [
           "Refrigerador Top Mount Inverter Quattro Lake Silver 12 Pies Cúbicos",
           16499,
           "No Competitor"
          ],
          [
           "Refrigerador Automático Midea Side By Side Inverter Quattro Bru Steel 17P Gris MDRS619FGM46",
           14219,
           "No Competitor"
          ],
          [
           "Refrigerador Midea Top Mount 17 Pies Plateado MDRT480WENDXW",
           13399,
           "No Competitor"
          ],
          [
           "Refrigerador Midea Duplex Wifi 20 Pies Silver MDRS710FGM46",
           16709,
           "Out Of Stock"
          ],
          [
           "Refrigerador Midea MDRF700FGM46 French Door 19 Pies Plateado",
           16199,
           "Out Of Stock"
          ],
          [
           "Refrigerador Midea Side by Side 20 Pies Plateado MDRS710FGM46",
           17999,
           "No Competitor"
          ],
          [
           "Refrigerador Midea French Door Inverter Quattro Jazz Black 19P Negro MDRF700FGM28",
           29499,
           "No Competitor"
          ]
         ],
         "hovertemplate": "Brand=midea<br>Precio Original (MXN)=%{x}<br>Descuento (MXN)=%{y}<br>Discount_Percent=%{marker.size}<br>Name=%{customdata[0]}<br>Final_Price=%{customdata[1]}<br>Status=%{customdata[2]}<extra></extra>",
         "legendgroup": "midea",
         "marker": {
          "color": "#19d3f3",
          "line": {
           "color": "DarkSlateGrey",
           "width": 0.5
          },
          "size": {
           "bdata": "pHA9CtfjMEAAAAAAAMA8QClcj8L1KChArkfhehRuRUAzMzMzM/NAQAAAAAAAwEJApHA9CtdjM0AAAAAAAAA8QI/C9ShcT0FA7FG4HoUrM0C4HoXrUbgqQAAAAAAAAAAAhetRuB5FO0AAAAAAAAAAAJqZmZmZWTBArkfhehRuN0AzMzMzM3MwQAAAAAAAADxACtejcD0KQEAAAAAAAAAAAA==",
           "dtype": "f8"
          },
          "sizemode": "area",
          "sizeref": 0.758725,
          "symbol": "circle"
         },
         "mode": "markers",
         "name": "midea",
         "orientation": "v",
         "showlegend": true,
         "type": "scatter",
         "x": {
          "bdata": "AAAAAAATvkAAAAAAAD+/QAAAAACAv8JAAAAAAIDfxUAAAAAAgAvHQAAAAACAb8dAAAAAAIAUyEAAAAAAgGnIQAAAAACAY8lAAAAAAID5yUAAAAAAgFfLQAAAAADAHNBAAAAAAMAc0EAAAAAAwBzQQAAAAADAmdBAAAAAAMAW0UAAAAAAwIfTQAAAAADA+NVAAAAAAMDg2UAAAAAAwM7cQA==",
          "dtype": "f8"
         },
         "xaxis": "x",
         "y": {
          "bdata": "AAAAAABQlEAAAAAAAPihQAAAAAAAIJJAAAAAAADAskAAAAAAAECvQAAAAAAAlLFAAAAAAACsokAAAAAAAFirQAAAAAAAlLFAAAAAAADso0AAAAAAADidQAAAAAAAAAAAAAAAAACUsUAAAAAAAAAAAAAAAAAAuKVAAAAAAAAEsEAAAAAAALSpQAAAAAAAnLhAAAAAAACawEAAAAAAAAAAAA==",
          "dtype": "f8"
         },
         "yaxis": "y"
        },
        {
         "customdata": [
          [
           "Refrigerador Prime Rpr90-s 9p C/ Desp Top Mounted Silver",
           5799,
           "Out Of Stock"
          ],
          [
           "Refrigerador Prime Top Mounted Silver Rpr13-s 13p",
           6599,
           "Out Of Stock"
          ],
          [
           "Refrigerador Prime Top Mounted 11p Silver RPR11-S",
           8469,
           "No Competitor"
          ],
          [
           "Refrigerador Prime RPR15-S 15P Top Mounted Silver",
           11079,
           "No Competitor"
          ]
         ],
         "hovertemplate": "Brand=prime<br>Precio Original (MXN)=%{x}<br>Descuento (MXN)=%{y}<br>Discount_Percent=%{marker.size}<br>Name=%{customdata[0]}<br>Final_Price=%{customdata[1]}<br>Status=%{customdata[2]}<extra></extra>",
         "legendgroup": "prime",
         "marker": {
          "color": "#FF6692",
          "line": {
           "color": "DarkSlateGrey",
           "width": 0.5
          },
          "size": {
           "bdata": "16NwPQqXOkAUrkfhelRAQJqZmZmZmS5ACtejcD2KLUA=",
           "dtype": "f8"
          },
          "sizemode": "area",
          "sizeref": 0.758725,
          "symbol": "circle"
         },
         "mode": "markers",
         "name": "prime",
         "orientation": "v",
         "showlegend": true,
         "type": "scatter",
         "x": {
          "bdata": "AAAAAADbvkAAAAAAgCPDQAAAAACAh8NAAAAAAIBjyUA=",
          "dtype": "f8"
         },
         "xaxis": "x",
         "y": {
          "bdata": "AAAAAABooEAAAAAAAACpQAAAAAAA6JdAAAAAAAAAnkA=",
          "dtype": "f8"
         },
         "yaxis": "y"
        },
        {
         "customdata": [
          [
           "Refrigerador Mabe Rma210pymrm0 8 Pies Cúbicos Gris",
           6059,
           "No Competitor"
          ],
          [
           "Refrigerador Mabe Stainless Steel Top Mount 11 Pies Negro RMA300FXMRP0",
           4399,
           "Out Of Stock"
          ],
          [
           "Refrigerador Mabe Top Mount 14 Pies Gris RME360FDMRE0",
           8999,
           "Out Of Stock"
          ],
          [
           "Refrigerador Mabe Top Mount 14 Pies Grafito RME360FGMRE0",
           6499,
           "Out Of Stock"
          ],
          [
           "Refrigerador Mabe Top Mount 19 Pies Gris RMS510IBMRX0",
           -1501,
           "Out Of Stock"
          ],
          [
           "Refrigerador Mabe Top Mount 10 Pies Negro RMA250PVMRP0",
           8799,
           "No Competitor"
          ],
          [
           "Refrigerador Mabe Top Mount 10 Pies Plateado RMA1025YMXE",
           8999,
           "No Competitor"
          ],
          [
           "Refrigerador Mabe Top Mount 11 Pies Grafito",
           10199,
           "No Competitor"
          ],
          [
           "Refrigerador Mabe Rma300fjmrm0 11p Desp Inox Mate",
           14269,
           "Out Of Stock"
          ],
          [
           "Refrigerador Mabe Home Energy Saver 360 Lts Grafito RME360PVMRM0",
           12459,
           "No Competitor"
          ],
          [
           "Refrigerador Mabe Rma300fxmrm0 11'' 300 L Inox Mate Full Grip Home Energy Saver",
           14990,
           "No Competitor"
          ],
          [
           "Refrigerador Mabe Ome Energy Saver 10 Pies Grafito",
           11290,
           "No Competitor"
          ],
          [
           "Refrigerador Mabe RME1436XMXE Top Mount 14 Pies Grafito",
           11599,
           "No Competitor"
          ],
          [
           "Refrigerador Mabe Top Mount 14 Pies Negro RME360FDMRP0",
           11999,
           "No Competitor"
          ],
          [
           "Refrigerador Mabe Bottom Mount 11 Pies Negro RMB300IZMRP0",
           11999,
           "Out Of Stock"
          ],
          [
           "Refrigerador Mabe Top Mount 15 Pies Plateado RMS400IAMRX0",
           12999,
           "No Competitor"
          ],
          [
           "Refrigerador Mabe Top Mount 19 Pies Inox Mate RMS510IVMRM0",
           11799,
           "No Competitor"
          ],
          [
           "Refrigerador Mabe Bottom Freezer Gris RMB400IAMRM0",
           18168,
           "Out Of Stock"
          ],
          [
           "Refrigerador Mabe Top Mount 19 Pies Plateado Mate RMS510IAMRM0",
           15999,
           "No Competitor"
          ],
          [
           "Refrigerador Mabe Bottom Mount 19 Pies Negro RMB520IWMRP0",
           12599,
           "Out Of Stock"
          ],
          [
           "Refrigerador Mabe Bottom Mount 15 Pies Grafito RMB400IAMRE0",
           16599,
           "No Competitor"
          ],
          [
           "Refrigerador Mabe 15 Pies 400 L Acero Inoxidable",
           15699,
           "No Competitor"
          ],
          [
           "Refrigerador Automático Mabe 19 Pies 510 L Inoxidable",
           16299,
           "No Competitor"
          ],
          [
           "Refrigerador Mabe RMB520IJMRP0 Bottom Mount 19 Pies Negro",
           18999,
           "No Competitor"
          ],
          [
           "Refrigerador Mabe Automático 15 Pies 400 L Inox Mate",
           17699,
           "No Competitor"
          ]
         ],
         "hovertemplate": "Brand=mabe<br>Precio Original (MXN)=%{x}<br>Descuento (MXN)=%{y}<br>Discount_Percent=%{marker.size}<br>Name=%{customdata[0]}<br>Final_Price=%{customdata[1]}<br>Status=%{customdata[2]}<extra></extra>",
         "legendgroup": "mabe",
         "marker": {
          "color": "#B6E880",
          "line": {
           "color": "DarkSlateGrey",
           "width": 0.5
          },
          "size": {
           "bdata": "9ihcj8JVQECPwvUoXI9JQAAAAAAAADlA7FG4HoXrRkDNzMzMzAxcQJqZmZmZmT1AUrgeheuRPEDXo3A9Chc6QAAAAAAAAAAAFK5H4XoUNkA9CtejcD0ZQAAAAAAAAD5AhetRuB5FPUB7FK5H4To+QArXo3A96kFAuB6F61E4P0CF61G4HsVFQB+F61G4nitArkfhehTuOUCamZmZmRlFQM3MzMzMjDhAw/UoXI8CPkDD9ShcjwI+QAAAAAAAADhACtejcD0KPkA=",
           "dtype": "f8"
          },
          "sizemode": "area",
          "sizeref": 0.758725,
          "symbol": "circle"
         },
         "mode": "markers",
         "name": "mabe",
         "orientation": "v",
         "showlegend": true,
         "type": "scatter",
         "x": {
          "bdata": "AAAAAICTwUAAAAAAgJPBQAAAAACAb8dAAAAAAIBvx0AAAAAAgAXIQAAAAACAachAAAAAAICbyEAAAAAAgPPKQAAAAACA3stAAAAAAAA7z0AAAAAAgD/PQAAAAACAgM9AAAAAAMAD0EAAAAAAwMvQQAAAAADAQtJAAAAAAMB00kAAAAAAwGjUQAAAAADAldRAAAAAAMAX1UAAAAAAwEnVQAAAAADAe9VAAAAAAIDn1UAAAAAAQL7WQAAAAADAadhAAAAAAMC02EA=",
          "dtype": "f8"
         },
         "xaxis": "x",
         "y": {
          "bdata": "AAAAAAD4pkAAAAAAAPixQAAAAAAAcKdAAAAAAAB8tUAAAAAAAPTKQAAAAAAA6KxAAAAAAAAgrEAAAAAAACCsQAAAAAAAAAAAAAAAAACWq0AAAAAAAIiPQAAAAAAA57JAAAAAAADAskAAAAAAAFC0QAAAAAAALLpAAAAAAAAMt0AAAAAAAMbBQAAAAAAAvqZAAAAAAADgtUAAAAAAAPjBQAAAAAAAGLVAAAAAAABLukAAAAAAAE67QAAAAAAAcLdAAAAAAACwvUA=",
          "dtype": "f8"
         },
         "yaxis": "y"
        },
        {
         "customdata": [
          [
           "Refrigerador Inverter Whirlpool Top Mount 9 Pies Silver WT32209D",
           5799,
           "Out Of Stock"
          ],
          [
           "Refrigerador Whirpool Mod. Wt02209d 9p3 Silver Inverter",
           8419,
           "Out Of Stock"
          ],
          [
           "Refrigerador Whirlpool Bottommount Wb1331d",
           2999,
           "Out Of Stock"
          ],
          [
           "Refrigerador Whirlpool Wt1133m 11 Pies color Plateado",
           7429,
           "Out Of Stock"
          ],
          [
           "Refrigerador Whirlpool 12 Pies Cúbicos Gris Wt-1231d",
           10299,
           "No Competitor"
          ],
          [
           "Refrigerador Whirlpool Top Mount 9 Pies Silver WT32409D 9P",
           9499,
           "No Competitor"
          ],
          [
           "Refrigerador Whirlpool WT1331D Top Mount 13p Xpert Energy Saver",
           10299,
           "No Competitor"
          ],
          [
           "Refrigerador Whirlpool 12p3 Silver Wt-1231d/1230k",
           11939,
           "No Competitor"
          ],
          [
           "Refrigerador Whirpool Top Mount 11 Pies Plateado WT1133M 11P",
           11299,
           "No Competitor"
          ],
          [
           "Refrigerador Whirlpool Top Mount 18 Pies Gris WT1818A",
           9999,
           "Out Of Stock"
          ],
          [
           "Refrigerador Whirlpool Wt1865a Top Mount 18 Pies",
           6999,
           "Out Of Stock"
          ],
          [
           "Refrigerador Whirlpool Top Mount 14 Pies Gris",
           11999,
           "No Competitor"
          ],
          [
           "Refrigerador Whirlpool Mod. Wt-1333dk",
           15199,
           "Out Of Stock"
          ],
          [
           "Refrigerador Whirlpool color Gris Top Mount 17p³",
           12999,
           "No Competitor"
          ],
          [
           "Refrigerador Whirlpool Bottom Mount 13 Pies Negro WB1332V",
           12999,
           "Out Of Stock"
          ],
          [
           "Refrigerador Whirlpool Side by Side Xpert 18 Pies Gris WD1600S",
           17599,
           "No Competitor"
          ],
          [
           "Refrigerador Whirlpool Side by Side 21 Pies Plateado WRQ551SNJZ",
           199,
           "Out Of Stock"
          ],
          [
           "Refrigerador Whirlpool French Door 19.56 P³",
           14699,
           "Out Of Stock"
          ],
          [
           "Refrigerador Whirlpool Side by Side 25 Pies Plateado WD5600S",
           18999,
           "Out Of Stock"
          ],
          [
           "Refrigerador Whirlpool French Door 25 Pies Negro WRX735SDHV",
           4999,
           "Out Of Stock"
          ],
          [
           "Refrigerador Whirlpool French Door 20 Pies Cubicos Gris MWRF220SEHM",
           27499,
           "No Competitor"
          ],
          [
           "Refrigerador Whirlpool 21 Pies Cubicos Gris WD1006S",
           29199,
           "No Competitor"
          ],
          [
           "Refrigerador Whirlpool Una Puerta 18 Pies Acero Inoxidable WSR57R18DM",
           9799,
           "Out Of Stock"
          ],
          [
           "Refrigerador Whirlpool WRX735SDHZ color Gris 25p³",
           56299,
           "Out Of Stock"
          ]
         ],
         "hovertemplate": "Brand=whirlpool<br>Precio Original (MXN)=%{x}<br>Descuento (MXN)=%{y}<br>Discount_Percent=%{marker.size}<br>Name=%{customdata[0]}<br>Final_Price=%{customdata[1]}<br>Status=%{customdata[2]}<extra></extra>",
         "legendgroup": "whirlpool",
         "marker": {
          "color": "#FF97FF",
          "line": {
           "color": "DarkSlateGrey",
           "width": 0.5
          },
          "size": {
           "bdata": "ZmZmZmYmQ0AUrkfhepQqQHE9CtejgFFAPQrXo3A9PUDD9Shcj8ItQK5H4XoU7jpA4XoUrkdhNUCamZmZmRkjQPYoXI/CtTJAUrgeheuRPEBI4XoUrgdKQOxRuB6F6zJAAAAAAAAAAAC4HoXrUbgxQEjhehSuhzdASOF6FK7HNUBI4XoUrsdYQOxRuB6FC0JAXI/C9ShcOkBI4XoUridVQNejcD0KlzNArkfhehRuPEB7FK5H4SpTQK5H4XoUrhhA",
           "dtype": "f8"
          },
          "sizemode": "area",
          "sizeref": 0.758725,
          "symbol": "circle"
         },
         "mode": "markers",
         "name": "whirlpool",
         "orientation": "v",
         "showlegend": true,
         "type": "scatter",
         "x": {
          "bdata": "AAAAAIBbwkAAAAAAgPbCQAAAAACAh8NAAAAAAICBxEAAAAAAgKHHQAAAAACAY8lAAAAAAICVyUAAAAAAgMfJQAAAAACAJctAAAAAAIBXy0AAAAAAgIPMQAAAAACA58xAAAAAAICvzUAAAAAAgNvOQAAAAADAmdBAAAAAAMD41UAAAAAAwBHWQAAAAADAddZAAAAAAMAx2UAAAAAAwLzfQAAAAADgsuBAAAAAAODr40AAAAAA4IHkQAAAAADgS+1A",
          "dtype": "f8"
         },
         "xaxis": "x",
         "y": {
          "bdata": "AAAAAAAgrEAAAAAAACiUQAAAAAAAWLtAAAAAAAD8p0AAAAAAACCcQAAAAAAAWKtAAAAAAADgpUAAAAAAALCTQAAAAAAAUKRAAAAAAABAr0AAAAAAALC9QAAAAAAA4KVAAAAAAAAAAAAAAAAAAOClQAAAAAAAQK9AAAAAAAAks0AAAAAAAODVQAAAAAAANsBAAAAAAACQukAAAAAAANvaQAAAAAAALLpAAAAAAACoxkAAAAAAAHLfQAAAAAAA6KxA",
          "dtype": "f8"
         },
         "yaxis": "y"
        },
        {
         "customdata": [
          [
           "Refrigerador LG VT40BP Top Mount 14 Pies Platino",
           4999,
           "Out Of Stock"
          ],
          [
           "Refrigerador LG Top Mount 11 Pies Plateado GT32BDC",
           5699,
           "Out Of Stock"
          ],
          [
           "Refrigerador Top Mount LG Gt32bdc Smart Inverter 11 Pies",
           7879,
           "Out Of Stock"
          ],
          [
           "Refrigerador LG Gt32wdc de 11 Pies color Gris",
           7889,
           "Out Of Stock"
          ],
          [
           "Refrigerador Lg 9 Pies Silver",
           10700,
           "Out Of Stock"
          ],
          [
           "Refrigerador LG Top Mount 15 Pies Negro LT44AGD",
           199,
           "Out Of Stock"
          ],
          [
           "Refrigerador LG 2 Puertas con Despachador 11 Pies Gt32wpk",
           10839,
           "No Competitor"
          ],
          [
           "Refrigerador LG Top Freezer 16 Pies Platino VT45BP.APYFMXM",
           11999,
           "No Competitor"
          ],
          [
           "Refrigerador Top Mount Lg 15 Pies color Acero Inoxidable",
           12989,
           "No Competitor"
          ],
          [
           "Refrigerador Lg Vt40wp 14 Pies Top Mount Con Despachador De Agua",
           15649,
           "Out Of Stock"
          ],
          [
           "Refrigerador LG Top Mount 14 Pies Plateado VT40WP",
           16999,
           "No Competitor"
          ],
          [
           "Refrigerador LG Botton Mount 17 Pies Gris GB45SPP",
           7199,
           "Out Of Stock"
          ],
          [
           "Refrigerador LG Bottom Mount 17 Pies Negro GB45SPT",
           8199,
           "Out Of Stock"
          ],
          [
           "Refrigerador LG Inverter 9 Pies Gris GT29WDC",
           12899,
           "No Competitor"
          ],
          [
           "Refrigerador Inverter LG Bottom Mount 22 Pies Plateado GB22BGS",
           7099,
           "Out Of Stock"
          ],
          [
           "Refrigerador LG Lt57bpsx 20 Ft. Top Mount Smart Inverter",
           16390,
           "Out Of Stock"
          ],
          [
           "Refrigerador Inverter LG LM65BGS French Door 25 Pies Plateado",
           10999,
           "Out Of Stock"
          ],
          [
           "Refrigerador 24 Pies Top Mount Smart Inverter Color Silver Lg",
           19730,
           "Out Of Stock"
          ],
          [
           "Refrigerador LG Top Mount 20 Pies Plateado LT57BPSX",
           14899,
           "No Competitor"
          ],
          [
           "Refrigerador Inverter LG French Door 22 Pies Acero GF22WGS",
           6999,
           "Out Of Stock"
          ],
          [
           "Refrigerador LG Top Mount 20 Pies Negro LT57BT",
           13499,
           "Out Of Stock"
          ],
          [
           "Refrigerador LG French Door 29 Pies Plateado GM29BP",
           10999,
           "Out Of Stock"
          ],
          [
           "Refrigerador LG Top Mount 24 Pies Plateado GT24BS",
           17499,
           "No Competitor"
          ],
          [
           "Refrigerador Lg Top Freezer 20³pies Negro Essence Smart Inverter",
           17199,
           "No Competitor"
          ],
          [
           "Refrigerador Inverter 22 Pies French Door Acero Inox Lg",
           25180,
           "Out Of Stock"
          ],
          [
           "Refrigerador Lg 22 Pies Cúbicos French Door Gris Gf22bgsk",
           21799,
           "No Competitor"
          ],
          [
           "Refrigerador Lg 20 Pies³ (566 L) Top Freezer Negro Mate",
           28559,
           "Out Of Stock"
          ],
          [
           "Refrigerador LG French Door 22 Pies Plateado GM22BIP",
           17999,
           "Out Of Stock"
          ],
          [
           "Refrigerador LG Side by Side 27 Pies Plateado VS27BXQP",
           24499,
           "Out Of Stock"
          ],
          [
           "Refrigerador LG French Door 25 Pies Plateado GM25BQSASTFMXM",
           24499,
           "No Competitor"
          ],
          [
           "Refrigerador LG French Door 29 Pies Plateado GM39BVP",
           26499,
           "No Competitor"
          ]
         ],
         "hovertemplate": "Brand=lg<br>Precio Original (MXN)=%{x}<br>Descuento (MXN)=%{y}<br>Discount_Percent=%{marker.size}<br>Name=%{customdata[0]}<br>Final_Price=%{customdata[1]}<br>Status=%{customdata[2]}<extra></extra>",
         "legendgroup": "lg",
         "marker": {
          "color": "#FECB52",
          "line": {
           "color": "DarkSlateGrey",
           "width": 0.5
          },
          "size": {
           "bdata": "4XoUrkcBSUAAAAAAAIBFQEjhehSuBzlAUrgehesROUAAAAAAAAAAAK5H4XoUnlhAAAAAAAAANEAUrkfhepQ2QBSuR+F6FDdAmpmZmZmZHUAAAAAAAAAAADMzMzMz00xAmpmZmZk5S0DD9ShcjwI+QI/C9Shcz05ArkfhehQuLUDsUbgehctFQAAAAAAAAAAAAAAAAADAOEAAAAAAAEBQQM3MzMzMjEFA7FG4HoVrSEAUrkfhehQ7QAAAAAAAAD5AAAAAAAAAAAAAAAAAAAA0QAAAAAAAAAAA16NwPQr3QkBxPQrXo3A3QMP1KFyPwjlACtejcD1KOEA=",
           "dtype": "f8"
          },
          "sizemode": "area",
          "sizeref": 0.758725,
          "symbol": "circle"
         },
         "mode": "markers",
         "name": "lg",
         "orientation": "v",
         "showlegend": true,
         "type": "scatter",
         "x": {
          "bdata": "AAAAAICHw0AAAAAAgIfDQAAAAACAhsRAAAAAAICQxEAAAAAAAObEQAAAAACAY8lAAAAAAIB2ykAAAAAAgEXOQAAAAACAfdBAAAAAAMCA0EAAAAAAwJnQQAAAAADAmdBAAAAAAMCT0UAAAAAAgP/RQAAAAADAENJAAAAAAIC90kAAAAAAwArTQAAAAACARNNAAAAAAMBV00AAAAAAwIfTQAAAAADAT9RAAAAAAMD+1EAAAAAAwG/XQAAAAACA/tdAAAAAAACX2EAAAAAAQJzaQAAAAADA49tAAAAAAMBR3EAAAAAAwD/fQAAAAADgHOBAAAAAAOAW4UA=",
          "dtype": "f8"
         },
         "xaxis": "x",
         "y": {
          "bdata": "AAAAAACIs0AAAAAAAMywQAAAAAAAjKRAAAAAAACgpEAAAAAAAAAAAAAAAAAAAMlAAAAAAAAspUAAAAAAAFirQAAAAAAAcq5AAAAAAACIk0AAAAAAAAAAAAAAAAAAJMNAAAAAAAAkw0AAAAAAAJu1QAAAAAAARMZAAAAAAADgpUAAAAAAAJrAQAAAAAAAAAAAAAAAAAAks0AAAAAAAGTJQAAAAAAAhLxAAAAAAACCxEAAAAAAAGS5QAAAAAAAy7xAAAAAAAAAAAAAAAAAAEq1QAAAAAAAAAAAAAAAAAB8xUAAAAAAAEy9QAAAAAAAmsBAAAAAAACawEA=",
          "dtype": "f8"
         },
         "yaxis": "y"
        },
        {
         "customdata": [
          [
           "Refrigerador Daewoo Drt-0910asd Gris Top Mount 9 Pies",
           8279,
           "Out Of Stock"
          ],
          [
           "Refrigerador Inverter Daewoo 9 Pies Cúbicos Top Mount Gris Drt-0920hsbi",
           8529,
           "Out Of Stock"
          ],
          [
           "Refrigerador Daewoo 9 Pies Cúbicos Top Mount Gris Drt-0910as",
           10685,
           "No Competitor"
          ],
          [
           "Refrigerador Daewoo Drt-1210msd Gris Top Mount de 12 Pies",
           10109,
           "No Competitor"
          ],
          [
           "Refrigerador Daewoo 19 Pies Cúbicos Top Mount Gris Drt-1920hsbti",
           16569,
           "Out Of Stock"
          ]
         ],
         "hovertemplate": "Brand=daewoo<br>Precio Original (MXN)=%{x}<br>Descuento (MXN)=%{y}<br>Discount_Percent=%{marker.size}<br>Name=%{customdata[0]}<br>Final_Price=%{customdata[1]}<br>Status=%{customdata[2]}<extra></extra>",
         "legendgroup": "daewoo",
         "marker": {
          "color": "#636efa",
          "line": {
           "color": "DarkSlateGrey",
           "width": 0.5
          },
          "size": {
           "bdata": "AAAAAAAANECPwvUoXA80QAAAAAAAAAAAH4XrUbieK0AAAAAAAAAAAA==",
           "dtype": "f8"
          },
          "sizemode": "area",
          "sizeref": 0.758725,
          "symbol": "circle"
         },
         "mode": "markers",
         "name": "daewoo",
         "orientation": "v",
         "showlegend": true,
         "type": "scatter",
         "x": {
          "bdata": "AAAAAIA2xEAAAAAAgNbEQAAAAACA3sRAAAAAAIDoxkAAAAAAQC7QQA==",
          "dtype": "f8"
         },
         "xaxis": "x",
         "y": {
          "bdata": "AAAAAAAsoEAAAAAAALigQAAAAAAAAAAAAAAAAABQmUAAAAAAAAAAAA==",
          "dtype": "f8"
         },
         "yaxis": "y"
        },
        {
         "customdata": [
          [
           "Refrigerador Acros Top Mount 11 Pies Plateado AT1130F",
           8799,
           "Out Of Stock"
          ],
          [
           "Refrigerador Acros 11 Pies Silver At1130m",
           9999,
           "No Competitor"
          ],
          [
           "Refrigerador Acros 13 Pies Cubicos Blanco At-1330w",
           14009,
           "No Competitor"
          ]
         ],
         "hovertemplate": "Brand=acros<br>Precio Original (MXN)=%{x}<br>Descuento (MXN)=%{y}<br>Discount_Percent=%{marker.size}<br>Name=%{customdata[0]}<br>Final_Price=%{customdata[1]}<br>Status=%{customdata[2]}<extra></extra>",
         "legendgroup": "acros",
         "marker": {
          "color": "#EF553B",
          "line": {
           "color": "DarkSlateGrey",
           "width": 0.5
          },
          "size": {
           "bdata": "SOF6FK7HLkAUrkfhehQqQAAAAAAAAAAA",
           "dtype": "f8"
          },
          "sizemode": "area",
          "sizeref": 0.758725,
          "symbol": "circle"
         },
         "mode": "markers",
         "name": "acros",
         "orientation": "v",
         "showlegend": true,
         "type": "scatter",
         "x": {
          "bdata": "AAAAAIBPxEAAAAAAgHXGQAAAAACAXMtA",
          "dtype": "f8"
         },
         "xaxis": "x",
         "y": {
          "bdata": "AAAAAAAAmUAAAAAAAHCXQAAAAAAAAAAA",
          "dtype": "f8"
         },
         "yaxis": "y"
        },
        {
         "customdata": [
          [
           "Refrigerador Samsung Top Mount 11 Pies Negro RT31DG5724B1EM",
           7299,
           "Out Of Stock"
          ],
          [
           "Refrigerador Samsung Top Mount 11 Pies Gris RT31DG5724S9EM",
           8699,
           "Out Of Stock"
          ],
          [
           "Refrigerador Samsung 11 Pies Cúbicos Top Mount Gris Rt31dg5224s9",
           11499,
           "No Competitor"
          ],
          [
           "Refrigerador Samsung Top Mount 11 Pies Gris RT31DG5124S9EM",
           10399,
           "No Competitor"
          ],
          [
           "Refrigerador 12 Pies Gris Ai Top Mount Rt35dg5224s9 Samsung",
           13499,
           "No Competitor"
          ],
          [
           "Refrigerador Samsung Top Mount 12 Pies Gris RT35DG5224S9EM",
           11399,
           "No Competitor"
          ],
          [
           "Refrigerador Samsung Top Mount 14 Pies Plateado RT38DG6224S9EM",
           11999,
           "No Competitor"
          ],
          [
           "Refrigerador Samsung Top Mount 14 Pies Acero Inoxidable RT38A5930BS/EM",
           15899,
           "Out Of Stock"
          ],
          [
           "Refrigerador Samsung Top Mount 15 Pies Plateado RT42DG6224S9EM",
           12599,
           "No Competitor"
          ],
          [
           "Refrigerador Samsung Top Mount Cúbicos 12 Pies Color Acero RT35DG5724S9EM",
           12099,
           "No Competitor"
          ],
          [
           "Refrigerador Samsung Top Mount 19ft Fábrica Hielos Negro",
           8599,
           "Out Of Stock"
          ],
          [
           "Refrigerador Samsung Top Mount 19 Pies Gris RT53DG6128S9",
           17859,
           "No Competitor"
          ],
          [
           "Refrigerador Samsung RT38DG6734S9EM Gris Top Mount 14 Pies",
           13599,
           "No Competitor"
          ],
          [
           "Refrigerador Samsung Top Mount 15 Pies Negro RT42DG6734B1EM",
           12999,
           "No Competitor"
          ],
          [
           "Refrigerador Samsung Top Mount 16 Pies Negro RT44A6344B1",
           18499,
           "Out Of Stock"
          ],
          [
           "Refrigerador Samsung Side by Side 28 Pies Plateado RS28CB70NAQLEM",
           999,
           "Out Of Stock"
          ],
          [
           "Refrigerador Samsung Top Mount 19 Pies Gris RT53DG6128S9EM",
           12199,
           "No Competitor"
          ],
          [
           "Refrigerador Samsung Bespoke Bottom 12ft Personalizable",
           599,
           "Out Of Stock"
          ],
          [
           "Refrigerador Samsung Top Mount Ai Fábrica Hielo Giratorio Gris RT42DG6774S9EM",
           14699,
           "No Competitor"
          ],
          [
           "Refrigerador Samsung Bottom Mount 12 Pies Azul Bespoke F-RB33A23DUDB",
           7799,
           "Out Of Stock"
          ],
          [
           "Refrigerador Samsung Family Hub French Door 31 Pies Negro RF32CG5911B1EM",
           -46801,
           "Out Of Stock"
          ],
          [
           "Refrigerador Samsung RB50DG6320S9EM Gris Bottom Mount",
           18899,
           "No Competitor"
          ],
          [
           "Refrigerador Samsung Top Mount Ai 19ft Dispensador Acero RT53DG6758S9EM",
           15299,
           "No Competitor"
          ],
          [
           "Refrigerador Samsung French Door 22 Pies Plateado RF22A4010S9EM",
           19299,
           "No Competitor"
          ],
          [
           "Refrigerador Samsung French Door 32ft Plateado",
           24199,
           "No Competitor"
          ],
          [
           "Refrigerador Samsung Bespoke Ai Sbs 28 Pies Blanco RS28CB70NA12EM",
           27999,
           "Out Of Stock"
          ],
          [
           "Refrigerador Samsung Bespoke Side by Side 28 Pies Blanco RS28CB70NA12EM",
           20999,
           "Out Of Stock"
          ],
          [
           "Refrigerador Samsung French Door 25ft Ice Maker Plata",
           29400,
           "Out Of Stock"
          ],
          [
           "Refrigerador Samsung French Door 31 Pies Negro RF32CG5411B1EM",
           11399,
           "Out Of Stock"
          ],
          [
           "Refrigerador Samsung French Door 32 Pies Plateado RF32CG5A10S9EM",
           22999,
           "No Competitor"
          ],
          [
           "Refrigerador Samsung Xazers28t5b00b1 Inverter color Negro",
           23599,
           "No Competitor"
          ],
          [
           "Refrigerador Samsung French Door 3 Puertas 22 Pies Cúbicos Color Acero Oscuro Con Despachador Agua Rf22a4220b1/em",
           24099,
           "No Competitor"
          ],
          [
           "Refrigerador Samsung French Door 32 Pies Plata RF32CG5N10S9EM",
           36399,
           "Out Of Stock"
          ],
          [
           "Refrigerador Samsung Side by Side 22 Pies Plateado RS22T5561S9/EM",
           29599,
           "No Competitor"
          ],
          [
           "Refrigerador Samsung French Door 32 Pies Black Caviar RF32CG5N10B1EM",
           24499,
           "No Competitor"
          ],
          [
           "Refrigerador Samsung Bespoke French Door 32ft Cúbicos Blanco",
           22599,
           "Out Of Stock"
          ],
          [
           "Refrigerador Samsung Side By Side 27ft Gris Despachador SpaceMax",
           26399,
           "No Competitor"
          ],
          [
           "Refrigerador Samsung French Door 31 Pies Plateado RF32CG5411SREM",
           48699,
           "Out Of Stock"
          ],
          [
           "Refrigerador Samsung Side by Side 23 Pies Blanco RM90F66CDWEM",
           57999,
           "No Competitor"
          ],
          [
           "Refrigerador Samsung Sbs 27ft Pantalla Family Hub Negro Wi-Fi Habilitado",
           39499,
           "Out Of Stock"
          ],
          [
           "Refrigerador Samsung French Door 31 Pies Plateado RF32CG5911SREM",
           91999,
           "Out Of Stock"
          ]
         ],
         "hovertemplate": "Brand=samsung<br>Precio Original (MXN)=%{x}<br>Descuento (MXN)=%{y}<br>Discount_Percent=%{marker.size}<br>Name=%{customdata[0]}<br>Final_Price=%{customdata[1]}<br>Status=%{customdata[2]}<extra></extra>",
         "legendgroup": "samsung",
         "marker": {
          "color": "#00cc96",
          "line": {
           "color": "DarkSlateGrey",
           "width": 0.5
          },
          "size": {
           "bdata": "UrgehevRQEAAAAAAAIA7QPYoXI/CdSFA9ihcj8J1MUAAAAAAAAAAAFK4HoXrkTJAAAAAAAAANEAAAAAAAAAAAAAAAAAAADlAFK5H4XrUPECF61G4HiVJQAAAAAAAAAAAMzMzMzNzOEBSuB6F65E8QAAAAAAAAAAAuB6F61G4V0C4HoXrUbhCQK5H4XoUPlhACtejcD1KPEBmZmZmZsZPQKRwPQrX93JA7FG4HoVrNEA9CtejcP1BQD0K16Nw/TtASOF6FK5HKUAAAAAAAAAAAAAAAAAAADlAAAAAAAAAAABxPQrXo1BPQOF6FK5HITxAMzMzMzOzPEA9CtejcL09QAAAAAAAAAAASOF6FK5HNUDXo3A9CpdCQJqZmZmZmUdApHA9CtdDQ0AAAAAAAAAAAB+F61G43jZAexSuR+H6R0AAAAAAAAAAAA==",
           "dtype": "f8"
          },
          "sizemode": "area",
          "sizeref": 0.758725,
          "symbol": "circle"
         },
         "mode": "markers",
         "name": "samsung",
         "orientation": "v",
         "showlegend": true,
         "type": "scatter",
         "x": {
          "bdata": "AAAAAIB7xUAAAAAAgG/HQAAAAACAm8hAAAAAAICbyEAAAAAAgF3KQAAAAACAV8tAAAAAAIBLzUAAAAAAgA3PQAAAAADAZ9BAAAAAAMCZ0EAAAAAAwOTQQAAAAADAcNFAAAAAAMCT0UAAAAAAwMXRQAAAAADAENJAAAAAAMAK00AAAAAAwArTQAAAAADAVdNAAAAAAMAE1EAAAAAAwOXUQAAAAADAddZAAAAAAEAx10AAAAAAwFbXQAAAAADAK9pAAAAAAMAM20AAAAAAwFfbQAAAAADAV9tAAAAAAAC23EAAAAAAwMjdQAAAAADAP99AAAAAAGAp4EAAAAAAYL/gQAAAAADgxeFAAAAAAOBb4kAAAAAA4ArjQAAAAADg5eRAAAAAAKD45EAAAAAAYMfnQAAAAADwW/JAAAAAALCH8kAAAAAA8HX2QA==",
          "dtype": "f8"
         },
         "xaxis": "x",
         "y": {
          "bdata": "AAAAAADorEAAAAAAAMipQAAAAAAAMJFAAAAAAAAwoUAAAAAAAAAAAAAAAAAAUKRAAAAAAABwp0AAAAAAAAAAAAAAAAAAaLBAAAAAAAAks0AAAAAAAP7AQAAAAAAAAAAAAAAAAAAwsUAAAAAAAFC0QAAAAAAAAAAAAAAAAAAR0kAAAAAAAIS8QAAAAAAAwNJAAAAAAACotkAAAAAAAJDKQAAAAACACvFAAAAAAADyskAAAAAAAMzAQAAAAAAATL1AAAAAAABYq0AAAAAAAAAAAAAAAAAAWLtAAAAAAAAAAAAAAAAAAKfSQAAAAAAAlMFAAAAAAACOwkAAAAAAAOzDQAAAAAAAAAAAAAAAAABAv0AAAAAAAFLMQAAAAAAAutNAAAAAAIAp0EAAAAAAAAAAAAAAAAAAzNBAAAAAAADG4UAAAAAAAAAAAA==",
          "dtype": "f8"
         },
         "yaxis": "y"
        },
        {
         "customdata": [
          [
           "Refrigerador IO Mabe Top Mount 15 Pies Gris O1540YMXN3",
           2399,
           "Out Of Stock"
          ],
          [
           "Refrigerador IO Mabe Top Mount 19 Pies Plateado ROS510IIMRX0",
           -6601,
           "Out Of Stock"
          ]
         ],
         "hovertemplate": "Brand=io mabe<br>Precio Original (MXN)=%{x}<br>Descuento (MXN)=%{y}<br>Discount_Percent=%{marker.size}<br>Name=%{customdata[0]}<br>Final_Price=%{customdata[1]}<br>Status=%{customdata[2]}<extra></extra>",
         "legendgroup": "io mabe",
         "marker": {
          "color": "#ab63fa",
          "line": {
           "color": "DarkSlateGrey",
           "width": 0.5
          },
          "size": {
           "bdata": "4XoUrkexU0A9CtejcDVjQA==",
           "dtype": "f8"
          },
          "sizemode": "area",
          "sizeref": 0.758725,
          "symbol": "circle"
         },
         "mode": "markers",
         "name": "io mabe",
         "orientation": "v",
         "showlegend": true,
         "type": "scatter",
         "x": {
          "bdata": "AAAAAIARxkAAAAAAgAXIQA==",
          "dtype": "f8"
         },
         "xaxis": "x",
         "y": {
          "bdata": "AAAAAABiwUAAAAAAAHXSQA==",
          "dtype": "f8"
         },
         "yaxis": "y"
        },
        {
         "customdata": [
          [
           "Refrigerador Metalfrio 10 Pies Blanco Rb100 Fgd",
           25468,
           "Out Of Stock"
          ],
          [
           "Refrigerador Metalfrio 66 Pies Cúbicos Blanco Rb900",
           77255,
           "Out Of Stock"
          ]
         ],
         "hovertemplate": "Brand=metalfrio<br>Precio Original (MXN)=%{x}<br>Descuento (MXN)=%{y}<br>Discount_Percent=%{marker.size}<br>Name=%{customdata[0]}<br>Final_Price=%{customdata[1]}<br>Status=%{customdata[2]}<extra></extra>",
         "legendgroup": "metalfrio",
         "marker": {
          "color": "#FFA15A",
          "line": {
           "color": "DarkSlateGrey",
           "width": 0.5
          },
          "size": {
           "bdata": "AAAAAAAAAAAAAAAAAAAAAA==",
           "dtype": "f8"
          },
          "sizemode": "area",
          "sizeref": 0.758725,
          "symbol": "circle"
         },
         "mode": "markers",
         "name": "metalfrio",
         "orientation": "v",
         "showlegend": true,
         "type": "scatter",
         "x": {
          "bdata": "AAAAAADf2EAAAAAAcNzyQA==",
          "dtype": "f8"
         },
         "xaxis": "x",
         "y": {
          "bdata": "AAAAAAAAAAAAAAAAAAAAAA==",
          "dtype": "f8"
         },
         "yaxis": "y"
        }
       ],
       "layout": {
        "height": 600,
        "legend": {
         "itemsizing": "constant",
         "title": {
          "text": "Brand"
         },
         "tracegroupgap": 0
        },
        "template": {
         "data": {
          "bar": [
           {
            "error_x": {
             "color": "#2a3f5f"
            },
            "error_y": {
             "color": "#2a3f5f"
            },
            "marker": {
             "line": {
              "color": "white",
              "width": 0.5
             },
             "pattern": {
              "fillmode": "overlay",
              "size": 10,
              "solidity": 0.2
             }
            },
            "type": "bar"
           }
          ],
          "barpolar": [
           {
            "marker": {
             "line": {
              "color": "white",
              "width": 0.5
             },
             "pattern": {
              "fillmode": "overlay",
              "size": 10,
              "solidity": 0.2
             }
            },
            "type": "barpolar"
           }
          ],
          "carpet": [
           {
            "aaxis": {
             "endlinecolor": "#2a3f5f",
             "gridcolor": "#C8D4E3",
             "linecolor": "#C8D4E3",
             "minorgridcolor": "#C8D4E3",
             "startlinecolor": "#2a3f5f"
            },
            "baxis": {
             "endlinecolor": "#2a3f5f",
             "gridcolor": "#C8D4E3",
             "linecolor": "#C8D4E3",
             "minorgridcolor": "#C8D4E3",
             "startlinecolor": "#2a3f5f"
            },
            "type": "carpet"
           }
          ],
          "choropleth": [
           {
            "colorbar": {
             "outlinewidth": 0,
             "ticks": ""
            },
            "type": "choropleth"
           }
          ],
          "contour": [
           {
            "colorbar": {
             "outlinewidth": 0,
             "ticks": ""
            },
            "colorscale": [
             [
              0,
              "#0d0887"
             ],
             [
              0.1111111111111111,
              "#46039f"
             ],
             [
              0.2222222222222222,
              "#7201a8"
             ],
             [
              0.3333333333333333,
              "#9c179e"
             ],
             [
              0.4444444444444444,
              "#bd3786"
             ],
             [
              0.5555555555555556,
              "#d8576b"
             ],
             [
              0.6666666666666666,
              "#ed7953"
             ],
             [
              0.7777777777777778,
              "#fb9f3a"
             ],
             [
              0.8888888888888888,
              "#fdca26"
             ],
             [
              1,
              "#f0f921"
             ]
            ],
            "type": "contour"
           }
          ],
          "contourcarpet": [
           {
            "colorbar": {
             "outlinewidth": 0,
             "ticks": ""
            },
            "type": "contourcarpet"
           }
          ],
          "heatmap": [
           {
            "colorbar": {
             "outlinewidth": 0,
             "ticks": ""
            },
            "colorscale": [
             [
              0,
              "#0d0887"
             ],
             [
              0.1111111111111111,
              "#46039f"
             ],
             [
              0.2222222222222222,
              "#7201a8"
             ],
             [
              0.3333333333333333,
              "#9c179e"
             ],
             [
              0.4444444444444444,
              "#bd3786"
             ],
             [
              0.5555555555555556,
              "#d8576b"
             ],
             [
              0.6666666666666666,
              "#ed7953"
             ],
             [
              0.7777777777777778,
              "#fb9f3a"
             ],
             [
              0.8888888888888888,
              "#fdca26"
             ],
             [
              1,
              "#f0f921"
             ]
            ],
            "type": "heatmap"
           }
          ],
          "histogram": [
           {
            "marker": {
             "pattern": {
              "fillmode": "overlay",
              "size": 10,
              "solidity": 0.2
             }
            },
            "type": "histogram"
           }
          ],
          "histogram2d": [
           {
            "colorbar": {
             "outlinewidth": 0,
             "ticks": ""
            },
            "colorscale": [
             [
              0,
              "#0d0887"
             ],
             [
              0.1111111111111111,
              "#46039f"
             ],
             [
              0.2222222222222222,
              "#7201a8"
             ],
             [
              0.3333333333333333,
              "#9c179e"
             ],
             [
              0.4444444444444444,
              "#bd3786"
             ],
             [
              0.5555555555555556,
              "#d8576b"
             ],
             [
              0.6666666666666666,
              "#ed7953"
             ],
             [
              0.7777777777777778,
              "#fb9f3a"
             ],
             [
              0.8888888888888888,
              "#fdca26"
             ],
             [
              1,
              "#f0f921"
             ]
            ],
            "type": "histogram2d"
           }
          ],
          "histogram2dcontour": [
           {
            "colorbar": {
             "outlinewidth": 0,
             "ticks": ""
            },
            "colorscale": [
             [
              0,
              "#0d0887"
             ],
             [
              0.1111111111111111,
              "#46039f"
             ],
             [
              0.2222222222222222,
              "#7201a8"
             ],
             [
              0.3333333333333333,
              "#9c179e"
             ],
             [
              0.4444444444444444,
              "#bd3786"
             ],
             [
              0.5555555555555556,
              "#d8576b"
             ],
             [
              0.6666666666666666,
              "#ed7953"
             ],
             [
              0.7777777777777778,
              "#fb9f3a"
             ],
             [
              0.8888888888888888,
              "#fdca26"
             ],
             [
              1,
              "#f0f921"
             ]
            ],
            "type": "histogram2dcontour"
           }
          ],
          "mesh3d": [
           {
            "colorbar": {
             "outlinewidth": 0,
             "ticks": ""
            },
            "type": "mesh3d"
           }
          ],
          "parcoords": [
           {
            "line": {
             "colorbar": {
              "outlinewidth": 0,
              "ticks": ""
             }
            },
            "type": "parcoords"
           }
          ],
          "pie": [
           {
            "automargin": true,
            "type": "pie"
           }
          ],
          "scatter": [
           {
            "fillpattern": {
             "fillmode": "overlay",
             "size": 10,
             "solidity": 0.2
            },
            "type": "scatter"
           }
          ],
          "scatter3d": [
           {
            "line": {
             "colorbar": {
              "outlinewidth": 0,
              "ticks": ""
             }
            },
            "marker": {
             "colorbar": {
              "outlinewidth": 0,
              "ticks": ""
             }
            },
            "type": "scatter3d"
           }
          ],
          "scattercarpet": [
           {
            "marker": {
             "colorbar": {
              "outlinewidth": 0,
              "ticks": ""
             }
            },
            "type": "scattercarpet"
           }
          ],
          "scattergeo": [
           {
            "marker": {
             "colorbar": {
              "outlinewidth": 0,
              "ticks": ""
             }
            },
            "type": "scattergeo"
           }
          ],
          "scattergl": [
           {
            "marker": {
             "colorbar": {
              "outlinewidth": 0,
              "ticks": ""
             }
            },
            "type": "scattergl"
           }
          ],
          "scattermap": [
           {
            "marker": {
             "colorbar": {
              "outlinewidth": 0,
              "ticks": ""
             }
            },
            "type": "scattermap"
           }
          ],
          "scattermapbox": [
           {
            "marker": {
             "colorbar": {
              "outlinewidth": 0,
              "ticks": ""
             }
            },
            "type": "scattermapbox"
           }
          ],
          "scatterpolar": [
           {
            "marker": {
             "colorbar": {
              "outlinewidth": 0,
              "ticks": ""
             }
            },
            "type": "scatterpolar"
           }
          ],
          "scatterpolargl": [
           {
            "marker": {
             "colorbar": {
              "outlinewidth": 0,
              "ticks": ""
             }
            },
            "type": "scatterpolargl"
           }
          ],
          "scatterternary": [
           {
            "marker": {
             "colorbar": {
              "outlinewidth": 0,
              "ticks": ""
             }
            },
            "type": "scatterternary"
           }
          ],
          "surface": [
           {
            "colorbar": {
             "outlinewidth": 0,
             "ticks": ""
            },
            "colorscale": [
             [
              0,
              "#0d0887"
             ],
             [
              0.1111111111111111,
              "#46039f"
             ],
             [
              0.2222222222222222,
              "#7201a8"
             ],
             [
              0.3333333333333333,
              "#9c179e"
             ],
             [
              0.4444444444444444,
              "#bd3786"
             ],
             [
              0.5555555555555556,
              "#d8576b"
             ],
             [
              0.6666666666666666,
              "#ed7953"
             ],
             [
              0.7777777777777778,
              "#fb9f3a"
             ],
             [
              0.8888888888888888,
              "#fdca26"
             ],
             [
              1,
              "#f0f921"
             ]
            ],
            "type": "surface"
           }
          ],
          "table": [
           {
            "cells": {
             "fill": {
              "color": "#EBF0F8"
             },
             "line": {
              "color": "white"
             }
            },
            "header": {
             "fill": {
              "color": "#C8D4E3"
             },
             "line": {
              "color": "white"
             }
            },
            "type": "table"
           }
          ]
         },
         "layout": {
          "annotationdefaults": {
           "arrowcolor": "#2a3f5f",
           "arrowhead": 0,
           "arrowwidth": 1
          },
          "autotypenumbers": "strict",
          "coloraxis": {
           "colorbar": {
            "outlinewidth": 0,
            "ticks": ""
           }
          },
          "colorscale": {
           "diverging": [
            [
             0,
             "#8e0152"
            ],
            [
             0.1,
             "#c51b7d"
            ],
            [
             0.2,
             "#de77ae"
            ],
            [
             0.3,
             "#f1b6da"
            ],
            [
             0.4,
             "#fde0ef"
            ],
            [
             0.5,
             "#f7f7f7"
            ],
            [
             0.6,
             "#e6f5d0"
            ],
            [
             0.7,
             "#b8e186"
            ],
            [
             0.8,
             "#7fbc41"
            ],
            [
             0.9,
             "#4d9221"
            ],
            [
             1,
             "#276419"
            ]
           ],
           "sequential": [
            [
             0,
             "#0d0887"
            ],
            [
             0.1111111111111111,
             "#46039f"
            ],
            [
             0.2222222222222222,
             "#7201a8"
            ],
            [
             0.3333333333333333,
             "#9c179e"
            ],
            [
             0.4444444444444444,
             "#bd3786"
            ],
            [
             0.5555555555555556,
             "#d8576b"
            ],
            [
             0.6666666666666666,
             "#ed7953"
            ],
            [
             0.7777777777777778,
             "#fb9f3a"
            ],
            [
             0.8888888888888888,
             "#fdca26"
            ],
            [
             1,
             "#f0f921"
            ]
           ],
           "sequentialminus": [
            [
             0,
             "#0d0887"
            ],
            [
             0.1111111111111111,
             "#46039f"
            ],
            [
             0.2222222222222222,
             "#7201a8"
            ],
            [
             0.3333333333333333,
             "#9c179e"
            ],
            [
             0.4444444444444444,
             "#bd3786"
            ],
            [
             0.5555555555555556,
             "#d8576b"
            ],
            [
             0.6666666666666666,
             "#ed7953"
            ],
            [
             0.7777777777777778,
             "#fb9f3a"
            ],
            [
             0.8888888888888888,
             "#fdca26"
            ],
            [
             1,
             "#f0f921"
            ]
           ]
          },
          "colorway": [
           "#636efa",
           "#EF553B",
           "#00cc96",
           "#ab63fa",
           "#FFA15A",
           "#19d3f3",
           "#FF6692",
           "#B6E880",
           "#FF97FF",
           "#FECB52"
          ],
          "font": {
           "color": "#2a3f5f"
          },
          "geo": {
           "bgcolor": "white",
           "lakecolor": "white",
           "landcolor": "white",
           "showlakes": true,
           "showland": true,
           "subunitcolor": "#C8D4E3"
          },
          "hoverlabel": {
           "align": "left"
          },
          "hovermode": "closest",
          "mapbox": {
           "style": "light"
          },
          "paper_bgcolor": "white",
          "plot_bgcolor": "white",
          "polar": {
           "angularaxis": {
            "gridcolor": "#EBF0F8",
            "linecolor": "#EBF0F8",
            "ticks": ""
           },
           "bgcolor": "white",
           "radialaxis": {
            "gridcolor": "#EBF0F8",
            "linecolor": "#EBF0F8",
            "ticks": ""
           }
          },
          "scene": {
           "xaxis": {
            "backgroundcolor": "white",
            "gridcolor": "#DFE8F3",
            "gridwidth": 2,
            "linecolor": "#EBF0F8",
            "showbackground": true,
            "ticks": "",
            "zerolinecolor": "#EBF0F8"
           },
           "yaxis": {
            "backgroundcolor": "white",
            "gridcolor": "#DFE8F3",
            "gridwidth": 2,
            "linecolor": "#EBF0F8",
            "showbackground": true,
            "ticks": "",
            "zerolinecolor": "#EBF0F8"
           },
           "zaxis": {
            "backgroundcolor": "white",
            "gridcolor": "#DFE8F3",
            "gridwidth": 2,
            "linecolor": "#EBF0F8",
            "showbackground": true,
            "ticks": "",
            "zerolinecolor": "#EBF0F8"
           }
          },
          "shapedefaults": {
           "line": {
            "color": "#2a3f5f"
           }
          },
          "ternary": {
           "aaxis": {
            "gridcolor": "#DFE8F3",
            "linecolor": "#A2B1C6",
            "ticks": ""
           },
           "baxis": {
            "gridcolor": "#DFE8F3",
            "linecolor": "#A2B1C6",
            "ticks": ""
           },
           "bgcolor": "white",
           "caxis": {
            "gridcolor": "#DFE8F3",
            "linecolor": "#A2B1C6",
            "ticks": ""
           }
          },
          "title": {
           "x": 0.05
          },
          "xaxis": {
           "automargin": true,
           "gridcolor": "#EBF0F8",
           "linecolor": "#EBF0F8",
           "ticks": "",
           "title": {
            "standoff": 15
           },
           "zerolinecolor": "#EBF0F8",
           "zerolinewidth": 2
          },
          "yaxis": {
           "automargin": true,
           "gridcolor": "#EBF0F8",
           "linecolor": "#EBF0F8",
           "ticks": "",
           "title": {
            "standoff": 15
           },
           "zerolinecolor": "#EBF0F8",
           "zerolinewidth": 2
          }
         }
        },
        "title": {
         "text": "Análisis de Precio vs Descuento por Marca (Top 15)"
        },
        "xaxis": {
         "anchor": "y",
         "domain": [
          0,
          1
         ],
         "title": {
          "text": "Precio Original (MXN)"
         }
        },
        "yaxis": {
         "anchor": "x",
         "domain": [
          0,
          1
         ],
         "title": {
          "text": "Descuento (MXN)"
         }
        }
       }
      },
      "image/png": "[encoded data removed]"
     },
     "metadata": {},
     "output_type": "display_data"
    }
   ],
   "source": [
    "# Visualización interactiva con Plotly - Precio vs Descuento por Marca\n",
    "top_brands = df_exact_clean['Brand'].value_counts().head(15).index\n",
    "df_plot = df_exact_clean[df_exact_clean['Brand'].isin(top_brands)]\n",
    "\n",
    "fig = px.scatter(\n",
    "    df_plot,\n",
    "    x='Price',\n",
    "    y='Discount',\n",
    "    color='Brand',\n",
    "    size='Discount_Percent',\n",
    "    hover_data=['Name', 'Final_Price', 'Status'],\n",
    "    title='Análisis de Precio vs Descuento por Marca (Top 15)',\n",
    "    labels={'Price': 'Precio Original (MXN)', 'Discount': 'Descuento (MXN)'},\n",
    "    template='plotly_white',\n",
    "    height=600\n",
    ")\n",
    "\n",
    "fig.update_traces(marker=dict(line=dict(width=0.5, color='DarkSlateGrey')))\n",
    "fig.show()"
   ]
  },
  {
   "cell_type": "code",
   "execution_count": 27,
   "metadata": {},
   "outputs": [
    {
     "ename": "ValueError",
     "evalue": "('None entries cannot have not-None children', ('<10K', 'aspix', 'No Competitor'))",
     "output_type": "error",
     "traceback": [
      "\u001b[31m---------------------------------------------------------------------------\u001b[39m",
      "\u001b[31mValueError\u001b[39m                                Traceback (most recent call last)",
      "\u001b[36mCell\u001b[39m\u001b[36m \u001b[39m\u001b[32mIn[27]\u001b[39m\u001b[32m, line 9\u001b[39m\n\u001b[32m      2\u001b[39m df_sunburst = df_exact_clean.copy()\n\u001b[32m      3\u001b[39m df_sunburst[\u001b[33m'\u001b[39m\u001b[33mPrice_Range\u001b[39m\u001b[33m'\u001b[39m] = pd.cut(\n\u001b[32m      4\u001b[39m     df_sunburst[\u001b[33m'\u001b[39m\u001b[33mPrice\u001b[39m\u001b[33m'\u001b[39m],\n\u001b[32m      5\u001b[39m     bins=[\u001b[32m0\u001b[39m, \u001b[32m10000\u001b[39m, \u001b[32m20000\u001b[39m, \u001b[32m30000\u001b[39m, \u001b[32m100000\u001b[39m],\n\u001b[32m      6\u001b[39m     labels=[\u001b[33m'\u001b[39m\u001b[33m<10K\u001b[39m\u001b[33m'\u001b[39m, \u001b[33m'\u001b[39m\u001b[33m10K-20K\u001b[39m\u001b[33m'\u001b[39m, \u001b[33m'\u001b[39m\u001b[33m20K-30K\u001b[39m\u001b[33m'\u001b[39m, \u001b[33m'\u001b[39m\u001b[33m>30K\u001b[39m\u001b[33m'\u001b[39m]\n\u001b[32m      7\u001b[39m )\n\u001b[32m----> \u001b[39m\u001b[32m9\u001b[39m fig = \u001b[43mpx\u001b[49m\u001b[43m.\u001b[49m\u001b[43msunburst\u001b[49m\u001b[43m(\u001b[49m\n\u001b[32m     10\u001b[39m \u001b[43m    \u001b[49m\u001b[43mdf_sunburst\u001b[49m\u001b[43m,\u001b[49m\n\u001b[32m     11\u001b[39m \u001b[43m    \u001b[49m\u001b[43mpath\u001b[49m\u001b[43m=\u001b[49m\u001b[43m[\u001b[49m\u001b[33;43m'\u001b[39;49m\u001b[33;43mPrice_Range\u001b[39;49m\u001b[33;43m'\u001b[39;49m\u001b[43m,\u001b[49m\u001b[43m \u001b[49m\u001b[33;43m'\u001b[39;49m\u001b[33;43mBrand\u001b[39;49m\u001b[33;43m'\u001b[39;49m\u001b[43m,\u001b[49m\u001b[43m \u001b[49m\u001b[33;43m'\u001b[39;49m\u001b[33;43mStatus\u001b[39;49m\u001b[33;43m'\u001b[39;49m\u001b[43m]\u001b[49m\u001b[43m,\u001b[49m\n\u001b[32m     12\u001b[39m \u001b[43m    \u001b[49m\u001b[43mvalues\u001b[49m\u001b[43m=\u001b[49m\u001b[33;43m'\u001b[39;49m\u001b[33;43mPrice\u001b[39;49m\u001b[33;43m'\u001b[39;49m\u001b[43m,\u001b[49m\n\u001b[32m     13\u001b[39m \u001b[43m    \u001b[49m\u001b[43mtitle\u001b[49m\u001b[43m=\u001b[49m\u001b[33;43m'\u001b[39;49m\u001b[33;43mDistribución Jerárquica: Rango de Precio > Marca > Status\u001b[39;49m\u001b[33;43m'\u001b[39;49m\u001b[43m,\u001b[49m\n\u001b[32m     14\u001b[39m \u001b[43m    \u001b[49m\u001b[43mcolor\u001b[49m\u001b[43m=\u001b[49m\u001b[33;43m'\u001b[39;49m\u001b[33;43mPrice\u001b[39;49m\u001b[33;43m'\u001b[39;49m\u001b[43m,\u001b[49m\n\u001b[32m     15\u001b[39m \u001b[43m    \u001b[49m\u001b[43mcolor_continuous_scale\u001b[49m\u001b[43m=\u001b[49m\u001b[33;43m'\u001b[39;49m\u001b[33;43mRdYlGn_r\u001b[39;49m\u001b[33;43m'\u001b[39;49m\u001b[43m,\u001b[49m\n\u001b[32m     16\u001b[39m \u001b[43m    \u001b[49m\u001b[43mheight\u001b[49m\u001b[43m=\u001b[49m\u001b[32;43m700\u001b[39;49m\n\u001b[32m     17\u001b[39m \u001b[43m)\u001b[49m\n\u001b[32m     19\u001b[39m fig.show()\n",
      "\u001b[36mFile \u001b[39m\u001b[32m~/anaconda3/envs/webscraping-analysis/lib/python3.11/site-packages/plotly/express/_chart_types.py:1781\u001b[39m, in \u001b[36msunburst\u001b[39m\u001b[34m(data_frame, names, values, parents, path, ids, color, color_continuous_scale, range_color, color_continuous_midpoint, color_discrete_sequence, color_discrete_map, hover_name, hover_data, custom_data, labels, title, subtitle, template, width, height, branchvalues, maxdepth)\u001b[39m\n\u001b[32m   1779\u001b[39m \u001b[38;5;28;01mif\u001b[39;00m path \u001b[38;5;129;01mis\u001b[39;00m \u001b[38;5;129;01mnot\u001b[39;00m \u001b[38;5;28;01mNone\u001b[39;00m \u001b[38;5;129;01mand\u001b[39;00m branchvalues \u001b[38;5;129;01mis\u001b[39;00m \u001b[38;5;28;01mNone\u001b[39;00m:\n\u001b[32m   1780\u001b[39m     branchvalues = \u001b[33m\"\u001b[39m\u001b[33mtotal\u001b[39m\u001b[33m\"\u001b[39m\n\u001b[32m-> \u001b[39m\u001b[32m1781\u001b[39m \u001b[38;5;28;01mreturn\u001b[39;00m \u001b[43mmake_figure\u001b[49m\u001b[43m(\u001b[49m\n\u001b[32m   1782\u001b[39m \u001b[43m    \u001b[49m\u001b[43margs\u001b[49m\u001b[43m=\u001b[49m\u001b[38;5;28;43mlocals\u001b[39;49m\u001b[43m(\u001b[49m\u001b[43m)\u001b[49m\u001b[43m,\u001b[49m\n\u001b[32m   1783\u001b[39m \u001b[43m    \u001b[49m\u001b[43mconstructor\u001b[49m\u001b[43m=\u001b[49m\u001b[43mgo\u001b[49m\u001b[43m.\u001b[49m\u001b[43mSunburst\u001b[49m\u001b[43m,\u001b[49m\n\u001b[32m   1784\u001b[39m \u001b[43m    \u001b[49m\u001b[43mtrace_patch\u001b[49m\u001b[43m=\u001b[49m\u001b[38;5;28;43mdict\u001b[39;49m\u001b[43m(\u001b[49m\u001b[43mbranchvalues\u001b[49m\u001b[43m=\u001b[49m\u001b[43mbranchvalues\u001b[49m\u001b[43m,\u001b[49m\u001b[43m \u001b[49m\u001b[43mmaxdepth\u001b[49m\u001b[43m=\u001b[49m\u001b[43mmaxdepth\u001b[49m\u001b[43m)\u001b[49m\u001b[43m,\u001b[49m\n\u001b[32m   1785\u001b[39m \u001b[43m    \u001b[49m\u001b[43mlayout_patch\u001b[49m\u001b[43m=\u001b[49m\u001b[43mlayout_patch\u001b[49m\u001b[43m,\u001b[49m\n\u001b[32m   1786\u001b[39m \u001b[43m\u001b[49m\u001b[43m)\u001b[49m\n",
      "\u001b[36mFile \u001b[39m\u001b[32m~/anaconda3/envs/webscraping-analysis/lib/python3.11/site-packages/plotly/express/_core.py:2493\u001b[39m, in \u001b[36mmake_figure\u001b[39m\u001b[34m(args, constructor, trace_patch, layout_patch)\u001b[39m\n\u001b[32m   2491\u001b[39m args = build_dataframe(args, constructor)\n\u001b[32m   2492\u001b[39m \u001b[38;5;28;01mif\u001b[39;00m constructor \u001b[38;5;129;01min\u001b[39;00m [go.Treemap, go.Sunburst, go.Icicle] \u001b[38;5;129;01mand\u001b[39;00m args[\u001b[33m\"\u001b[39m\u001b[33mpath\u001b[39m\u001b[33m\"\u001b[39m] \u001b[38;5;129;01mis\u001b[39;00m \u001b[38;5;129;01mnot\u001b[39;00m \u001b[38;5;28;01mNone\u001b[39;00m:\n\u001b[32m-> \u001b[39m\u001b[32m2493\u001b[39m     args = \u001b[43mprocess_dataframe_hierarchy\u001b[49m\u001b[43m(\u001b[49m\u001b[43margs\u001b[49m\u001b[43m)\u001b[49m\n\u001b[32m   2494\u001b[39m \u001b[38;5;28;01mif\u001b[39;00m constructor \u001b[38;5;129;01min\u001b[39;00m [go.Pie]:\n\u001b[32m   2495\u001b[39m     args, trace_patch = process_dataframe_pie(args, trace_patch)\n",
      "\u001b[36mFile \u001b[39m\u001b[32m~/anaconda3/envs/webscraping-analysis/lib/python3.11/site-packages/plotly/express/_core.py:1916\u001b[39m, in \u001b[36mprocess_dataframe_hierarchy\u001b[39m\u001b[34m(args)\u001b[39m\n\u001b[32m   1914\u001b[39m df: nw.DataFrame = args[\u001b[33m\"\u001b[39m\u001b[33mdata_frame\u001b[39m\u001b[33m\"\u001b[39m]\n\u001b[32m   1915\u001b[39m path = args[\u001b[33m\"\u001b[39m\u001b[33mpath\u001b[39m\u001b[33m\"\u001b[39m][::-\u001b[32m1\u001b[39m]\n\u001b[32m-> \u001b[39m\u001b[32m1916\u001b[39m \u001b[43m_check_dataframe_all_leaves\u001b[49m\u001b[43m(\u001b[49m\u001b[43mdf\u001b[49m\u001b[43m[\u001b[49m\u001b[43mpath\u001b[49m\u001b[43m[\u001b[49m\u001b[43m:\u001b[49m\u001b[43m:\u001b[49m\u001b[43m-\u001b[49m\u001b[32;43m1\u001b[39;49m\u001b[43m]\u001b[49m\u001b[43m]\u001b[49m\u001b[43m)\u001b[49m\n\u001b[32m   1917\u001b[39m discrete_color = \u001b[38;5;129;01mnot\u001b[39;00m _is_continuous(df, args[\u001b[33m\"\u001b[39m\u001b[33mcolor\u001b[39m\u001b[33m\"\u001b[39m]) \u001b[38;5;28;01mif\u001b[39;00m args[\u001b[33m\"\u001b[39m\u001b[33mcolor\u001b[39m\u001b[33m\"\u001b[39m] \u001b[38;5;28;01melse\u001b[39;00m \u001b[38;5;28;01mFalse\u001b[39;00m\n\u001b[32m   1919\u001b[39m df = df.lazy()\n",
      "\u001b[36mFile \u001b[39m\u001b[32m~/anaconda3/envs/webscraping-analysis/lib/python3.11/site-packages/plotly/express/_core.py:1871\u001b[39m, in \u001b[36m_check_dataframe_all_leaves\u001b[39m\u001b[34m(df)\u001b[39m\n\u001b[32m   1869\u001b[39m         \u001b[38;5;28;01mif\u001b[39;00m nw.to_py_scalar(null_entries_with_non_null_children.any()):\n\u001b[32m   1870\u001b[39m             row_idx = null_entries_with_non_null_children.to_list().index(\u001b[38;5;28;01mTrue\u001b[39;00m)\n\u001b[32m-> \u001b[39m\u001b[32m1871\u001b[39m             \u001b[38;5;28;01mraise\u001b[39;00m \u001b[38;5;167;01mValueError\u001b[39;00m(\n\u001b[32m   1872\u001b[39m                 \u001b[33m\"\u001b[39m\u001b[33mNone entries cannot have not-None children\u001b[39m\u001b[33m\"\u001b[39m,\n\u001b[32m   1873\u001b[39m                 df_sorted.row(row_idx),\n\u001b[32m   1874\u001b[39m             )\n\u001b[32m   1876\u001b[39m fill_series = nw.new_series(\n\u001b[32m   1877\u001b[39m     name=\u001b[33m\"\u001b[39m\u001b[33mfill_value\u001b[39m\u001b[33m\"\u001b[39m,\n\u001b[32m   1878\u001b[39m     values=[\u001b[33m\"\u001b[39m\u001b[33m\"\u001b[39m] * \u001b[38;5;28mlen\u001b[39m(df_sorted),\n\u001b[32m   1879\u001b[39m     dtype=nw.String(),\n\u001b[32m   1880\u001b[39m     native_namespace=nw.get_native_namespace(df_sorted),\n\u001b[32m   1881\u001b[39m )\n\u001b[32m   1882\u001b[39m df_sorted = df_sorted.with_columns(\n\u001b[32m   1883\u001b[39m     **{\n\u001b[32m   1884\u001b[39m         c: df_sorted.get_column(c).zip_with(~null_mask.get_column(c), fill_series)\n\u001b[32m   1885\u001b[39m         \u001b[38;5;28;01mfor\u001b[39;00m c \u001b[38;5;129;01min\u001b[39;00m cols\n\u001b[32m   1886\u001b[39m     }\n\u001b[32m   1887\u001b[39m )\n",
      "\u001b[31mValueError\u001b[39m: ('None entries cannot have not-None children', ('<10K', 'aspix', 'No Competitor'))"
     ]
    }
   ],
   "source": [
    "# Sunburst chart - Jerarquía de precios por marca y status\n",
    "df_sunburst = df_exact_clean.copy()\n",
    "df_sunburst['Price_Range'] = pd.cut(\n",
    "    df_sunburst['Price'],\n",
    "    bins=[0, 10000, 20000, 30000, 100000],\n",
    "    labels=['<10K', '10K-20K', '20K-30K', '>30K']\n",
    ")\n",
    "\n",
    "fig = px.sunburst(\n",
    "    df_sunburst,\n",
    "    path=['Price_Range', 'Brand', 'Status'],\n",
    "    values='Price',\n",
    "    title='Distribución Jerárquica: Rango de Precio > Marca > Status',\n",
    "    color='Price',\n",
    "    color_continuous_scale='RdYlGn_r',\n",
    "    height=700\n",
    ")\n",
    "\n",
    "fig.show()"
   ]
  },
  {
   "cell_type": "code",
   "execution_count": 28,
   "metadata": {},
   "outputs": [
    {
     "name": "stdout",
     "output_type": "stream",
     "text": [
      "\n",
      "📊 MATRIZ DE CORRELACIÓN\n",
      "================================================================================\n"
     ]
    },
    {
     "data": {
      "image/png": "[encoded data removed]",
      "text/plain": [
       "<Figure size 1000x800 with 2 Axes>"
      ]
     },
     "metadata": {},
     "output_type": "display_data"
    }
   ],
   "source": [
    "# Heatmap de correlación\n",
    "print(\"\\n📊 MATRIZ DE CORRELACIÓN\")\n",
    "print(\"=\" * 80)\n",
    "\n",
    "# Seleccionar columnas numéricas relevantes\n",
    "numeric_cols_exact = ['Price', 'Discount', 'Final_Price', 'Discount_Percent', 'Difference']\n",
    "corr_matrix_exact = df_exact_clean[numeric_cols_exact].corr()\n",
    "\n",
    "fig, ax = plt.subplots(figsize=(10, 8))\n",
    "sns.heatmap(\n",
    "    corr_matrix_exact,\n",
    "    annot=True,\n",
    "    fmt='.2f',\n",
    "    cmap='coolwarm',\n",
    "    center=0,\n",
    "    square=True,\n",
    "    linewidths=1,\n",
    "    cbar_kws={'shrink': 0.8},\n",
    "    ax=ax\n",
    ")\n",
    "plt.title('Matriz de Correlación - Variables de Precio', fontsize=14, fontweight='bold', pad=20)\n",
    "plt.tight_layout()\n",
    "plt.show()"
   ]
  },
  {
   "cell_type": "markdown",
   "metadata": {},
   "source": [
    "## 7. Insights y Recomendaciones"
   ]
  },
  {
   "cell_type": "code",
   "execution_count": 29,
   "metadata": {},
   "outputs": [
    {
     "name": "stdout",
     "output_type": "stream",
     "text": [
      "\n",
      "🎯 INSIGHTS Y HALLAZGOS CLAVE\n",
      "================================================================================\n",
      "\n",
      "1. OPORTUNIDADES DE MERCADO\n",
      "   - Productos sin competencia identificada: 108 (54.0%)\n",
      "   - Valor total de inventario sin competencia: $1,550,850.00 MXN\n",
      "\n",
      "2. DISPONIBILIDAD\n",
      "   - Productos fuera de stock: 0 (0.0%)\n",
      "   - Oportunidad de venta perdida: $0.00 MXN\n",
      "\n",
      "3. ESTRATEGIA DE PRECIOS\n",
      "   - Descuento promedio en el mercado: 36.20%\n",
      "   - Precio promedio de mercado: $13,385.43 MXN\n",
      "   - Rango de precios: $-46,801.00 - $91,999.00 MXN\n",
      "\n",
      "4. COMPETENCIA POR MARCA\n",
      "   - Total de marcas identificadas: 24\n",
      "   - Top 5 marcas con más productos:\n",
      "     1. Samsung: 41 productos\n",
      "     2. Lg: 31 productos\n",
      "     3. Mabe: 25 productos\n",
      "     4. Whirlpool: 24 productos\n",
      "     5. Midea: 20 productos\n",
      "\n",
      "5. CARACTERÍSTICAS TÉCNICAS\n",
      "   - Capacidad promedio: 14.95 pies cúbicos\n",
      "   - Capacidad más común: 15.0 pies cúbicos\n",
      "\n",
      "================================================================================\n"
     ]
    }
   ],
   "source": [
    "# Generar insights automáticos\n",
    "print(\"\\n🎯 INSIGHTS Y HALLAZGOS CLAVE\")\n",
    "print(\"=\" * 80)\n",
    "\n",
    "# 1. Productos sin competencia\n",
    "no_competitor = df_exact_clean[df_exact_clean['Status'] == 'No Competitor']\n",
    "print(f\"\\n1. OPORTUNIDADES DE MERCADO\")\n",
    "print(f\"   - Productos sin competencia identificada: {len(no_competitor)} ({len(no_competitor)/len(df_exact_clean)*100:.1f}%)\")\n",
    "print(f\"   - Valor total de inventario sin competencia: ${no_competitor['Final_Price'].sum():,.2f} MXN\")\n",
    "\n",
    "# 2. Productos fuera de stock\n",
    "out_of_stock = df_exact_clean[df_exact_clean['Out'] == True]\n",
    "print(f\"\\n2. DISPONIBILIDAD\")\n",
    "print(f\"   - Productos fuera de stock: {len(out_of_stock)} ({len(out_of_stock)/len(df_exact_clean)*100:.1f}%)\")\n",
    "print(f\"   - Oportunidad de venta perdida: ${out_of_stock['Final_Price'].sum():,.2f} MXN\")\n",
    "\n",
    "# 3. Análisis de pricing\n",
    "avg_discount_pct = df_exact_clean[df_exact_clean['Discount'] > 0]['Discount_Percent'].mean()\n",
    "print(f\"\\n3. ESTRATEGIA DE PRECIOS\")\n",
    "print(f\"   - Descuento promedio en el mercado: {avg_discount_pct:.2f}%\")\n",
    "print(f\"   - Precio promedio de mercado: ${df_exact_clean['Final_Price'].mean():,.2f} MXN\")\n",
    "print(f\"   - Rango de precios: ${df_exact_clean['Final_Price'].min():,.2f} - ${df_exact_clean['Final_Price'].max():,.2f} MXN\")\n",
    "\n",
    "# 4. Marcas más competitivas\n",
    "brand_count = df_exact_clean['Brand'].value_counts()\n",
    "print(f\"\\n4. COMPETENCIA POR MARCA\")\n",
    "print(f\"   - Total de marcas identificadas: {len(brand_count)}\")\n",
    "print(f\"   - Top 5 marcas con más productos:\")\n",
    "for i, (brand, count) in enumerate(brand_count.head(5).items(), 1):\n",
    "    print(f\"     {i}. {brand.title()}: {count} productos\")\n",
    "\n",
    "# 5. Análisis de capacidad (si disponible)\n",
    "if 'Capacity_Numeric' in df_detailed_clean.columns:\n",
    "    capacity_data = df_detailed_clean[df_detailed_clean['Capacity_Numeric'].notna()]\n",
    "    avg_capacity = capacity_data['Capacity_Numeric'].mean()\n",
    "    print(f\"\\n5. CARACTERÍSTICAS TÉCNICAS\")\n",
    "    print(f\"   - Capacidad promedio: {avg_capacity:.2f} pies cúbicos\")\n",
    "    print(f\"   - Capacidad más común: {capacity_data['Capacity_Numeric'].mode().values[0]:.1f} pies cúbicos\")\n",
    "\n",
    "print(\"\\n\" + \"=\" * 80)"
   ]
  },
  {
   "cell_type": "code",
   "execution_count": 30,
   "metadata": {},
   "outputs": [
    {
     "name": "stdout",
     "output_type": "stream",
     "text": [
      "\n",
      "💡 RECOMENDACIONES ESTRATÉGICAS\n",
      "================================================================================\n",
      "\n",
      "1. OPTIMIZACIÓN DE PRECIOS:\n",
      "   • Evaluar ajuste de precios en productos con descuentos significativamente mayores \n",
      "     a la media del mercado (36.20%)\n",
      "   • Considerar descuentos estratégicos en productos sin competencia identificada\n",
      "   • Implementar dynamic pricing basado en disponibilidad de competencia\n",
      "\n",
      "2. GESTIÓN DE INVENTARIO:\n",
      "   • Priorizar reabastecimiento de 0 productos fuera de stock\n",
      "   • Oportunidad estimada de venta: $0.00 MXN\n",
      "   • Implementar sistema de alertas para productos con alta rotación\n",
      "\n",
      "3. INTELIGENCIA COMPETITIVA:\n",
      "   • Monitorear continuamente los 108 productos sin match de competencia\n",
      "   • Establecer benchmarks de precio por marca y capacidad\n",
      "   • Implementar tracking automático de cambios de precio\n",
      "\n",
      "4. ESTRATEGIA DE PRODUCTO:\n",
      "   • Diversificar portafolio en rangos de capacidad con alta demanda\n",
      "   • Evaluar entrada a segmentos de precio premium (>$30,000 MXN)\n",
      "   • Fortalecer oferta en marcas top con alto volumen\n",
      "\n",
      "5. ANÁLISIS CONTINUO:\n",
      "   • Implementar dashboard de monitoreo en tiempo real\n",
      "   • Actualizar datos de scraping con frecuencia semanal\n",
      "   • Desarrollar modelos predictivos de elasticidad de precio\n",
      "\n",
      "================================================================================\n"
     ]
    }
   ],
   "source": [
    "# Recomendaciones estratégicas\n",
    "print(\"\\n💡 RECOMENDACIONES ESTRATÉGICAS\")\n",
    "print(\"=\" * 80)\n",
    "\n",
    "print(\"\"\"\n",
    "1. OPTIMIZACIÓN DE PRECIOS:\n",
    "   • Evaluar ajuste de precios en productos con descuentos significativamente mayores \n",
    "     a la media del mercado ({:.2f}%)\n",
    "   • Considerar descuentos estratégicos en productos sin competencia identificada\n",
    "   • Implementar dynamic pricing basado en disponibilidad de competencia\n",
    "\n",
    "2. GESTIÓN DE INVENTARIO:\n",
    "   • Priorizar reabastecimiento de {} productos fuera de stock\n",
    "   • Oportunidad estimada de venta: ${:,.2f} MXN\n",
    "   • Implementar sistema de alertas para productos con alta rotación\n",
    "\n",
    "3. INTELIGENCIA COMPETITIVA:\n",
    "   • Monitorear continuamente los {} productos sin match de competencia\n",
    "   • Establecer benchmarks de precio por marca y capacidad\n",
    "   • Implementar tracking automático de cambios de precio\n",
    "\n",
    "4. ESTRATEGIA DE PRODUCTO:\n",
    "   • Diversificar portafolio en rangos de capacidad con alta demanda\n",
    "   • Evaluar entrada a segmentos de precio premium (>$30,000 MXN)\n",
    "   • Fortalecer oferta en marcas top con alto volumen\n",
    "\n",
    "5. ANÁLISIS CONTINUO:\n",
    "   • Implementar dashboard de monitoreo en tiempo real\n",
    "   • Actualizar datos de scraping con frecuencia semanal\n",
    "   • Desarrollar modelos predictivos de elasticidad de precio\n",
    "\"\"\".format(\n",
    "    avg_discount_pct,\n",
    "    len(out_of_stock),\n",
    "    out_of_stock['Final_Price'].sum(),\n",
    "    len(no_competitor)\n",
    "))\n",
    "\n",
    "print(\"=\" * 80)"
   ]
  },
  {
   "cell_type": "code",
   "execution_count": 31,
   "metadata": {},
   "outputs": [
    {
     "name": "stdout",
     "output_type": "stream",
     "text": [
      "\n",
      "💾 EXPORTANDO RESULTADOS\n",
      "================================================================================\n",
      "✓ Exportado: productos_sin_competencia.csv\n",
      "✓ Exportado: productos_fuera_stock.csv\n",
      "✓ Exportado: top_descuentos.csv\n",
      "✓ Exportado: estadisticas_por_marca.csv\n",
      "\n",
      "✓ Todos los archivos exportados exitosamente a la carpeta 'outputs/'\n"
     ]
    }
   ],
   "source": [
    "# Exportar resultados clave\n",
    "print(\"\\n💾 EXPORTANDO RESULTADOS\")\n",
    "print(\"=\" * 80)\n",
    "\n",
    "# Crear carpeta de outputs si no existe\n",
    "import os\n",
    "os.makedirs('outputs', exist_ok=True)\n",
    "\n",
    "# Exportar productos sin competencia\n",
    "no_competitor.to_csv('outputs/productos_sin_competencia.csv', index=False)\n",
    "print(\"✓ Exportado: productos_sin_competencia.csv\")\n",
    "\n",
    "# Exportar productos fuera de stock\n",
    "out_of_stock.to_csv('outputs/productos_fuera_stock.csv', index=False)\n",
    "print(\"✓ Exportado: productos_fuera_stock.csv\")\n",
    "\n",
    "# Exportar top productos con descuento\n",
    "top_discount_exact.to_csv('outputs/top_descuentos.csv', index=False)\n",
    "print(\"✓ Exportado: top_descuentos.csv\")\n",
    "\n",
    "# Exportar estadísticas por marca\n",
    "brand_stats_exact.to_csv('outputs/estadisticas_por_marca.csv')\n",
    "print(\"✓ Exportado: estadisticas_por_marca.csv\")\n",
    "\n",
    "print(\"\\n✓ Todos los archivos exportados exitosamente a la carpeta 'outputs/'\")"
   ]
  },
  {
   "cell_type": "markdown",
   "metadata": {},
   "source": [
    "---\n",
    "\n",
    "## Conclusión\n",
    "\n",
    "Este análisis proporciona una visión completa del panorama competitivo de Coppel México en la categoría de refrigeradores. Los datos recopilados mediante web scraping permiten identificar oportunidades de optimización de precios, gestión de inventario y estrategia de producto.\n",
    "\n",
    "### Próximos Pasos Recomendados:\n",
    "\n",
    "1. **Automatización**: Implementar pipeline de actualización automática de datos\n",
    "2. **Dashboard**: Crear dashboard interactivo con Plotly Dash o Streamlit\n",
    "3. **Modelos Predictivos**: Desarrollar modelos de elasticidad de precio y forecasting\n",
    "4. **Alertas**: Sistema de notificaciones para cambios significativos en competencia\n",
    "5. **Expansión**: Extender análisis a otras categorías de productos\n",
    "\n",
    "---\n",
    "\n",
    "**Documento generado**: {}\n",
    "\n",
    "**Analista**: Sistema Automatizado de Análisis Competitivo\n",
    "\".format(datetime.now().strftime('%Y-%m-%d %H:%M:%S'))"
   ]
  },
  {
   "cell_type": "code",
   "execution_count": null,
   "metadata": {},
   "outputs": [],
   "source": []
  }
 ],
 "metadata": {
  "kernelspec": {
   "display_name": "Python 3 (ipykernel)",
   "language": "python",
   "name": "python3"
  },
  "language_info": {
   "codemirror_mode": {
    "name": "ipython",
    "version": 3
   },
   "file_extension": ".py",
   "mimetype": "text/x-python",
   "name": "python",
   "nbconvert_exporter": "python",
   "pygments_lexer": "ipython3",
   "version": "3.11.14"
  }
 },
 "nbformat": 4,
 "nbformat_minor": 4
}
